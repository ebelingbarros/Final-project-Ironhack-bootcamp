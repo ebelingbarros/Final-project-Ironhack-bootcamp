{
 "cells": [
  {
   "cell_type": "markdown",
   "metadata": {},
   "source": [
    "# Multi class Random Forest modelling to predict states"
   ]
  },
  {
   "cell_type": "markdown",
   "metadata": {},
   "source": [
    "### Import libraries and load data"
   ]
  },
  {
   "cell_type": "code",
   "execution_count": 2,
   "metadata": {},
   "outputs": [
    {
     "name": "stdout",
     "output_type": "stream",
     "text": [
      "False\n"
     ]
    }
   ],
   "source": [
    "#Importing Libraries\n",
    "import numpy as np\n",
    "import pandas as pd\n",
    "from sklearn.model_selection import train_test_split\n",
    "from sklearn.preprocessing import StandardScaler\n",
    "from sklearn.ensemble import RandomForestClassifier\n",
    "from sklearn.metrics import confusion_matrix\n",
    "from sklearn.ensemble import RandomForestRegressor\n",
    "from sklearn.metrics import log_loss\n",
    "import numpy as np\n",
    "import matplotlib.pyplot as plt\n",
    "%matplotlib inline\n",
    "import seaborn as sns\n",
    "import plotly.express as px\n",
    "from sklearn.metrics import roc_auc_score\n",
    "import plotly.graph_objects as go\n",
    "from sklearn.metrics import accuracy_score, confusion_matrix, classification_report\n",
    "import warnings\n",
    "import numpy as np\n",
    "warnings.simplefilter(action='ignore', category=FutureWarning)\n",
    "print('x' in np.arange(5))   #returns False, without Warning"
   ]
  },
  {
   "cell_type": "code",
   "execution_count": 3,
   "metadata": {},
   "outputs": [
    {
     "data": {
      "text/html": [
       "<div>\n",
       "<style scoped>\n",
       "    .dataframe tbody tr th:only-of-type {\n",
       "        vertical-align: middle;\n",
       "    }\n",
       "\n",
       "    .dataframe tbody tr th {\n",
       "        vertical-align: top;\n",
       "    }\n",
       "\n",
       "    .dataframe thead th {\n",
       "        text-align: right;\n",
       "    }\n",
       "</style>\n",
       "<table border=\"1\" class=\"dataframe\">\n",
       "  <thead>\n",
       "    <tr style=\"text-align: right;\">\n",
       "      <th></th>\n",
       "      <th>Unnamed: 0</th>\n",
       "      <th>id</th>\n",
       "      <th>plant</th>\n",
       "      <th>size</th>\n",
       "      <th>number</th>\n",
       "      <th>auction</th>\n",
       "      <th>capacity</th>\n",
       "      <th>physical_guarantee</th>\n",
       "      <th>sold_lots</th>\n",
       "      <th>source</th>\n",
       "      <th>...</th>\n",
       "      <th>gkf</th>\n",
       "      <th>fdi</th>\n",
       "      <th>primary_energy_consumption</th>\n",
       "      <th>g</th>\n",
       "      <th>exch</th>\n",
       "      <th>inv_US$_billion</th>\n",
       "      <th>state</th>\n",
       "      <th>inv_size</th>\n",
       "      <th>physical_guarantee_size</th>\n",
       "      <th>distance_from_last_auction</th>\n",
       "    </tr>\n",
       "  </thead>\n",
       "  <tbody>\n",
       "    <tr>\n",
       "      <th>0</th>\n",
       "      <td>0</td>\n",
       "      <td>1</td>\n",
       "      <td>UHE Foz do Rio Claro</td>\n",
       "      <td>0.091</td>\n",
       "      <td>11</td>\n",
       "      <td>Leilão 2/2005</td>\n",
       "      <td>68.4</td>\n",
       "      <td>41.0</td>\n",
       "      <td>41.0</td>\n",
       "      <td>hydro</td>\n",
       "      <td>...</td>\n",
       "      <td>17.204883</td>\n",
       "      <td>1.733901</td>\n",
       "      <td>8.86</td>\n",
       "      <td>84956.3</td>\n",
       "      <td>2.3399</td>\n",
       "      <td>0.120104543</td>\n",
       "      <td>GO</td>\n",
       "      <td>10918594.82</td>\n",
       "      <td>3.727273</td>\n",
       "      <td>0.798005</td>\n",
       "    </tr>\n",
       "    <tr>\n",
       "      <th>1</th>\n",
       "      <td>1</td>\n",
       "      <td>2</td>\n",
       "      <td>UHE São José</td>\n",
       "      <td>0.091</td>\n",
       "      <td>11</td>\n",
       "      <td>Leilão 2/2005</td>\n",
       "      <td>51.0</td>\n",
       "      <td>30.4</td>\n",
       "      <td>30.0</td>\n",
       "      <td>hydro</td>\n",
       "      <td>...</td>\n",
       "      <td>17.204883</td>\n",
       "      <td>1.733901</td>\n",
       "      <td>8.86</td>\n",
       "      <td>84956.3</td>\n",
       "      <td>2.3399</td>\n",
       "      <td>0.08931406</td>\n",
       "      <td>RS</td>\n",
       "      <td>8119460.00</td>\n",
       "      <td>2.763636</td>\n",
       "      <td>0.798005</td>\n",
       "    </tr>\n",
       "    <tr>\n",
       "      <th>2</th>\n",
       "      <td>2</td>\n",
       "      <td>3</td>\n",
       "      <td>UHE Passo São João</td>\n",
       "      <td>0.091</td>\n",
       "      <td>11</td>\n",
       "      <td>Leilão 2/2005</td>\n",
       "      <td>77.0</td>\n",
       "      <td>39.0</td>\n",
       "      <td>37.0</td>\n",
       "      <td>hydro</td>\n",
       "      <td>...</td>\n",
       "      <td>17.204883</td>\n",
       "      <td>1.733901</td>\n",
       "      <td>8.86</td>\n",
       "      <td>84956.3</td>\n",
       "      <td>2.3399</td>\n",
       "      <td>0.114362101</td>\n",
       "      <td>RS</td>\n",
       "      <td>10396554.64</td>\n",
       "      <td>3.545455</td>\n",
       "      <td>0.798005</td>\n",
       "    </tr>\n",
       "    <tr>\n",
       "      <th>3</th>\n",
       "      <td>3</td>\n",
       "      <td>4</td>\n",
       "      <td>UHE Simplício</td>\n",
       "      <td>0.091</td>\n",
       "      <td>11</td>\n",
       "      <td>Leilão 2/2005</td>\n",
       "      <td>337.7</td>\n",
       "      <td>191.3</td>\n",
       "      <td>185.0</td>\n",
       "      <td>hydro</td>\n",
       "      <td>...</td>\n",
       "      <td>17.204883</td>\n",
       "      <td>1.733901</td>\n",
       "      <td>8.86</td>\n",
       "      <td>84956.3</td>\n",
       "      <td>2.3399</td>\n",
       "      <td>0.616054447</td>\n",
       "      <td>RJ</td>\n",
       "      <td>56004949.73</td>\n",
       "      <td>17.390909</td>\n",
       "      <td>0.798005</td>\n",
       "    </tr>\n",
       "    <tr>\n",
       "      <th>4</th>\n",
       "      <td>4</td>\n",
       "      <td>5</td>\n",
       "      <td>UHE Retiro Baixo</td>\n",
       "      <td>0.091</td>\n",
       "      <td>11</td>\n",
       "      <td>Leilão 2/2005</td>\n",
       "      <td>82.0</td>\n",
       "      <td>38.5</td>\n",
       "      <td>36.0</td>\n",
       "      <td>hydro</td>\n",
       "      <td>...</td>\n",
       "      <td>17.204883</td>\n",
       "      <td>1.733901</td>\n",
       "      <td>8.86</td>\n",
       "      <td>84956.3</td>\n",
       "      <td>2.3399</td>\n",
       "      <td>0.112149186</td>\n",
       "      <td>MG</td>\n",
       "      <td>10195380.55</td>\n",
       "      <td>3.500000</td>\n",
       "      <td>0.798005</td>\n",
       "    </tr>\n",
       "  </tbody>\n",
       "</table>\n",
       "<p>5 rows × 26 columns</p>\n",
       "</div>"
      ],
      "text/plain": [
       "   Unnamed: 0  id                 plant   size  number        auction  \\\n",
       "0           0   1  UHE Foz do Rio Claro  0.091      11  Leilão 2/2005   \n",
       "1           1   2          UHE São José  0.091      11  Leilão 2/2005   \n",
       "2           2   3    UHE Passo São João  0.091      11  Leilão 2/2005   \n",
       "3           3   4         UHE Simplício  0.091      11  Leilão 2/2005   \n",
       "4           4   5      UHE Retiro Baixo  0.091      11  Leilão 2/2005   \n",
       "\n",
       "   capacity  physical_guarantee  sold_lots source  ...        gkf       fdi  \\\n",
       "0      68.4                41.0       41.0  hydro  ...  17.204883  1.733901   \n",
       "1      51.0                30.4       30.0  hydro  ...  17.204883  1.733901   \n",
       "2      77.0                39.0       37.0  hydro  ...  17.204883  1.733901   \n",
       "3     337.7               191.3      185.0  hydro  ...  17.204883  1.733901   \n",
       "4      82.0                38.5       36.0  hydro  ...  17.204883  1.733901   \n",
       "\n",
       "   primary_energy_consumption        g    exch  inv_US$_billion  state  \\\n",
       "0                        8.86  84956.3  2.3399      0.120104543     GO   \n",
       "1                        8.86  84956.3  2.3399       0.08931406     RS   \n",
       "2                        8.86  84956.3  2.3399      0.114362101     RS   \n",
       "3                        8.86  84956.3  2.3399      0.616054447     RJ   \n",
       "4                        8.86  84956.3  2.3399      0.112149186     MG   \n",
       "\n",
       "      inv_size  physical_guarantee_size  distance_from_last_auction  \n",
       "0  10918594.82                 3.727273                    0.798005  \n",
       "1   8119460.00                 2.763636                    0.798005  \n",
       "2  10396554.64                 3.545455                    0.798005  \n",
       "3  56004949.73                17.390909                    0.798005  \n",
       "4  10195380.55                 3.500000                    0.798005  \n",
       "\n",
       "[5 rows x 26 columns]"
      ]
     },
     "execution_count": 3,
     "metadata": {},
     "output_type": "execute_result"
    }
   ],
   "source": [
    "##Importing data and creating dataframe \n",
    "df = pd.read_csv('firstout.csv')\n",
    "df.head()"
   ]
  },
  {
   "cell_type": "code",
   "execution_count": 3,
   "metadata": {},
   "outputs": [
    {
     "data": {
      "text/plain": [
       "Index(['Unnamed: 0', 'id', 'plant', 'size', 'number', 'auction', 'capacity',\n",
       "       'physical_guarantee', 'sold_lots', 'source', 'company_consortium',\n",
       "       'year', 'price_US$', 'inv_US$', 'gdp_growth', 'risk_embi', 'gkf', 'fdi',\n",
       "       'primary_energy_consumption', 'g', 'exch', 'inv_US$_billion', 'state',\n",
       "       'inv_size', 'physical_guarantee_size', 'distance_from_last_auction'],\n",
       "      dtype='object')"
      ]
     },
     "execution_count": 3,
     "metadata": {},
     "output_type": "execute_result"
    }
   ],
   "source": [
    "#Retrieving keys\n",
    "df.keys()"
   ]
  },
  {
   "cell_type": "code",
   "execution_count": 4,
   "metadata": {},
   "outputs": [
    {
     "data": {
      "text/html": [
       "<div>\n",
       "<style scoped>\n",
       "    .dataframe tbody tr th:only-of-type {\n",
       "        vertical-align: middle;\n",
       "    }\n",
       "\n",
       "    .dataframe tbody tr th {\n",
       "        vertical-align: top;\n",
       "    }\n",
       "\n",
       "    .dataframe thead th {\n",
       "        text-align: right;\n",
       "    }\n",
       "</style>\n",
       "<table border=\"1\" class=\"dataframe\">\n",
       "  <thead>\n",
       "    <tr style=\"text-align: right;\">\n",
       "      <th></th>\n",
       "      <th>physical_guarantee</th>\n",
       "      <th>source</th>\n",
       "      <th>inv_US$</th>\n",
       "      <th>state</th>\n",
       "      <th>distance_from_last_auction</th>\n",
       "    </tr>\n",
       "  </thead>\n",
       "  <tbody>\n",
       "    <tr>\n",
       "      <th>0</th>\n",
       "      <td>41.0</td>\n",
       "      <td>hydro</td>\n",
       "      <td>120104543.0</td>\n",
       "      <td>GO</td>\n",
       "      <td>0.798005</td>\n",
       "    </tr>\n",
       "    <tr>\n",
       "      <th>1</th>\n",
       "      <td>30.4</td>\n",
       "      <td>hydro</td>\n",
       "      <td>89314060.0</td>\n",
       "      <td>RS</td>\n",
       "      <td>0.798005</td>\n",
       "    </tr>\n",
       "    <tr>\n",
       "      <th>2</th>\n",
       "      <td>39.0</td>\n",
       "      <td>hydro</td>\n",
       "      <td>114362101.0</td>\n",
       "      <td>RS</td>\n",
       "      <td>0.798005</td>\n",
       "    </tr>\n",
       "    <tr>\n",
       "      <th>3</th>\n",
       "      <td>191.3</td>\n",
       "      <td>hydro</td>\n",
       "      <td>616054447.0</td>\n",
       "      <td>RJ</td>\n",
       "      <td>0.798005</td>\n",
       "    </tr>\n",
       "    <tr>\n",
       "      <th>4</th>\n",
       "      <td>38.5</td>\n",
       "      <td>hydro</td>\n",
       "      <td>112149186.0</td>\n",
       "      <td>MG</td>\n",
       "      <td>0.798005</td>\n",
       "    </tr>\n",
       "  </tbody>\n",
       "</table>\n",
       "</div>"
      ],
      "text/plain": [
       "   physical_guarantee source      inv_US$ state  distance_from_last_auction\n",
       "0                41.0  hydro  120104543.0    GO                    0.798005\n",
       "1                30.4  hydro   89314060.0    RS                    0.798005\n",
       "2                39.0  hydro  114362101.0    RS                    0.798005\n",
       "3               191.3  hydro  616054447.0    RJ                    0.798005\n",
       "4                38.5  hydro  112149186.0    MG                    0.798005"
      ]
     },
     "execution_count": 4,
     "metadata": {},
     "output_type": "execute_result"
    }
   ],
   "source": [
    "df = df.drop(columns=['Unnamed: 0', 'id', 'plant', 'number', 'auction', 'capacity',\n",
    "       'sold_lots', 'company_consortium', 'inv_US$_billion', 'g', 'size',\n",
    "       'year', 'price_US$', 'gdp_growth', 'risk_embi', 'gkf', 'fdi',\n",
    "       'primary_energy_consumption', 'exch',  \n",
    "       'inv_size', 'physical_guarantee_size', ])\n",
    "df.head()"
   ]
  },
  {
   "cell_type": "markdown",
   "metadata": {},
   "source": [
    "### Factorizing the non-numeric variables"
   ]
  },
  {
   "cell_type": "code",
   "execution_count": 5,
   "metadata": {},
   "outputs": [
    {
     "name": "stdout",
     "output_type": "stream",
     "text": [
      "0    0\n",
      "1    0\n",
      "2    0\n",
      "3    0\n",
      "4    0\n",
      "Name: source, dtype: int64\n",
      "Index(['hydro', 'coal', 'sugar cane bagasse', 'diesel oil', 'others',\n",
      "       'fuel oil', 'biomass', 'natural gas', 'wind', 'solar', 'biogas'],\n",
      "      dtype='object')\n"
     ]
    }
   ],
   "source": [
    "#Factorize source\n",
    "factor = pd.factorize(df['source'])\n",
    "df.source = factor[0]\n",
    "definitions = factor[1]\n",
    "print(df.source.head())\n",
    "print(definitions)"
   ]
  },
  {
   "cell_type": "code",
   "execution_count": 6,
   "metadata": {},
   "outputs": [
    {
     "name": "stdout",
     "output_type": "stream",
     "text": [
      "0    0\n",
      "1    1\n",
      "2    1\n",
      "3    2\n",
      "4    3\n",
      "Name: state, dtype: int64\n",
      "Index(['GO', 'RS', 'RJ', 'MG', 'SP', 'MT', 'PR', 'RN', 'BA', 'PE', 'SC', 'CE',\n",
      "       'MA', 'MS', 'RO', 'PB', 'TO', 'ES', 'PI', 'AP', 'AL', 'SE', 'PA', 'AM',\n",
      "       'RR', 'AC'],\n",
      "      dtype='object')\n"
     ]
    }
   ],
   "source": [
    "#Factorize state\n",
    "factor2 = pd.factorize(df['state'])\n",
    "df.state = factor2[0]\n",
    "definitions2 = factor2[1]\n",
    "print(df.state.head())\n",
    "print(definitions2)"
   ]
  },
  {
   "cell_type": "code",
   "execution_count": 11,
   "metadata": {},
   "outputs": [
    {
     "data": {
      "text/plain": [
       "Index(['GO', 'RS', 'RJ', 'MG', 'SP', 'MT', 'PR', 'RN', 'BA', 'PE', 'SC', 'CE',\n",
       "       'MA', 'MS', 'RO', 'PB', 'TO', 'ES', 'PI', 'AP', 'AL', 'SE', 'PA', 'AM',\n",
       "       'RR', 'AC'],\n",
       "      dtype='object')"
      ]
     },
     "execution_count": 11,
     "metadata": {},
     "output_type": "execute_result"
    }
   ],
   "source": [
    "definitions2"
   ]
  },
  {
   "cell_type": "code",
   "execution_count": 7,
   "metadata": {},
   "outputs": [
    {
     "data": {
      "text/html": [
       "<div>\n",
       "<style scoped>\n",
       "    .dataframe tbody tr th:only-of-type {\n",
       "        vertical-align: middle;\n",
       "    }\n",
       "\n",
       "    .dataframe tbody tr th {\n",
       "        vertical-align: top;\n",
       "    }\n",
       "\n",
       "    .dataframe thead th {\n",
       "        text-align: right;\n",
       "    }\n",
       "</style>\n",
       "<table border=\"1\" class=\"dataframe\">\n",
       "  <thead>\n",
       "    <tr style=\"text-align: right;\">\n",
       "      <th></th>\n",
       "      <th>physical_guarantee</th>\n",
       "      <th>source</th>\n",
       "      <th>inv_US$</th>\n",
       "      <th>state</th>\n",
       "      <th>distance_from_last_auction</th>\n",
       "    </tr>\n",
       "  </thead>\n",
       "  <tbody>\n",
       "    <tr>\n",
       "      <th>0</th>\n",
       "      <td>41.0</td>\n",
       "      <td>0</td>\n",
       "      <td>120104543.0</td>\n",
       "      <td>0</td>\n",
       "      <td>0.798005</td>\n",
       "    </tr>\n",
       "    <tr>\n",
       "      <th>1</th>\n",
       "      <td>30.4</td>\n",
       "      <td>0</td>\n",
       "      <td>89314060.0</td>\n",
       "      <td>1</td>\n",
       "      <td>0.798005</td>\n",
       "    </tr>\n",
       "    <tr>\n",
       "      <th>2</th>\n",
       "      <td>39.0</td>\n",
       "      <td>0</td>\n",
       "      <td>114362101.0</td>\n",
       "      <td>1</td>\n",
       "      <td>0.798005</td>\n",
       "    </tr>\n",
       "    <tr>\n",
       "      <th>3</th>\n",
       "      <td>191.3</td>\n",
       "      <td>0</td>\n",
       "      <td>616054447.0</td>\n",
       "      <td>2</td>\n",
       "      <td>0.798005</td>\n",
       "    </tr>\n",
       "    <tr>\n",
       "      <th>4</th>\n",
       "      <td>38.5</td>\n",
       "      <td>0</td>\n",
       "      <td>112149186.0</td>\n",
       "      <td>3</td>\n",
       "      <td>0.798005</td>\n",
       "    </tr>\n",
       "  </tbody>\n",
       "</table>\n",
       "</div>"
      ],
      "text/plain": [
       "   physical_guarantee  source      inv_US$  state  distance_from_last_auction\n",
       "0                41.0       0  120104543.0      0                    0.798005\n",
       "1                30.4       0   89314060.0      1                    0.798005\n",
       "2                39.0       0  114362101.0      1                    0.798005\n",
       "3               191.3       0  616054447.0      2                    0.798005\n",
       "4                38.5       0  112149186.0      3                    0.798005"
      ]
     },
     "execution_count": 7,
     "metadata": {},
     "output_type": "execute_result"
    }
   ],
   "source": [
    "#Control that it has worked in the data frame \n",
    "df = df.dropna()\n",
    "df.head()"
   ]
  },
  {
   "cell_type": "markdown",
   "metadata": {},
   "source": [
    "### Defining the model"
   ]
  },
  {
   "cell_type": "code",
   "execution_count": 8,
   "metadata": {},
   "outputs": [],
   "source": [
    "df=df[['source', 'physical_guarantee', 'inv_US$', 'distance_from_last_auction', 'state']]"
   ]
  },
  {
   "cell_type": "code",
   "execution_count": 9,
   "metadata": {},
   "outputs": [
    {
     "name": "stdout",
     "output_type": "stream",
     "text": [
      "The independent features set: \n",
      "[[0.00000000e+00 4.10000000e+01 1.20104543e+08 7.98004988e-01]\n",
      " [0.00000000e+00 3.04000000e+01 8.93140600e+07 7.98004988e-01]\n",
      " [0.00000000e+00 3.90000000e+01 1.14362101e+08 7.98004988e-01]\n",
      " [0.00000000e+00 1.91300000e+02 6.16054447e+08 7.98004988e-01]]\n",
      "The dependent variable: \n",
      "[0 1 1 2]\n"
     ]
    }
   ],
   "source": [
    "#Splitting the data into independent and dependent variables\n",
    "X = df.iloc[:,0:4].values\n",
    "y = df.iloc[:,4].values\n",
    "print('The independent features set: ')\n",
    "print(X[:4,:])\n",
    "print('The dependent variable: ')\n",
    "print(y[:4])"
   ]
  },
  {
   "cell_type": "markdown",
   "metadata": {},
   "source": [
    "### Split the data into training and testing sets and feature scaling"
   ]
  },
  {
   "cell_type": "code",
   "execution_count": 10,
   "metadata": {},
   "outputs": [],
   "source": [
    "X_train, X_test, y_train, y_test = train_test_split(X, y, test_size = 0.1)\n"
   ]
  },
  {
   "cell_type": "code",
   "execution_count": 11,
   "metadata": {},
   "outputs": [],
   "source": [
    "# Feature Scaling\n",
    "scaler = StandardScaler()\n",
    "X_train = scaler.fit_transform(X_train)\n",
    "X_test = scaler.transform(X_test)"
   ]
  },
  {
   "cell_type": "markdown",
   "metadata": {},
   "source": [
    "### Running the model using the \"entrophy\" criterion but with only one variable tuned"
   ]
  },
  {
   "cell_type": "code",
   "execution_count": 12,
   "metadata": {},
   "outputs": [
    {
     "data": {
      "text/plain": [
       "array([[0.        , 0.05      , 0.        , ..., 0.03      , 0.        ,\n",
       "        0.07514651],\n",
       "       [0.        , 0.05      , 0.        , ..., 0.03      , 0.        ,\n",
       "        0.07514651],\n",
       "       [0.        , 0.05      , 0.        , ..., 0.03      , 0.        ,\n",
       "        0.07514651],\n",
       "       ...,\n",
       "       [0.        , 0.1       , 0.        , ..., 0.03      , 0.        ,\n",
       "        0.        ],\n",
       "       [0.        , 0.1       , 0.        , ..., 0.03      , 0.        ,\n",
       "        0.        ],\n",
       "       [0.        , 0.1       , 0.        , ..., 0.03      , 0.        ,\n",
       "        0.        ]])"
      ]
     },
     "execution_count": 12,
     "metadata": {},
     "output_type": "execute_result"
    }
   ],
   "source": [
    "from sklearn.calibration import CalibratedClassifierCV\n",
    "classifier = RandomForestClassifier(criterion = 'entropy', random_state=42, class_weight='balanced') ## with class balanced for imbalanced classification\n",
    "classifier.fit(X_train, y_train)\n",
    "cal_clf = CalibratedClassifierCV(classifier, method=\"sigmoid\", cv=\"prefit\")\n",
    "cal_clf.fit(X_test, y_test)\n",
    "y_score = classifier.fit(X_train, y_train)\n",
    "y_pred = classifier.predict(X_test)\n",
    "classifier.predict_proba(X)"
   ]
  },
  {
   "cell_type": "markdown",
   "metadata": {},
   "source": [
    "### Obtaining predictions\n",
    "***\n",
    "#### With a much less judicious use of the algorithm's tuning possibities, the results are even more mixed"
   ]
  },
  {
   "cell_type": "code",
   "execution_count": 13,
   "metadata": {},
   "outputs": [
    {
     "data": {
      "text/plain": [
       "array([ 8,  5,  6, 17,  8, 21,  8, 11, 15, 18,  6,  6, 15, 13,  4,  7,  8,\n",
       "       10, 15,  8,  1,  4,  7,  1, 10, 18,  3,  7,  8,  0,  8,  7,  4,  1,\n",
       "        4, 18,  8, 10,  8,  8, 13, 11,  1, 11, 16, 18,  7,  3,  9,  1,  8,\n",
       "        7,  6,  4,  8,  1,  6, 10,  7, 18, 18,  8,  7, 12,  3,  8,  8,  7,\n",
       "       18,  3,  8,  7,  7, 11,  4,  8, 11,  3,  4,  3,  7,  8,  7, 11,  7,\n",
       "        4,  8, 15,  3,  4,  7,  8,  3, 17, 11,  8, 13,  8, 15, 12, 11,  4,\n",
       "        3,  8, 11,  8,  7,  5,  1,  8,  4,  7,  0,  6,  5,  8,  8,  8,  1,\n",
       "        4, 15,  4,  8,  7,  8,  4,  3, 11,  7], dtype=int64)"
      ]
     },
     "execution_count": 13,
     "metadata": {},
     "output_type": "execute_result"
    }
   ],
   "source": [
    "y_pred"
   ]
  },
  {
   "cell_type": "markdown",
   "metadata": {},
   "source": [
    "### Some steps towards analysing the result"
   ]
  },
  {
   "cell_type": "code",
   "execution_count": 14,
   "metadata": {},
   "outputs": [
    {
     "data": {
      "text/html": [
       "<div>\n",
       "<style scoped>\n",
       "    .dataframe tbody tr th:only-of-type {\n",
       "        vertical-align: middle;\n",
       "    }\n",
       "\n",
       "    .dataframe tbody tr th {\n",
       "        vertical-align: top;\n",
       "    }\n",
       "\n",
       "    .dataframe thead th {\n",
       "        text-align: right;\n",
       "    }\n",
       "</style>\n",
       "<table border=\"1\" class=\"dataframe\">\n",
       "  <thead>\n",
       "    <tr style=\"text-align: right;\">\n",
       "      <th></th>\n",
       "      <th>state</th>\n",
       "    </tr>\n",
       "  </thead>\n",
       "  <tbody>\n",
       "    <tr>\n",
       "      <th>0</th>\n",
       "      <td>8</td>\n",
       "    </tr>\n",
       "    <tr>\n",
       "      <th>1</th>\n",
       "      <td>5</td>\n",
       "    </tr>\n",
       "    <tr>\n",
       "      <th>2</th>\n",
       "      <td>6</td>\n",
       "    </tr>\n",
       "    <tr>\n",
       "      <th>3</th>\n",
       "      <td>17</td>\n",
       "    </tr>\n",
       "    <tr>\n",
       "      <th>4</th>\n",
       "      <td>8</td>\n",
       "    </tr>\n",
       "    <tr>\n",
       "      <th>...</th>\n",
       "      <td>...</td>\n",
       "    </tr>\n",
       "    <tr>\n",
       "      <th>124</th>\n",
       "      <td>8</td>\n",
       "    </tr>\n",
       "    <tr>\n",
       "      <th>125</th>\n",
       "      <td>4</td>\n",
       "    </tr>\n",
       "    <tr>\n",
       "      <th>126</th>\n",
       "      <td>3</td>\n",
       "    </tr>\n",
       "    <tr>\n",
       "      <th>127</th>\n",
       "      <td>11</td>\n",
       "    </tr>\n",
       "    <tr>\n",
       "      <th>128</th>\n",
       "      <td>7</td>\n",
       "    </tr>\n",
       "  </tbody>\n",
       "</table>\n",
       "<p>129 rows × 1 columns</p>\n",
       "</div>"
      ],
      "text/plain": [
       "     state\n",
       "0        8\n",
       "1        5\n",
       "2        6\n",
       "3       17\n",
       "4        8\n",
       "..     ...\n",
       "124      8\n",
       "125      4\n",
       "126      3\n",
       "127     11\n",
       "128      7\n",
       "\n",
       "[129 rows x 1 columns]"
      ]
     },
     "execution_count": 14,
     "metadata": {},
     "output_type": "execute_result"
    }
   ],
   "source": [
    "#Creating a dataframe with the predicition array\n",
    "df2 = pd.DataFrame(y_pred, columns = ['state'])\n",
    "df2"
   ]
  },
  {
   "cell_type": "code",
   "execution_count": 15,
   "metadata": {},
   "outputs": [
    {
     "data": {
      "text/plain": [
       "0      BA\n",
       "1      MT\n",
       "2      PR\n",
       "3      ES\n",
       "4      BA\n",
       "       ..\n",
       "124    BA\n",
       "125    SP\n",
       "126    MG\n",
       "127    CE\n",
       "128    RN\n",
       "Name: state, Length: 129, dtype: object"
      ]
     },
     "execution_count": 15,
     "metadata": {},
     "output_type": "execute_result"
    }
   ],
   "source": [
    "# Reverse factorize the original dataframe's states to make comparisons\n",
    "reversefactor = dict(zip(range(20),definitions2))\n",
    "df2.state = np.vectorize(reversefactor.get)(df2.state)\n",
    "df2.state"
   ]
  },
  {
   "cell_type": "code",
   "execution_count": 16,
   "metadata": {},
   "outputs": [
    {
     "data": {
      "text/plain": [
       "BA      30\n",
       "RN      19\n",
       "SP      14\n",
       "CE      10\n",
       "MG      10\n",
       "RS       8\n",
       "PI       7\n",
       "PR       6\n",
       "PB       6\n",
       "SC       4\n",
       "MT       3\n",
       "MS       3\n",
       "ES       2\n",
       "GO       2\n",
       "MA       2\n",
       "None     1\n",
       "PE       1\n",
       "TO       1\n",
       "Name: state, dtype: int64"
      ]
     },
     "execution_count": 16,
     "metadata": {},
     "output_type": "execute_result"
    }
   ],
   "source": [
    "#Count predicted values\n",
    "df2['state'].value_counts()"
   ]
  },
  {
   "cell_type": "code",
   "execution_count": 17,
   "metadata": {},
   "outputs": [
    {
     "data": {
      "text/plain": [
       "BA      0.232558\n",
       "RN      0.147287\n",
       "SP      0.108527\n",
       "CE      0.077519\n",
       "MG      0.077519\n",
       "RS      0.062016\n",
       "PI      0.054264\n",
       "PR      0.046512\n",
       "PB      0.046512\n",
       "SC      0.031008\n",
       "MT      0.023256\n",
       "MS      0.023256\n",
       "ES      0.015504\n",
       "GO      0.015504\n",
       "MA      0.015504\n",
       "None    0.007752\n",
       "PE      0.007752\n",
       "TO      0.007752\n",
       "Name: state, dtype: float64"
      ]
     },
     "execution_count": 17,
     "metadata": {},
     "output_type": "execute_result"
    }
   ],
   "source": [
    "#Normalize counted values\n",
    "df2.state.value_counts(normalize=True)"
   ]
  },
  {
   "cell_type": "code",
   "execution_count": 18,
   "metadata": {},
   "outputs": [
    {
     "data": {
      "image/png": "[encoded data removed]",
      "text/plain": [
       "<Figure size 1080x720 with 2 Axes>"
      ]
     },
     "metadata": {
      "needs_background": "light"
     },
     "output_type": "display_data"
    }
   ],
   "source": [
    "#Step 8: Make plots to compare\n",
    "reversefactor = dict(zip(range(20),definitions2))\n",
    "df.state = np.vectorize(reversefactor.get)(df.state)\n",
    "df.state\n",
    "f, axes = plt.subplots(2, 1, figsize=(15, 10), sharex=False);\n",
    "sns.countplot(x=df2[\"state\"] , color=\"teal\", order = df2['state'].value_counts().index, ax=axes[0]);\n",
    "sns.countplot(x=df[\"state\"] , color=\"gold\", order = df['state'].value_counts().index, ax=axes[1]);"
   ]
  },
  {
   "cell_type": "markdown",
   "metadata": {},
   "source": [
    "### An analysis of the metrics"
   ]
  },
  {
   "cell_type": "markdown",
   "metadata": {},
   "source": [
    "#### Accuracy score"
   ]
  },
  {
   "cell_type": "code",
   "execution_count": 19,
   "metadata": {},
   "outputs": [
    {
     "data": {
      "text/plain": [
       "0.5813953488372093"
      ]
     },
     "execution_count": 19,
     "metadata": {},
     "output_type": "execute_result"
    }
   ],
   "source": [
    "# The accuracy score substantially larger as when many parameters are tuned\n",
    "accuracy_score(y_test, y_pred)\n"
   ]
  },
  {
   "cell_type": "markdown",
   "metadata": {},
   "source": [
    "#### The confusion matrix "
   ]
  },
  {
   "cell_type": "code",
   "execution_count": 20,
   "metadata": {},
   "outputs": [
    {
     "data": {
      "image/png": "[encoded data removed]",
      "text/plain": [
       "<Figure size 432x288 with 2 Axes>"
      ]
     },
     "metadata": {
      "needs_background": "light"
     },
     "output_type": "display_data"
    }
   ],
   "source": [
    "from sklearn.metrics import confusion_matrix\n",
    "from sklearn.metrics import plot_confusion_matrix\n",
    "confusion_matrix(y_test,y_pred)\n",
    "plot_confusion_matrix(classifier, X_test, y_test)\n",
    "plt.show()"
   ]
  },
  {
   "cell_type": "markdown",
   "metadata": {},
   "source": [
    "#### The statistics obtained from the confusion matrix for the multiclass problem are calculated as follows:\n",
    "- Precision = TP/(TP+FP)\n",
    "- Recall = TP(TP+FN)\n",
    "\n",
    "<img width=\"50%\" height=\"50%\" align=\"left\" src=\"confusionmatrix2.png\"> "
   ]
  },
  {
   "cell_type": "code",
   "execution_count": 21,
   "metadata": {},
   "outputs": [
    {
     "name": "stdout",
     "output_type": "stream",
     "text": [
      "              precision    recall  f1-score   support\n",
      "\n",
      "           0       0.00      0.00      0.00         2\n",
      "           1       0.50      0.36      0.42        11\n",
      "           3       0.40      0.67      0.50         6\n",
      "           4       0.64      0.75      0.69        12\n",
      "           5       0.00      0.00      0.00         3\n",
      "           6       0.17      0.20      0.18         5\n",
      "           7       0.79      0.68      0.73        22\n",
      "           8       0.73      0.73      0.73        30\n",
      "           9       1.00      0.33      0.50         3\n",
      "          10       0.75      0.60      0.67         5\n",
      "          11       0.50      0.50      0.50        10\n",
      "          12       1.00      1.00      1.00         2\n",
      "          13       0.33      0.33      0.33         3\n",
      "          14       0.00      0.00      0.00         1\n",
      "          15       0.50      0.75      0.60         4\n",
      "          16       0.00      0.00      0.00         0\n",
      "          17       0.50      0.33      0.40         3\n",
      "          18       0.57      1.00      0.73         4\n",
      "          19       0.00      0.00      0.00         1\n",
      "          21       0.00      0.00      0.00         1\n",
      "          22       0.00      0.00      0.00         1\n",
      "\n",
      "    accuracy                           0.58       129\n",
      "   macro avg       0.40      0.39      0.38       129\n",
      "weighted avg       0.59      0.58      0.58       129\n",
      "\n"
     ]
    }
   ],
   "source": [
    "# View the classification report for test data and predictions\n",
    "print(classification_report(y_test, y_pred, zero_division=0))"
   ]
  },
  {
   "cell_type": "markdown",
   "metadata": {},
   "source": [
    "#### Key conclusions\n",
    "\n",
    "##### The results are quiet satisfactory in terms of obtaining a diverse and unexpected prediction of possible states. This has been obtained by including the \"class_weight='balanced'\". However, the accuracy was not that high.  "
   ]
  },
  {
   "cell_type": "code",
   "execution_count": null,
   "metadata": {},
   "outputs": [],
   "source": []
  }
 ],
 "metadata": {
  "kernelspec": {
   "display_name": "Python 3",
   "language": "python",
   "name": "python3"
  },
  "language_info": {
   "codemirror_mode": {
    "name": "ipython",
    "version": 3
   },
   "file_extension": ".py",
   "mimetype": "text/x-python",
   "name": "python",
   "nbconvert_exporter": "python",
   "pygments_lexer": "ipython3",
   "version": "3.8.5"
  }
 },
 "nbformat": 4,
 "nbformat_minor": 4
}
