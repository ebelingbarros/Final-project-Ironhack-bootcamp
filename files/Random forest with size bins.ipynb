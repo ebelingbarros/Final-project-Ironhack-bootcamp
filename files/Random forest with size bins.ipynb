{
 "cells": [
  {
   "cell_type": "markdown",
   "metadata": {},
   "source": [
    "# Multi class Random Forest modelling using size of physical guarantee bins as the class to be predicted"
   ]
  },
  {
   "cell_type": "markdown",
   "metadata": {},
   "source": [
    "### Import libraries and load data"
   ]
  },
  {
   "cell_type": "code",
   "execution_count": 91,
   "metadata": {},
   "outputs": [
    {
     "name": "stdout",
     "output_type": "stream",
     "text": [
      "False\n"
     ]
    }
   ],
   "source": [
    "import numpy as np\n",
    "import pandas as pd\n",
    "from sklearn.model_selection import train_test_split\n",
    "from sklearn.preprocessing import StandardScaler\n",
    "from sklearn.ensemble import RandomForestClassifier\n",
    "from sklearn.metrics import confusion_matrix\n",
    "from sklearn.metrics import roc_auc_score\n",
    "from sklearn.metrics import classification_report\n",
    "from sklearn.metrics import accuracy_score\n",
    "import warnings\n",
    "import numpy as np\n",
    "import matplotlib.pyplot as plt\n",
    "from sklearn.metrics import log_loss\n",
    "%matplotlib inline\n",
    "import seaborn as sns\n",
    "import plotly.express as px\n",
    "warnings.simplefilter(action='ignore', category=FutureWarning)\n",
    "print('x' in np.arange(5))   #returns False, without Warning"
   ]
  },
  {
   "cell_type": "code",
   "execution_count": 92,
   "metadata": {},
   "outputs": [
    {
     "data": {
      "text/html": [
       "<div>\n",
       "<style scoped>\n",
       "    .dataframe tbody tr th:only-of-type {\n",
       "        vertical-align: middle;\n",
       "    }\n",
       "\n",
       "    .dataframe tbody tr th {\n",
       "        vertical-align: top;\n",
       "    }\n",
       "\n",
       "    .dataframe thead th {\n",
       "        text-align: right;\n",
       "    }\n",
       "</style>\n",
       "<table border=\"1\" class=\"dataframe\">\n",
       "  <thead>\n",
       "    <tr style=\"text-align: right;\">\n",
       "      <th></th>\n",
       "      <th>Unnamed: 0</th>\n",
       "      <th>id</th>\n",
       "      <th>plant</th>\n",
       "      <th>size</th>\n",
       "      <th>number</th>\n",
       "      <th>auction</th>\n",
       "      <th>capacity</th>\n",
       "      <th>physical_guarantee</th>\n",
       "      <th>sold_lots</th>\n",
       "      <th>source</th>\n",
       "      <th>...</th>\n",
       "      <th>gkf</th>\n",
       "      <th>fdi</th>\n",
       "      <th>primary_energy_consumption</th>\n",
       "      <th>g</th>\n",
       "      <th>exch</th>\n",
       "      <th>inv_US$_billion</th>\n",
       "      <th>state</th>\n",
       "      <th>inv_size</th>\n",
       "      <th>physical_guarantee_size</th>\n",
       "      <th>distance_from_last_auction</th>\n",
       "    </tr>\n",
       "  </thead>\n",
       "  <tbody>\n",
       "    <tr>\n",
       "      <th>0</th>\n",
       "      <td>0</td>\n",
       "      <td>1</td>\n",
       "      <td>UHE Foz do Rio Claro</td>\n",
       "      <td>0.091</td>\n",
       "      <td>11</td>\n",
       "      <td>Leilão 2/2005</td>\n",
       "      <td>68.4</td>\n",
       "      <td>41.0</td>\n",
       "      <td>41.0</td>\n",
       "      <td>hydro</td>\n",
       "      <td>...</td>\n",
       "      <td>17.204883</td>\n",
       "      <td>1.733901</td>\n",
       "      <td>8.86</td>\n",
       "      <td>84956.3</td>\n",
       "      <td>2.3399</td>\n",
       "      <td>0.120104543</td>\n",
       "      <td>GO</td>\n",
       "      <td>10918594.82</td>\n",
       "      <td>3.727273</td>\n",
       "      <td>0.798005</td>\n",
       "    </tr>\n",
       "    <tr>\n",
       "      <th>1</th>\n",
       "      <td>1</td>\n",
       "      <td>2</td>\n",
       "      <td>UHE São José</td>\n",
       "      <td>0.091</td>\n",
       "      <td>11</td>\n",
       "      <td>Leilão 2/2005</td>\n",
       "      <td>51.0</td>\n",
       "      <td>30.4</td>\n",
       "      <td>30.0</td>\n",
       "      <td>hydro</td>\n",
       "      <td>...</td>\n",
       "      <td>17.204883</td>\n",
       "      <td>1.733901</td>\n",
       "      <td>8.86</td>\n",
       "      <td>84956.3</td>\n",
       "      <td>2.3399</td>\n",
       "      <td>0.08931406</td>\n",
       "      <td>RS</td>\n",
       "      <td>8119460.00</td>\n",
       "      <td>2.763636</td>\n",
       "      <td>0.798005</td>\n",
       "    </tr>\n",
       "    <tr>\n",
       "      <th>2</th>\n",
       "      <td>2</td>\n",
       "      <td>3</td>\n",
       "      <td>UHE Passo São João</td>\n",
       "      <td>0.091</td>\n",
       "      <td>11</td>\n",
       "      <td>Leilão 2/2005</td>\n",
       "      <td>77.0</td>\n",
       "      <td>39.0</td>\n",
       "      <td>37.0</td>\n",
       "      <td>hydro</td>\n",
       "      <td>...</td>\n",
       "      <td>17.204883</td>\n",
       "      <td>1.733901</td>\n",
       "      <td>8.86</td>\n",
       "      <td>84956.3</td>\n",
       "      <td>2.3399</td>\n",
       "      <td>0.114362101</td>\n",
       "      <td>RS</td>\n",
       "      <td>10396554.64</td>\n",
       "      <td>3.545455</td>\n",
       "      <td>0.798005</td>\n",
       "    </tr>\n",
       "    <tr>\n",
       "      <th>3</th>\n",
       "      <td>3</td>\n",
       "      <td>4</td>\n",
       "      <td>UHE Simplício</td>\n",
       "      <td>0.091</td>\n",
       "      <td>11</td>\n",
       "      <td>Leilão 2/2005</td>\n",
       "      <td>337.7</td>\n",
       "      <td>191.3</td>\n",
       "      <td>185.0</td>\n",
       "      <td>hydro</td>\n",
       "      <td>...</td>\n",
       "      <td>17.204883</td>\n",
       "      <td>1.733901</td>\n",
       "      <td>8.86</td>\n",
       "      <td>84956.3</td>\n",
       "      <td>2.3399</td>\n",
       "      <td>0.616054447</td>\n",
       "      <td>RJ</td>\n",
       "      <td>56004949.73</td>\n",
       "      <td>17.390909</td>\n",
       "      <td>0.798005</td>\n",
       "    </tr>\n",
       "    <tr>\n",
       "      <th>4</th>\n",
       "      <td>4</td>\n",
       "      <td>5</td>\n",
       "      <td>UHE Retiro Baixo</td>\n",
       "      <td>0.091</td>\n",
       "      <td>11</td>\n",
       "      <td>Leilão 2/2005</td>\n",
       "      <td>82.0</td>\n",
       "      <td>38.5</td>\n",
       "      <td>36.0</td>\n",
       "      <td>hydro</td>\n",
       "      <td>...</td>\n",
       "      <td>17.204883</td>\n",
       "      <td>1.733901</td>\n",
       "      <td>8.86</td>\n",
       "      <td>84956.3</td>\n",
       "      <td>2.3399</td>\n",
       "      <td>0.112149186</td>\n",
       "      <td>MG</td>\n",
       "      <td>10195380.55</td>\n",
       "      <td>3.500000</td>\n",
       "      <td>0.798005</td>\n",
       "    </tr>\n",
       "  </tbody>\n",
       "</table>\n",
       "<p>5 rows × 26 columns</p>\n",
       "</div>"
      ],
      "text/plain": [
       "   Unnamed: 0  id                 plant   size  number        auction  \\\n",
       "0           0   1  UHE Foz do Rio Claro  0.091      11  Leilão 2/2005   \n",
       "1           1   2          UHE São José  0.091      11  Leilão 2/2005   \n",
       "2           2   3    UHE Passo São João  0.091      11  Leilão 2/2005   \n",
       "3           3   4         UHE Simplício  0.091      11  Leilão 2/2005   \n",
       "4           4   5      UHE Retiro Baixo  0.091      11  Leilão 2/2005   \n",
       "\n",
       "   capacity  physical_guarantee  sold_lots source  ...        gkf       fdi  \\\n",
       "0      68.4                41.0       41.0  hydro  ...  17.204883  1.733901   \n",
       "1      51.0                30.4       30.0  hydro  ...  17.204883  1.733901   \n",
       "2      77.0                39.0       37.0  hydro  ...  17.204883  1.733901   \n",
       "3     337.7               191.3      185.0  hydro  ...  17.204883  1.733901   \n",
       "4      82.0                38.5       36.0  hydro  ...  17.204883  1.733901   \n",
       "\n",
       "   primary_energy_consumption        g    exch  inv_US$_billion  state  \\\n",
       "0                        8.86  84956.3  2.3399      0.120104543     GO   \n",
       "1                        8.86  84956.3  2.3399       0.08931406     RS   \n",
       "2                        8.86  84956.3  2.3399      0.114362101     RS   \n",
       "3                        8.86  84956.3  2.3399      0.616054447     RJ   \n",
       "4                        8.86  84956.3  2.3399      0.112149186     MG   \n",
       "\n",
       "      inv_size  physical_guarantee_size  distance_from_last_auction  \n",
       "0  10918594.82                 3.727273                    0.798005  \n",
       "1   8119460.00                 2.763636                    0.798005  \n",
       "2  10396554.64                 3.545455                    0.798005  \n",
       "3  56004949.73                17.390909                    0.798005  \n",
       "4  10195380.55                 3.500000                    0.798005  \n",
       "\n",
       "[5 rows x 26 columns]"
      ]
     },
     "execution_count": 92,
     "metadata": {},
     "output_type": "execute_result"
    }
   ],
   "source": [
    "##Importing data and creating dataframe \n",
    "df = pd.read_csv('firstout.csv')\n",
    "df.head()"
   ]
  },
  {
   "cell_type": "code",
   "execution_count": 93,
   "metadata": {},
   "outputs": [
    {
     "data": {
      "text/plain": [
       "Index(['Unnamed: 0', 'id', 'plant', 'size', 'number', 'auction', 'capacity',\n",
       "       'physical_guarantee', 'sold_lots', 'source', 'company_consortium',\n",
       "       'year', 'price_US$', 'inv_US$', 'gdp_growth', 'risk_embi', 'gkf', 'fdi',\n",
       "       'primary_energy_consumption', 'g', 'exch', 'inv_US$_billion', 'state',\n",
       "       'inv_size', 'physical_guarantee_size', 'distance_from_last_auction'],\n",
       "      dtype='object')"
      ]
     },
     "execution_count": 93,
     "metadata": {},
     "output_type": "execute_result"
    }
   ],
   "source": [
    "#Retrieving keys\n",
    "df.keys()"
   ]
  },
  {
   "cell_type": "code",
   "execution_count": 94,
   "metadata": {},
   "outputs": [
    {
     "data": {
      "text/html": [
       "<div>\n",
       "<style scoped>\n",
       "    .dataframe tbody tr th:only-of-type {\n",
       "        vertical-align: middle;\n",
       "    }\n",
       "\n",
       "    .dataframe tbody tr th {\n",
       "        vertical-align: top;\n",
       "    }\n",
       "\n",
       "    .dataframe thead th {\n",
       "        text-align: right;\n",
       "    }\n",
       "</style>\n",
       "<table border=\"1\" class=\"dataframe\">\n",
       "  <thead>\n",
       "    <tr style=\"text-align: right;\">\n",
       "      <th></th>\n",
       "      <th>source</th>\n",
       "      <th>price_US$</th>\n",
       "      <th>inv_US$</th>\n",
       "      <th>state</th>\n",
       "      <th>physical_guarantee_size</th>\n",
       "      <th>distance_from_last_auction</th>\n",
       "    </tr>\n",
       "  </thead>\n",
       "  <tbody>\n",
       "    <tr>\n",
       "      <th>0</th>\n",
       "      <td>hydro</td>\n",
       "      <td>46.172913</td>\n",
       "      <td>120104543.0</td>\n",
       "      <td>GO</td>\n",
       "      <td>3.727273</td>\n",
       "      <td>0.798005</td>\n",
       "    </tr>\n",
       "    <tr>\n",
       "      <th>1</th>\n",
       "      <td>hydro</td>\n",
       "      <td>49.489294</td>\n",
       "      <td>89314060.0</td>\n",
       "      <td>RS</td>\n",
       "      <td>2.763636</td>\n",
       "      <td>0.798005</td>\n",
       "    </tr>\n",
       "    <tr>\n",
       "      <th>2</th>\n",
       "      <td>hydro</td>\n",
       "      <td>48.100346</td>\n",
       "      <td>114362101.0</td>\n",
       "      <td>RS</td>\n",
       "      <td>3.545455</td>\n",
       "      <td>0.798005</td>\n",
       "    </tr>\n",
       "    <tr>\n",
       "      <th>3</th>\n",
       "      <td>hydro</td>\n",
       "      <td>49.309800</td>\n",
       "      <td>616054447.0</td>\n",
       "      <td>RJ</td>\n",
       "      <td>17.390909</td>\n",
       "      <td>0.798005</td>\n",
       "    </tr>\n",
       "    <tr>\n",
       "      <th>4</th>\n",
       "      <td>hydro</td>\n",
       "      <td>49.087568</td>\n",
       "      <td>112149186.0</td>\n",
       "      <td>MG</td>\n",
       "      <td>3.500000</td>\n",
       "      <td>0.798005</td>\n",
       "    </tr>\n",
       "  </tbody>\n",
       "</table>\n",
       "</div>"
      ],
      "text/plain": [
       "  source  price_US$      inv_US$ state  physical_guarantee_size  \\\n",
       "0  hydro  46.172913  120104543.0    GO                 3.727273   \n",
       "1  hydro  49.489294   89314060.0    RS                 2.763636   \n",
       "2  hydro  48.100346  114362101.0    RS                 3.545455   \n",
       "3  hydro  49.309800  616054447.0    RJ                17.390909   \n",
       "4  hydro  49.087568  112149186.0    MG                 3.500000   \n",
       "\n",
       "   distance_from_last_auction  \n",
       "0                    0.798005  \n",
       "1                    0.798005  \n",
       "2                    0.798005  \n",
       "3                    0.798005  \n",
       "4                    0.798005  "
      ]
     },
     "execution_count": 94,
     "metadata": {},
     "output_type": "execute_result"
    }
   ],
   "source": [
    "#Removing unnecessary columns from dataframe \n",
    "df = df.drop(columns=['Unnamed: 0', 'id', 'plant', 'number', 'auction', 'capacity', 'sold_lots', 'company_consortium',\n",
    "       'year', 'gdp_growth', 'risk_embi', 'gkf', 'fdi', 'size', 'physical_guarantee',\n",
    "       'primary_energy_consumption', 'g', 'exch', 'inv_US$_billion', 'inv_size'])\n",
    "df.head()"
   ]
  },
  {
   "cell_type": "markdown",
   "metadata": {},
   "source": [
    "### Factorizing the non-numeric variables"
   ]
  },
  {
   "cell_type": "code",
   "execution_count": 95,
   "metadata": {},
   "outputs": [
    {
     "name": "stdout",
     "output_type": "stream",
     "text": [
      "0    0\n",
      "1    0\n",
      "2    0\n",
      "3    0\n",
      "4    0\n",
      "Name: source, dtype: int64\n",
      "Index(['hydro', 'coal', 'sugar cane bagasse', 'diesel oil', 'others',\n",
      "       'fuel oil', 'biomass', 'natural gas', 'wind', 'solar', 'biogas'],\n",
      "      dtype='object')\n"
     ]
    }
   ],
   "source": [
    "#Factorize source\n",
    "factor = pd.factorize(df['source'])\n",
    "df.source = factor[0]\n",
    "definitions = factor[1]\n",
    "print(df.source.head())\n",
    "print(definitions)"
   ]
  },
  {
   "cell_type": "code",
   "execution_count": 96,
   "metadata": {},
   "outputs": [
    {
     "name": "stdout",
     "output_type": "stream",
     "text": [
      "0    0\n",
      "1    1\n",
      "2    1\n",
      "3    2\n",
      "4    3\n",
      "Name: state, dtype: int64\n",
      "Index(['GO', 'RS', 'RJ', 'MG', 'SP', 'MT', 'PR', 'RN', 'BA', 'PE', 'SC', 'CE',\n",
      "       'MA', 'MS', 'RO', 'PB', 'TO', 'ES', 'PI', 'AP', 'AL', 'SE', 'PA', 'AM',\n",
      "       'RR', 'AC'],\n",
      "      dtype='object')\n"
     ]
    }
   ],
   "source": [
    "#Factorize state\n",
    "factor2 = pd.factorize(df['state'])\n",
    "df.state = factor2[0]\n",
    "definitions2 = factor2[1]\n",
    "print(df.state.head())\n",
    "print(definitions2)"
   ]
  },
  {
   "cell_type": "code",
   "execution_count": 97,
   "metadata": {},
   "outputs": [
    {
     "data": {
      "text/html": [
       "<div>\n",
       "<style scoped>\n",
       "    .dataframe tbody tr th:only-of-type {\n",
       "        vertical-align: middle;\n",
       "    }\n",
       "\n",
       "    .dataframe tbody tr th {\n",
       "        vertical-align: top;\n",
       "    }\n",
       "\n",
       "    .dataframe thead th {\n",
       "        text-align: right;\n",
       "    }\n",
       "</style>\n",
       "<table border=\"1\" class=\"dataframe\">\n",
       "  <thead>\n",
       "    <tr style=\"text-align: right;\">\n",
       "      <th></th>\n",
       "      <th>source</th>\n",
       "      <th>price_US$</th>\n",
       "      <th>inv_US$</th>\n",
       "      <th>state</th>\n",
       "      <th>physical_guarantee_size</th>\n",
       "      <th>distance_from_last_auction</th>\n",
       "    </tr>\n",
       "  </thead>\n",
       "  <tbody>\n",
       "    <tr>\n",
       "      <th>0</th>\n",
       "      <td>0</td>\n",
       "      <td>46.172913</td>\n",
       "      <td>120104543.0</td>\n",
       "      <td>0</td>\n",
       "      <td>3.727273</td>\n",
       "      <td>0.798005</td>\n",
       "    </tr>\n",
       "    <tr>\n",
       "      <th>1</th>\n",
       "      <td>0</td>\n",
       "      <td>49.489294</td>\n",
       "      <td>89314060.0</td>\n",
       "      <td>1</td>\n",
       "      <td>2.763636</td>\n",
       "      <td>0.798005</td>\n",
       "    </tr>\n",
       "    <tr>\n",
       "      <th>2</th>\n",
       "      <td>0</td>\n",
       "      <td>48.100346</td>\n",
       "      <td>114362101.0</td>\n",
       "      <td>1</td>\n",
       "      <td>3.545455</td>\n",
       "      <td>0.798005</td>\n",
       "    </tr>\n",
       "    <tr>\n",
       "      <th>3</th>\n",
       "      <td>0</td>\n",
       "      <td>49.309800</td>\n",
       "      <td>616054447.0</td>\n",
       "      <td>2</td>\n",
       "      <td>17.390909</td>\n",
       "      <td>0.798005</td>\n",
       "    </tr>\n",
       "    <tr>\n",
       "      <th>4</th>\n",
       "      <td>0</td>\n",
       "      <td>49.087568</td>\n",
       "      <td>112149186.0</td>\n",
       "      <td>3</td>\n",
       "      <td>3.500000</td>\n",
       "      <td>0.798005</td>\n",
       "    </tr>\n",
       "  </tbody>\n",
       "</table>\n",
       "</div>"
      ],
      "text/plain": [
       "   source  price_US$      inv_US$  state  physical_guarantee_size  \\\n",
       "0       0  46.172913  120104543.0      0                 3.727273   \n",
       "1       0  49.489294   89314060.0      1                 2.763636   \n",
       "2       0  48.100346  114362101.0      1                 3.545455   \n",
       "3       0  49.309800  616054447.0      2                17.390909   \n",
       "4       0  49.087568  112149186.0      3                 3.500000   \n",
       "\n",
       "   distance_from_last_auction  \n",
       "0                    0.798005  \n",
       "1                    0.798005  \n",
       "2                    0.798005  \n",
       "3                    0.798005  \n",
       "4                    0.798005  "
      ]
     },
     "execution_count": 97,
     "metadata": {},
     "output_type": "execute_result"
    }
   ],
   "source": [
    "#Control that it has worked in the data frame \n",
    "df = df.dropna()\n",
    "df.head()"
   ]
  },
  {
   "cell_type": "markdown",
   "metadata": {},
   "source": [
    "### Creating 5 bins for size"
   ]
  },
  {
   "cell_type": "code",
   "execution_count": 98,
   "metadata": {},
   "outputs": [],
   "source": [
    "size_bin = ['A', 'B', 'C', 'D', 'E']\n",
    "df['physical_guarantee_size_bin'] = pd.cut(df['physical_guarantee_size'], bins=[0, 1.5, 10, 30, 100, 4571], labels=size_bin)"
   ]
  },
  {
   "cell_type": "code",
   "execution_count": 99,
   "metadata": {},
   "outputs": [
    {
     "data": {
      "text/plain": [
       "A    1158\n",
       "B      81\n",
       "C      32\n",
       "E       5\n",
       "D       5\n",
       "Name: physical_guarantee_size_bin, dtype: int64"
      ]
     },
     "execution_count": 99,
     "metadata": {},
     "output_type": "execute_result"
    }
   ],
   "source": [
    "# Checked if that worked by counting values\n",
    "df['physical_guarantee_size_bin'].value_counts()"
   ]
  },
  {
   "cell_type": "code",
   "execution_count": 100,
   "metadata": {},
   "outputs": [
    {
     "data": {
      "text/html": [
       "<div>\n",
       "<style scoped>\n",
       "    .dataframe tbody tr th:only-of-type {\n",
       "        vertical-align: middle;\n",
       "    }\n",
       "\n",
       "    .dataframe tbody tr th {\n",
       "        vertical-align: top;\n",
       "    }\n",
       "\n",
       "    .dataframe thead th {\n",
       "        text-align: right;\n",
       "    }\n",
       "</style>\n",
       "<table border=\"1\" class=\"dataframe\">\n",
       "  <thead>\n",
       "    <tr style=\"text-align: right;\">\n",
       "      <th></th>\n",
       "      <th>source</th>\n",
       "      <th>price_US$</th>\n",
       "      <th>inv_US$</th>\n",
       "      <th>state</th>\n",
       "      <th>physical_guarantee_size</th>\n",
       "      <th>distance_from_last_auction</th>\n",
       "      <th>physical_guarantee_size_bin</th>\n",
       "    </tr>\n",
       "  </thead>\n",
       "  <tbody>\n",
       "    <tr>\n",
       "      <th>0</th>\n",
       "      <td>0</td>\n",
       "      <td>46.172913</td>\n",
       "      <td>120104543.0</td>\n",
       "      <td>0</td>\n",
       "      <td>3.727273</td>\n",
       "      <td>0.798005</td>\n",
       "      <td>B</td>\n",
       "    </tr>\n",
       "    <tr>\n",
       "      <th>1</th>\n",
       "      <td>0</td>\n",
       "      <td>49.489294</td>\n",
       "      <td>89314060.0</td>\n",
       "      <td>1</td>\n",
       "      <td>2.763636</td>\n",
       "      <td>0.798005</td>\n",
       "      <td>B</td>\n",
       "    </tr>\n",
       "    <tr>\n",
       "      <th>2</th>\n",
       "      <td>0</td>\n",
       "      <td>48.100346</td>\n",
       "      <td>114362101.0</td>\n",
       "      <td>1</td>\n",
       "      <td>3.545455</td>\n",
       "      <td>0.798005</td>\n",
       "      <td>B</td>\n",
       "    </tr>\n",
       "    <tr>\n",
       "      <th>3</th>\n",
       "      <td>0</td>\n",
       "      <td>49.309800</td>\n",
       "      <td>616054447.0</td>\n",
       "      <td>2</td>\n",
       "      <td>17.390909</td>\n",
       "      <td>0.798005</td>\n",
       "      <td>C</td>\n",
       "    </tr>\n",
       "    <tr>\n",
       "      <th>4</th>\n",
       "      <td>0</td>\n",
       "      <td>49.087568</td>\n",
       "      <td>112149186.0</td>\n",
       "      <td>3</td>\n",
       "      <td>3.500000</td>\n",
       "      <td>0.798005</td>\n",
       "      <td>B</td>\n",
       "    </tr>\n",
       "  </tbody>\n",
       "</table>\n",
       "</div>"
      ],
      "text/plain": [
       "   source  price_US$      inv_US$  state  physical_guarantee_size  \\\n",
       "0       0  46.172913  120104543.0      0                 3.727273   \n",
       "1       0  49.489294   89314060.0      1                 2.763636   \n",
       "2       0  48.100346  114362101.0      1                 3.545455   \n",
       "3       0  49.309800  616054447.0      2                17.390909   \n",
       "4       0  49.087568  112149186.0      3                 3.500000   \n",
       "\n",
       "   distance_from_last_auction physical_guarantee_size_bin  \n",
       "0                    0.798005                           B  \n",
       "1                    0.798005                           B  \n",
       "2                    0.798005                           B  \n",
       "3                    0.798005                           C  \n",
       "4                    0.798005                           B  "
      ]
     },
     "execution_count": 100,
     "metadata": {},
     "output_type": "execute_result"
    }
   ],
   "source": [
    "#Control that it has worked in the data frame \n",
    "df = df.dropna()\n",
    "df.head()"
   ]
  },
  {
   "cell_type": "markdown",
   "metadata": {},
   "source": [
    "### Defining the model"
   ]
  },
  {
   "cell_type": "code",
   "execution_count": 101,
   "metadata": {},
   "outputs": [],
   "source": [
    "# Dropping \"price_US$\" and \"distance_from_last_auction\"\n",
    "df=df[['source', 'inv_US$', 'state', 'physical_guarantee_size_bin']]"
   ]
  },
  {
   "cell_type": "code",
   "execution_count": 102,
   "metadata": {},
   "outputs": [
    {
     "name": "stdout",
     "output_type": "stream",
     "text": [
      "The independent features set: \n",
      "[[0.00000000e+00 1.20104543e+08 0.00000000e+00]\n",
      " [0.00000000e+00 8.93140600e+07 1.00000000e+00]\n",
      " [0.00000000e+00 1.14362101e+08 1.00000000e+00]]\n",
      "The dependent variable: \n",
      "['B', 'B', 'B']\n",
      "Categories (5, object): ['A' < 'B' < 'C' < 'D' < 'E']\n"
     ]
    }
   ],
   "source": [
    "#Splitting the data into independent and dependent variables\n",
    "X = df.iloc[:,0:3].values\n",
    "y = df.iloc[:,3].values\n",
    "print('The independent features set: ')\n",
    "print(X[:3,:])\n",
    "print('The dependent variable: ')\n",
    "print(y[:3])"
   ]
  },
  {
   "cell_type": "markdown",
   "metadata": {},
   "source": [
    "### Split the data into training and testing sets and feature scaling"
   ]
  },
  {
   "cell_type": "code",
   "execution_count": 103,
   "metadata": {},
   "outputs": [],
   "source": [
    "X_train, X_test, y_train, y_test = train_test_split(X, y, test_size = 0.1)\n"
   ]
  },
  {
   "cell_type": "code",
   "execution_count": 104,
   "metadata": {},
   "outputs": [],
   "source": [
    "# Feature Scaling\n",
    "scaler = StandardScaler()\n",
    "X_train = scaler.fit_transform(X_train)\n",
    "X_test = scaler.transform(X_test)"
   ]
  },
  {
   "cell_type": "markdown",
   "metadata": {},
   "source": [
    "### Running the model using the \"entropy\" criterion and by tuning many variables"
   ]
  },
  {
   "cell_type": "code",
   "execution_count": 105,
   "metadata": {},
   "outputs": [
    {
     "data": {
      "text/plain": [
       "array([[0.        , 0.16576691, 0.39423309, 0.        , 0.44      ],\n",
       "       [0.        , 0.23      , 0.21      , 0.06      , 0.5       ],\n",
       "       [0.        , 0.23      , 0.21      , 0.06      , 0.5       ],\n",
       "       ...,\n",
       "       [0.36      , 0.1       , 0.08      , 0.11      , 0.35      ],\n",
       "       [0.36      , 0.1       , 0.08      , 0.11      , 0.35      ],\n",
       "       [0.36      , 0.1       , 0.08      , 0.11      , 0.35      ]])"
      ]
     },
     "execution_count": 105,
     "metadata": {},
     "output_type": "execute_result"
    }
   ],
   "source": [
    "from sklearn.calibration import CalibratedClassifierCV\n",
    "classifier = RandomForestClassifier(criterion = 'entropy', random_state=42, class_weight='balanced') ## with class balanced for imbalanced classification\n",
    "classifier.fit(X_train, y_train)\n",
    "cal_clf = CalibratedClassifierCV(classifier, method=\"sigmoid\", cv=\"prefit\")\n",
    "cal_clf.fit(X_test, y_test)\n",
    "y_score = classifier.fit(X_train, y_train)\n",
    "y_pred = classifier.predict(X_test)\n",
    "classifier.predict_proba(X)\n"
   ]
  },
  {
   "cell_type": "markdown",
   "metadata": {},
   "source": [
    "### Obtaining predictions\n",
    "***\n",
    "#### Without using the \"gini\" criterion and with a smaller cc-alpha value, the list of probable predictions is much more mixed"
   ]
  },
  {
   "cell_type": "code",
   "execution_count": 106,
   "metadata": {},
   "outputs": [
    {
     "data": {
      "text/plain": [
       "array(['A', 'A', 'A', 'A', 'A', 'A', 'A', 'A', 'C', 'A', 'A', 'B', 'A',\n",
       "       'A', 'A', 'A', 'A', 'A', 'A', 'A', 'A', 'A', 'A', 'A', 'A', 'A',\n",
       "       'A', 'A', 'B', 'A', 'A', 'A', 'A', 'A', 'A', 'A', 'A', 'A', 'A',\n",
       "       'A', 'A', 'A', 'A', 'A', 'A', 'A', 'A', 'A', 'A', 'A', 'B', 'A',\n",
       "       'A', 'A', 'A', 'A', 'A', 'A', 'A', 'A', 'A', 'A', 'A', 'A', 'A',\n",
       "       'A', 'A', 'A', 'A', 'A', 'A', 'A', 'A', 'A', 'B', 'A', 'A', 'A',\n",
       "       'A', 'A', 'A', 'A', 'A', 'A', 'B', 'A', 'A', 'A', 'A', 'A', 'A',\n",
       "       'A', 'A', 'A', 'A', 'A', 'A', 'A', 'A', 'A', 'A', 'A', 'A', 'A',\n",
       "       'A', 'A', 'B', 'A', 'A', 'A', 'A', 'A', 'A', 'B', 'A', 'A', 'A',\n",
       "       'A', 'A', 'B', 'A', 'A', 'A', 'A', 'A', 'A', 'A', 'A', 'A'],\n",
       "      dtype=object)"
      ]
     },
     "execution_count": 106,
     "metadata": {},
     "output_type": "execute_result"
    }
   ],
   "source": [
    "y_pred"
   ]
  },
  {
   "cell_type": "markdown",
   "metadata": {},
   "source": [
    "### Some steps towards analysing the result"
   ]
  },
  {
   "cell_type": "code",
   "execution_count": 107,
   "metadata": {},
   "outputs": [
    {
     "data": {
      "text/html": [
       "<div>\n",
       "<style scoped>\n",
       "    .dataframe tbody tr th:only-of-type {\n",
       "        vertical-align: middle;\n",
       "    }\n",
       "\n",
       "    .dataframe tbody tr th {\n",
       "        vertical-align: top;\n",
       "    }\n",
       "\n",
       "    .dataframe thead th {\n",
       "        text-align: right;\n",
       "    }\n",
       "</style>\n",
       "<table border=\"1\" class=\"dataframe\">\n",
       "  <thead>\n",
       "    <tr style=\"text-align: right;\">\n",
       "      <th></th>\n",
       "      <th>predicted_size</th>\n",
       "    </tr>\n",
       "  </thead>\n",
       "  <tbody>\n",
       "    <tr>\n",
       "      <th>0</th>\n",
       "      <td>A</td>\n",
       "    </tr>\n",
       "    <tr>\n",
       "      <th>1</th>\n",
       "      <td>A</td>\n",
       "    </tr>\n",
       "    <tr>\n",
       "      <th>2</th>\n",
       "      <td>A</td>\n",
       "    </tr>\n",
       "    <tr>\n",
       "      <th>3</th>\n",
       "      <td>A</td>\n",
       "    </tr>\n",
       "    <tr>\n",
       "      <th>4</th>\n",
       "      <td>A</td>\n",
       "    </tr>\n",
       "    <tr>\n",
       "      <th>...</th>\n",
       "      <td>...</td>\n",
       "    </tr>\n",
       "    <tr>\n",
       "      <th>124</th>\n",
       "      <td>A</td>\n",
       "    </tr>\n",
       "    <tr>\n",
       "      <th>125</th>\n",
       "      <td>A</td>\n",
       "    </tr>\n",
       "    <tr>\n",
       "      <th>126</th>\n",
       "      <td>A</td>\n",
       "    </tr>\n",
       "    <tr>\n",
       "      <th>127</th>\n",
       "      <td>A</td>\n",
       "    </tr>\n",
       "    <tr>\n",
       "      <th>128</th>\n",
       "      <td>A</td>\n",
       "    </tr>\n",
       "  </tbody>\n",
       "</table>\n",
       "<p>129 rows × 1 columns</p>\n",
       "</div>"
      ],
      "text/plain": [
       "    predicted_size\n",
       "0                A\n",
       "1                A\n",
       "2                A\n",
       "3                A\n",
       "4                A\n",
       "..             ...\n",
       "124              A\n",
       "125              A\n",
       "126              A\n",
       "127              A\n",
       "128              A\n",
       "\n",
       "[129 rows x 1 columns]"
      ]
     },
     "execution_count": 107,
     "metadata": {},
     "output_type": "execute_result"
    }
   ],
   "source": [
    "#Creating a dataframe with the predicition array\n",
    "df2 = pd.DataFrame(y_pred, columns = ['predicted_size'])\n",
    "df2\n",
    "\n"
   ]
  },
  {
   "cell_type": "code",
   "execution_count": 108,
   "metadata": {},
   "outputs": [
    {
     "data": {
      "text/plain": [
       "A    120\n",
       "B      8\n",
       "C      1\n",
       "Name: predicted_size, dtype: int64"
      ]
     },
     "execution_count": 108,
     "metadata": {},
     "output_type": "execute_result"
    }
   ],
   "source": [
    "#Count predicted values\n",
    "df2['predicted_size'].value_counts()"
   ]
  },
  {
   "cell_type": "code",
   "execution_count": 109,
   "metadata": {},
   "outputs": [
    {
     "data": {
      "text/plain": [
       "A    0.930233\n",
       "B    0.062016\n",
       "C    0.007752\n",
       "Name: predicted_size, dtype: float64"
      ]
     },
     "execution_count": 109,
     "metadata": {},
     "output_type": "execute_result"
    }
   ],
   "source": [
    "#Normalize counted values\n",
    "df2.predicted_size.value_counts(normalize=True)"
   ]
  },
  {
   "cell_type": "markdown",
   "metadata": {},
   "source": [
    "### An analysis of the metrics"
   ]
  },
  {
   "cell_type": "markdown",
   "metadata": {},
   "source": [
    "#### Accuracy score"
   ]
  },
  {
   "cell_type": "code",
   "execution_count": 110,
   "metadata": {},
   "outputs": [
    {
     "data": {
      "text/plain": [
       "0.9767441860465116"
      ]
     },
     "execution_count": 110,
     "metadata": {},
     "output_type": "execute_result"
    }
   ],
   "source": [
    "# The accuracy score, to begin with, is much higher as in the notebook were the ids are the classes! \n",
    "accuracy_score(y_test, y_pred)\n"
   ]
  },
  {
   "cell_type": "markdown",
   "metadata": {},
   "source": [
    "#### The confusion matrix "
   ]
  },
  {
   "cell_type": "code",
   "execution_count": 111,
   "metadata": {},
   "outputs": [
    {
     "data": {
      "image/png": "[encoded data removed]",
      "text/plain": [
       "<Figure size 432x288 with 2 Axes>"
      ]
     },
     "metadata": {
      "needs_background": "light"
     },
     "output_type": "display_data"
    }
   ],
   "source": [
    "from sklearn.metrics import confusion_matrix\n",
    "from sklearn.metrics import plot_confusion_matrix\n",
    "confusion_matrix(y_test,y_pred)\n",
    "plot_confusion_matrix(classifier, X_test, y_test)\n",
    "plt.show()"
   ]
  },
  {
   "cell_type": "markdown",
   "metadata": {},
   "source": [
    "#### The statistics obtained from the confusion matrix for the multiclass problem are calculated as follows:\n",
    "- Precision = TP/(TP+FP)\n",
    "- Recall = TP(TP+FN)\n",
    "\n",
    "<img width=\"50%\" height=\"50%\" align=\"left\" src=\"confusionmatrix2.png\"> \n"
   ]
  },
  {
   "cell_type": "code",
   "execution_count": 112,
   "metadata": {},
   "outputs": [
    {
     "name": "stdout",
     "output_type": "stream",
     "text": [
      "              precision    recall  f1-score   support\n",
      "\n",
      "           A       0.99      0.98      0.99       121\n",
      "           B       0.75      0.86      0.80         7\n",
      "           C       1.00      1.00      1.00         1\n",
      "\n",
      "    accuracy                           0.98       129\n",
      "   macro avg       0.91      0.95      0.93       129\n",
      "weighted avg       0.98      0.98      0.98       129\n",
      "\n"
     ]
    }
   ],
   "source": [
    "# View the classification report for test data and predictions\n",
    "print(classification_report(y_test, y_pred, zero_division=0))"
   ]
  },
  {
   "cell_type": "code",
   "execution_count": 113,
   "metadata": {},
   "outputs": [
    {
     "data": {
      "image/png": "[encoded data removed]",
      "text/plain": [
       "<Figure size 936x504 with 2 Axes>"
      ]
     },
     "metadata": {
      "needs_background": "light"
     },
     "output_type": "display_data"
    }
   ],
   "source": [
    "# Visualizing the confusion matrix with percentages\n",
    "matrix = confusion_matrix(y_test, y_pred)\n",
    "matrix = matrix.astype('float') / matrix.sum(axis=1)[:, np.newaxis]\n",
    "\n",
    "# Build the plot\n",
    "plt.figure(figsize=(13,7))\n",
    "sns.set(font_scale=1.4)\n",
    "sns.heatmap(matrix, annot=True, annot_kws={'size':10},\n",
    "            cmap=plt.cm.Oranges, linewidths=0.2)\n",
    "\n",
    "# Add labels to the plot\n",
    "class_names = ['A','B', 'C', 'D', 'E']\n",
    "tick_marks = np.arange(len(class_names))\n",
    "tick_marks2 = tick_marks + 0.5\n",
    "plt.xticks(tick_marks, class_names, rotation=25)\n",
    "plt.yticks(tick_marks2, class_names, rotation=0)\n",
    "plt.xlabel('Predicted label')\n",
    "plt.ylabel('True label')\n",
    "plt.title('Confusion Matrix for Random Forest Model')\n",
    "plt.show()"
   ]
  },
  {
   "cell_type": "markdown",
   "metadata": {},
   "source": [
    "#### Log Loss "
   ]
  },
  {
   "cell_type": "code",
   "execution_count": 114,
   "metadata": {},
   "outputs": [
    {
     "name": "stdout",
     "output_type": "stream",
     "text": [
      "Log-loss of\n",
      " * uncalibrated classifier: 0.062\n",
      " * calibrated classifier: 0.094\n"
     ]
    }
   ],
   "source": [
    "from sklearn.metrics import log_loss\n",
    "\n",
    "clf_probs = classifier.predict_proba(X_test)\n",
    "cal_clf_probs = cal_clf.predict_proba(X_test)\n",
    "\n",
    "score = log_loss(y_test, clf_probs, labels=['A','B','C','D', 'E'])\n",
    "cal_score = log_loss(y_test, cal_clf_probs, labels=['A','B','C','D', 'E'])\n",
    "\n",
    "print(\"Log-loss of\")\n",
    "print(f\" * uncalibrated classifier: {score:.3f}\")\n",
    "print(f\" * calibrated classifier: {cal_score:.3f}\")"
   ]
  },
  {
   "cell_type": "markdown",
   "metadata": {},
   "source": [
    "According to this [resource](https://medium.com/@fzammito/whats-considered-a-good-log-loss-in-machine-learning-a529d400632d), a relatively high log-loss (significantly larger than 0) is acceptable for the case of a multiclass problem. The present one can be considered as very solid."
   ]
  },
  {
   "cell_type": "markdown",
   "metadata": {},
   "source": [
    "#### Roc/Auc Score"
   ]
  },
  {
   "cell_type": "code",
   "execution_count": 115,
   "metadata": {},
   "outputs": [
    {
     "data": {
      "text/plain": [
       "0.5860870035019596"
      ]
     },
     "execution_count": 115,
     "metadata": {},
     "output_type": "execute_result"
    }
   ],
   "source": [
    "roc_auc_score(y, cal_clf.predict_proba(X), multi_class='ovr')"
   ]
  },
  {
   "cell_type": "markdown",
   "metadata": {},
   "source": [
    "According to the available resources, an Roc/Auc score of 1 would be the best score. The present one is a little higher than the others."
   ]
  },
  {
   "cell_type": "markdown",
   "metadata": {},
   "source": [
    "#### Key conclusions. \n",
    "\n",
    "##### The results are solid. The category \"A\", that is, the one with the lowest size, is the one that tends to be more solidly predicted, with sound overall accuracy. It interesting to note that the inclusion of \"class_weight='balanced'\" has led to the unexpected prediction of a \"C\", which corresponds to a much higher size, with considerably high precision."
   ]
  },
  {
   "cell_type": "code",
   "execution_count": null,
   "metadata": {},
   "outputs": [],
   "source": []
  }
 ],
 "metadata": {
  "kernelspec": {
   "display_name": "Python 3",
   "language": "python",
   "name": "python3"
  },
  "language_info": {
   "codemirror_mode": {
    "name": "ipython",
    "version": 3
   },
   "file_extension": ".py",
   "mimetype": "text/x-python",
   "name": "python",
   "nbconvert_exporter": "python",
   "pygments_lexer": "ipython3",
   "version": "3.8.5"
  }
 },
 "nbformat": 4,
 "nbformat_minor": 4
}
