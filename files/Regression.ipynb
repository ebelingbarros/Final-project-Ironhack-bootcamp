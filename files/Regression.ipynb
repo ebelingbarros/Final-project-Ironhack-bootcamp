{
 "cells": [
  {
   "cell_type": "markdown",
   "metadata": {},
   "source": [
    "## Machine learning regression: predicting investments and its coefficients"
   ]
  },
  {
   "cell_type": "markdown",
   "metadata": {},
   "source": [
    "### Import libraries and load data"
   ]
  },
  {
   "cell_type": "code",
   "execution_count": 2,
   "metadata": {},
   "outputs": [],
   "source": [
    "import numpy as np\n",
    "import pandas as pd\n",
    "from sklearn.model_selection import train_test_split\n",
    "from sklearn.preprocessing import StandardScaler\n",
    "from sklearn.metrics import confusion_matrix\n",
    "from sklearn.ensemble import RandomForestRegressor\n",
    "from sklearn.preprocessing import PolynomialFeatures\n",
    "from sklearn.linear_model import LinearRegression\n",
    "import matplotlib.pyplot as plt\n",
    "%matplotlib inline\n",
    "import seaborn as sns\n",
    "import plotly.express as px\n",
    "import plotly.graph_objects as go\n",
    "import statsmodels.formula.api as sm\n",
    "import statsmodels.api as sm\n",
    "from sklearn.metrics import mean_absolute_error, mean_squared_error, r2_score"
   ]
  },
  {
   "cell_type": "code",
   "execution_count": 3,
   "metadata": {},
   "outputs": [
    {
     "data": {
      "text/html": [
       "<div>\n",
       "<style scoped>\n",
       "    .dataframe tbody tr th:only-of-type {\n",
       "        vertical-align: middle;\n",
       "    }\n",
       "\n",
       "    .dataframe tbody tr th {\n",
       "        vertical-align: top;\n",
       "    }\n",
       "\n",
       "    .dataframe thead th {\n",
       "        text-align: right;\n",
       "    }\n",
       "</style>\n",
       "<table border=\"1\" class=\"dataframe\">\n",
       "  <thead>\n",
       "    <tr style=\"text-align: right;\">\n",
       "      <th></th>\n",
       "      <th>Unnamed: 0</th>\n",
       "      <th>id</th>\n",
       "      <th>plant</th>\n",
       "      <th>size</th>\n",
       "      <th>number</th>\n",
       "      <th>auction</th>\n",
       "      <th>capacity</th>\n",
       "      <th>physical_guarantee</th>\n",
       "      <th>sold_lots</th>\n",
       "      <th>source</th>\n",
       "      <th>...</th>\n",
       "      <th>gkf</th>\n",
       "      <th>fdi</th>\n",
       "      <th>primary_energy_consumption</th>\n",
       "      <th>g</th>\n",
       "      <th>exch</th>\n",
       "      <th>inv_US$_billion</th>\n",
       "      <th>state</th>\n",
       "      <th>inv_size</th>\n",
       "      <th>physical_guarantee_size</th>\n",
       "      <th>distance_from_last_auction</th>\n",
       "    </tr>\n",
       "  </thead>\n",
       "  <tbody>\n",
       "    <tr>\n",
       "      <th>0</th>\n",
       "      <td>0</td>\n",
       "      <td>1</td>\n",
       "      <td>UHE Foz do Rio Claro</td>\n",
       "      <td>0.091</td>\n",
       "      <td>11</td>\n",
       "      <td>Leilão 2/2005</td>\n",
       "      <td>68.4</td>\n",
       "      <td>41.0</td>\n",
       "      <td>41.0</td>\n",
       "      <td>hydro</td>\n",
       "      <td>...</td>\n",
       "      <td>17.204883</td>\n",
       "      <td>1.733901</td>\n",
       "      <td>8.86</td>\n",
       "      <td>84956.3</td>\n",
       "      <td>2.3399</td>\n",
       "      <td>0.120104543</td>\n",
       "      <td>GO</td>\n",
       "      <td>10918594.82</td>\n",
       "      <td>3.727273</td>\n",
       "      <td>0.798005</td>\n",
       "    </tr>\n",
       "    <tr>\n",
       "      <th>1</th>\n",
       "      <td>1</td>\n",
       "      <td>2</td>\n",
       "      <td>UHE São José</td>\n",
       "      <td>0.091</td>\n",
       "      <td>11</td>\n",
       "      <td>Leilão 2/2005</td>\n",
       "      <td>51.0</td>\n",
       "      <td>30.4</td>\n",
       "      <td>30.0</td>\n",
       "      <td>hydro</td>\n",
       "      <td>...</td>\n",
       "      <td>17.204883</td>\n",
       "      <td>1.733901</td>\n",
       "      <td>8.86</td>\n",
       "      <td>84956.3</td>\n",
       "      <td>2.3399</td>\n",
       "      <td>0.08931406</td>\n",
       "      <td>RS</td>\n",
       "      <td>8119460.00</td>\n",
       "      <td>2.763636</td>\n",
       "      <td>0.798005</td>\n",
       "    </tr>\n",
       "    <tr>\n",
       "      <th>2</th>\n",
       "      <td>2</td>\n",
       "      <td>3</td>\n",
       "      <td>UHE Passo São João</td>\n",
       "      <td>0.091</td>\n",
       "      <td>11</td>\n",
       "      <td>Leilão 2/2005</td>\n",
       "      <td>77.0</td>\n",
       "      <td>39.0</td>\n",
       "      <td>37.0</td>\n",
       "      <td>hydro</td>\n",
       "      <td>...</td>\n",
       "      <td>17.204883</td>\n",
       "      <td>1.733901</td>\n",
       "      <td>8.86</td>\n",
       "      <td>84956.3</td>\n",
       "      <td>2.3399</td>\n",
       "      <td>0.114362101</td>\n",
       "      <td>RS</td>\n",
       "      <td>10396554.64</td>\n",
       "      <td>3.545455</td>\n",
       "      <td>0.798005</td>\n",
       "    </tr>\n",
       "    <tr>\n",
       "      <th>3</th>\n",
       "      <td>3</td>\n",
       "      <td>4</td>\n",
       "      <td>UHE Simplício</td>\n",
       "      <td>0.091</td>\n",
       "      <td>11</td>\n",
       "      <td>Leilão 2/2005</td>\n",
       "      <td>337.7</td>\n",
       "      <td>191.3</td>\n",
       "      <td>185.0</td>\n",
       "      <td>hydro</td>\n",
       "      <td>...</td>\n",
       "      <td>17.204883</td>\n",
       "      <td>1.733901</td>\n",
       "      <td>8.86</td>\n",
       "      <td>84956.3</td>\n",
       "      <td>2.3399</td>\n",
       "      <td>0.616054447</td>\n",
       "      <td>RJ</td>\n",
       "      <td>56004949.73</td>\n",
       "      <td>17.390909</td>\n",
       "      <td>0.798005</td>\n",
       "    </tr>\n",
       "    <tr>\n",
       "      <th>4</th>\n",
       "      <td>4</td>\n",
       "      <td>5</td>\n",
       "      <td>UHE Retiro Baixo</td>\n",
       "      <td>0.091</td>\n",
       "      <td>11</td>\n",
       "      <td>Leilão 2/2005</td>\n",
       "      <td>82.0</td>\n",
       "      <td>38.5</td>\n",
       "      <td>36.0</td>\n",
       "      <td>hydro</td>\n",
       "      <td>...</td>\n",
       "      <td>17.204883</td>\n",
       "      <td>1.733901</td>\n",
       "      <td>8.86</td>\n",
       "      <td>84956.3</td>\n",
       "      <td>2.3399</td>\n",
       "      <td>0.112149186</td>\n",
       "      <td>MG</td>\n",
       "      <td>10195380.55</td>\n",
       "      <td>3.500000</td>\n",
       "      <td>0.798005</td>\n",
       "    </tr>\n",
       "  </tbody>\n",
       "</table>\n",
       "<p>5 rows × 26 columns</p>\n",
       "</div>"
      ],
      "text/plain": [
       "   Unnamed: 0  id                 plant   size  number        auction  \\\n",
       "0           0   1  UHE Foz do Rio Claro  0.091      11  Leilão 2/2005   \n",
       "1           1   2          UHE São José  0.091      11  Leilão 2/2005   \n",
       "2           2   3    UHE Passo São João  0.091      11  Leilão 2/2005   \n",
       "3           3   4         UHE Simplício  0.091      11  Leilão 2/2005   \n",
       "4           4   5      UHE Retiro Baixo  0.091      11  Leilão 2/2005   \n",
       "\n",
       "   capacity  physical_guarantee  sold_lots source  ...        gkf       fdi  \\\n",
       "0      68.4                41.0       41.0  hydro  ...  17.204883  1.733901   \n",
       "1      51.0                30.4       30.0  hydro  ...  17.204883  1.733901   \n",
       "2      77.0                39.0       37.0  hydro  ...  17.204883  1.733901   \n",
       "3     337.7               191.3      185.0  hydro  ...  17.204883  1.733901   \n",
       "4      82.0                38.5       36.0  hydro  ...  17.204883  1.733901   \n",
       "\n",
       "   primary_energy_consumption        g    exch  inv_US$_billion  state  \\\n",
       "0                        8.86  84956.3  2.3399      0.120104543     GO   \n",
       "1                        8.86  84956.3  2.3399       0.08931406     RS   \n",
       "2                        8.86  84956.3  2.3399      0.114362101     RS   \n",
       "3                        8.86  84956.3  2.3399      0.616054447     RJ   \n",
       "4                        8.86  84956.3  2.3399      0.112149186     MG   \n",
       "\n",
       "      inv_size  physical_guarantee_size  distance_from_last_auction  \n",
       "0  10918594.82                 3.727273                    0.798005  \n",
       "1   8119460.00                 2.763636                    0.798005  \n",
       "2  10396554.64                 3.545455                    0.798005  \n",
       "3  56004949.73                17.390909                    0.798005  \n",
       "4  10195380.55                 3.500000                    0.798005  \n",
       "\n",
       "[5 rows x 26 columns]"
      ]
     },
     "execution_count": 3,
     "metadata": {},
     "output_type": "execute_result"
    }
   ],
   "source": [
    "##Importing data and creating dataframe \n",
    "df = pd.read_csv('firstout.csv')\n",
    "df.head()"
   ]
  },
  {
   "cell_type": "code",
   "execution_count": 4,
   "metadata": {},
   "outputs": [
    {
     "data": {
      "text/plain": [
       "Index(['Unnamed: 0', 'id', 'plant', 'size', 'number', 'auction', 'capacity',\n",
       "       'physical_guarantee', 'sold_lots', 'source', 'company_consortium',\n",
       "       'year', 'price_US$', 'inv_US$', 'gdp_growth', 'risk_embi', 'gkf', 'fdi',\n",
       "       'primary_energy_consumption', 'g', 'exch', 'inv_US$_billion', 'state',\n",
       "       'inv_size', 'physical_guarantee_size', 'distance_from_last_auction'],\n",
       "      dtype='object')"
      ]
     },
     "execution_count": 4,
     "metadata": {},
     "output_type": "execute_result"
    }
   ],
   "source": [
    "#Retrieving keys\n",
    "df.keys()"
   ]
  },
  {
   "cell_type": "code",
   "execution_count": 5,
   "metadata": {},
   "outputs": [
    {
     "data": {
      "text/html": [
       "<div>\n",
       "<style scoped>\n",
       "    .dataframe tbody tr th:only-of-type {\n",
       "        vertical-align: middle;\n",
       "    }\n",
       "\n",
       "    .dataframe tbody tr th {\n",
       "        vertical-align: top;\n",
       "    }\n",
       "\n",
       "    .dataframe thead th {\n",
       "        text-align: right;\n",
       "    }\n",
       "</style>\n",
       "<table border=\"1\" class=\"dataframe\">\n",
       "  <thead>\n",
       "    <tr style=\"text-align: right;\">\n",
       "      <th></th>\n",
       "      <th>size</th>\n",
       "      <th>number</th>\n",
       "      <th>physical_guarantee</th>\n",
       "      <th>source</th>\n",
       "      <th>price_US$</th>\n",
       "      <th>inv_US$</th>\n",
       "      <th>gdp_growth</th>\n",
       "      <th>risk_embi</th>\n",
       "      <th>gkf</th>\n",
       "      <th>fdi</th>\n",
       "      <th>primary_energy_consumption</th>\n",
       "      <th>g</th>\n",
       "      <th>exch</th>\n",
       "      <th>state</th>\n",
       "      <th>inv_size</th>\n",
       "      <th>physical_guarantee_size</th>\n",
       "      <th>distance_from_last_auction</th>\n",
       "    </tr>\n",
       "  </thead>\n",
       "  <tbody>\n",
       "    <tr>\n",
       "      <th>0</th>\n",
       "      <td>0.091</td>\n",
       "      <td>11</td>\n",
       "      <td>41.0</td>\n",
       "      <td>hydro</td>\n",
       "      <td>46.172913</td>\n",
       "      <td>120104543.0</td>\n",
       "      <td>3.202131</td>\n",
       "      <td>398</td>\n",
       "      <td>17.204883</td>\n",
       "      <td>1.733901</td>\n",
       "      <td>8.86</td>\n",
       "      <td>84956.3</td>\n",
       "      <td>2.3399</td>\n",
       "      <td>GO</td>\n",
       "      <td>10918594.82</td>\n",
       "      <td>3.727273</td>\n",
       "      <td>0.798005</td>\n",
       "    </tr>\n",
       "    <tr>\n",
       "      <th>1</th>\n",
       "      <td>0.091</td>\n",
       "      <td>11</td>\n",
       "      <td>30.4</td>\n",
       "      <td>hydro</td>\n",
       "      <td>49.489294</td>\n",
       "      <td>89314060.0</td>\n",
       "      <td>3.202131</td>\n",
       "      <td>398</td>\n",
       "      <td>17.204883</td>\n",
       "      <td>1.733901</td>\n",
       "      <td>8.86</td>\n",
       "      <td>84956.3</td>\n",
       "      <td>2.3399</td>\n",
       "      <td>RS</td>\n",
       "      <td>8119460.00</td>\n",
       "      <td>2.763636</td>\n",
       "      <td>0.798005</td>\n",
       "    </tr>\n",
       "    <tr>\n",
       "      <th>2</th>\n",
       "      <td>0.091</td>\n",
       "      <td>11</td>\n",
       "      <td>39.0</td>\n",
       "      <td>hydro</td>\n",
       "      <td>48.100346</td>\n",
       "      <td>114362101.0</td>\n",
       "      <td>3.202131</td>\n",
       "      <td>398</td>\n",
       "      <td>17.204883</td>\n",
       "      <td>1.733901</td>\n",
       "      <td>8.86</td>\n",
       "      <td>84956.3</td>\n",
       "      <td>2.3399</td>\n",
       "      <td>RS</td>\n",
       "      <td>10396554.64</td>\n",
       "      <td>3.545455</td>\n",
       "      <td>0.798005</td>\n",
       "    </tr>\n",
       "    <tr>\n",
       "      <th>3</th>\n",
       "      <td>0.091</td>\n",
       "      <td>11</td>\n",
       "      <td>191.3</td>\n",
       "      <td>hydro</td>\n",
       "      <td>49.309800</td>\n",
       "      <td>616054447.0</td>\n",
       "      <td>3.202131</td>\n",
       "      <td>398</td>\n",
       "      <td>17.204883</td>\n",
       "      <td>1.733901</td>\n",
       "      <td>8.86</td>\n",
       "      <td>84956.3</td>\n",
       "      <td>2.3399</td>\n",
       "      <td>RJ</td>\n",
       "      <td>56004949.73</td>\n",
       "      <td>17.390909</td>\n",
       "      <td>0.798005</td>\n",
       "    </tr>\n",
       "    <tr>\n",
       "      <th>4</th>\n",
       "      <td>0.091</td>\n",
       "      <td>11</td>\n",
       "      <td>38.5</td>\n",
       "      <td>hydro</td>\n",
       "      <td>49.087568</td>\n",
       "      <td>112149186.0</td>\n",
       "      <td>3.202131</td>\n",
       "      <td>398</td>\n",
       "      <td>17.204883</td>\n",
       "      <td>1.733901</td>\n",
       "      <td>8.86</td>\n",
       "      <td>84956.3</td>\n",
       "      <td>2.3399</td>\n",
       "      <td>MG</td>\n",
       "      <td>10195380.55</td>\n",
       "      <td>3.500000</td>\n",
       "      <td>0.798005</td>\n",
       "    </tr>\n",
       "  </tbody>\n",
       "</table>\n",
       "</div>"
      ],
      "text/plain": [
       "    size  number  physical_guarantee source  price_US$      inv_US$  \\\n",
       "0  0.091      11                41.0  hydro  46.172913  120104543.0   \n",
       "1  0.091      11                30.4  hydro  49.489294   89314060.0   \n",
       "2  0.091      11                39.0  hydro  48.100346  114362101.0   \n",
       "3  0.091      11               191.3  hydro  49.309800  616054447.0   \n",
       "4  0.091      11                38.5  hydro  49.087568  112149186.0   \n",
       "\n",
       "   gdp_growth  risk_embi        gkf       fdi  primary_energy_consumption  \\\n",
       "0    3.202131        398  17.204883  1.733901                        8.86   \n",
       "1    3.202131        398  17.204883  1.733901                        8.86   \n",
       "2    3.202131        398  17.204883  1.733901                        8.86   \n",
       "3    3.202131        398  17.204883  1.733901                        8.86   \n",
       "4    3.202131        398  17.204883  1.733901                        8.86   \n",
       "\n",
       "         g    exch state     inv_size  physical_guarantee_size  \\\n",
       "0  84956.3  2.3399    GO  10918594.82                 3.727273   \n",
       "1  84956.3  2.3399    RS   8119460.00                 2.763636   \n",
       "2  84956.3  2.3399    RS  10396554.64                 3.545455   \n",
       "3  84956.3  2.3399    RJ  56004949.73                17.390909   \n",
       "4  84956.3  2.3399    MG  10195380.55                 3.500000   \n",
       "\n",
       "   distance_from_last_auction  \n",
       "0                    0.798005  \n",
       "1                    0.798005  \n",
       "2                    0.798005  \n",
       "3                    0.798005  \n",
       "4                    0.798005  "
      ]
     },
     "execution_count": 5,
     "metadata": {},
     "output_type": "execute_result"
    }
   ],
   "source": [
    "#Removing unnecessary columns from dataframe \n",
    "df = df.drop(columns=['Unnamed: 0', 'id', 'plant', 'auction', 'capacity', 'sold_lots', 'company_consortium',\n",
    "       'year', 'inv_US$_billion'])\n",
    "df.head()"
   ]
  },
  {
   "cell_type": "markdown",
   "metadata": {},
   "source": [
    "### Encoding \"source\" as a dummy"
   ]
  },
  {
   "cell_type": "code",
   "execution_count": 6,
   "metadata": {},
   "outputs": [
    {
     "name": "stdout",
     "output_type": "stream",
     "text": [
      "<class 'pandas.core.frame.DataFrame'>\n",
      "RangeIndex: 1283 entries, 0 to 1282\n",
      "Data columns (total 27 columns):\n",
      " #   Column                      Non-Null Count  Dtype  \n",
      "---  ------                      --------------  -----  \n",
      " 0   size                        1283 non-null   float64\n",
      " 1   number                      1283 non-null   int64  \n",
      " 2   physical_guarantee          1283 non-null   float64\n",
      " 3   price_US$                   1283 non-null   float64\n",
      " 4   inv_US$                     1281 non-null   float64\n",
      " 5   gdp_growth                  1283 non-null   float64\n",
      " 6   risk_embi                   1283 non-null   int64  \n",
      " 7   gkf                         1283 non-null   float64\n",
      " 8   fdi                         1283 non-null   float64\n",
      " 9   primary_energy_consumption  1283 non-null   float64\n",
      " 10  g                           1283 non-null   float64\n",
      " 11  exch                        1283 non-null   float64\n",
      " 12  state                       1283 non-null   object \n",
      " 13  inv_size                    1281 non-null   float64\n",
      " 14  physical_guarantee_size     1283 non-null   float64\n",
      " 15  distance_from_last_auction  1283 non-null   float64\n",
      " 16  source_biogas               1283 non-null   uint8  \n",
      " 17  source_biomass              1283 non-null   uint8  \n",
      " 18  source_coal                 1283 non-null   uint8  \n",
      " 19  source_diesel oil           1283 non-null   uint8  \n",
      " 20  source_fuel oil             1283 non-null   uint8  \n",
      " 21  source_hydro                1283 non-null   uint8  \n",
      " 22  source_natural gas          1283 non-null   uint8  \n",
      " 23  source_others               1283 non-null   uint8  \n",
      " 24  source_solar                1283 non-null   uint8  \n",
      " 25  source_sugar cane bagasse   1283 non-null   uint8  \n",
      " 26  source_wind                 1283 non-null   uint8  \n",
      "dtypes: float64(13), int64(2), object(1), uint8(11)\n",
      "memory usage: 174.3+ KB\n"
     ]
    }
   ],
   "source": [
    "df=pd.get_dummies(df, columns=['source'])\n",
    "df.info()"
   ]
  },
  {
   "cell_type": "code",
   "execution_count": 7,
   "metadata": {},
   "outputs": [
    {
     "data": {
      "text/html": [
       "<div>\n",
       "<style scoped>\n",
       "    .dataframe tbody tr th:only-of-type {\n",
       "        vertical-align: middle;\n",
       "    }\n",
       "\n",
       "    .dataframe tbody tr th {\n",
       "        vertical-align: top;\n",
       "    }\n",
       "\n",
       "    .dataframe thead th {\n",
       "        text-align: right;\n",
       "    }\n",
       "</style>\n",
       "<table border=\"1\" class=\"dataframe\">\n",
       "  <thead>\n",
       "    <tr style=\"text-align: right;\">\n",
       "      <th></th>\n",
       "      <th>size</th>\n",
       "      <th>number</th>\n",
       "      <th>physical_guarantee</th>\n",
       "      <th>price_US$</th>\n",
       "      <th>inv_US$</th>\n",
       "      <th>gdp_growth</th>\n",
       "      <th>risk_embi</th>\n",
       "      <th>gkf</th>\n",
       "      <th>fdi</th>\n",
       "      <th>primary_energy_consumption</th>\n",
       "      <th>...</th>\n",
       "      <th>source_biomass</th>\n",
       "      <th>source_coal</th>\n",
       "      <th>source_diesel oil</th>\n",
       "      <th>source_fuel oil</th>\n",
       "      <th>source_hydro</th>\n",
       "      <th>source_natural gas</th>\n",
       "      <th>source_others</th>\n",
       "      <th>source_solar</th>\n",
       "      <th>source_sugar cane bagasse</th>\n",
       "      <th>source_wind</th>\n",
       "    </tr>\n",
       "  </thead>\n",
       "  <tbody>\n",
       "    <tr>\n",
       "      <th>0</th>\n",
       "      <td>0.091</td>\n",
       "      <td>11</td>\n",
       "      <td>41.0</td>\n",
       "      <td>46.172913</td>\n",
       "      <td>120104543.0</td>\n",
       "      <td>3.202131</td>\n",
       "      <td>398</td>\n",
       "      <td>17.204883</td>\n",
       "      <td>1.733901</td>\n",
       "      <td>8.86</td>\n",
       "      <td>...</td>\n",
       "      <td>0</td>\n",
       "      <td>0</td>\n",
       "      <td>0</td>\n",
       "      <td>0</td>\n",
       "      <td>1</td>\n",
       "      <td>0</td>\n",
       "      <td>0</td>\n",
       "      <td>0</td>\n",
       "      <td>0</td>\n",
       "      <td>0</td>\n",
       "    </tr>\n",
       "    <tr>\n",
       "      <th>1</th>\n",
       "      <td>0.091</td>\n",
       "      <td>11</td>\n",
       "      <td>30.4</td>\n",
       "      <td>49.489294</td>\n",
       "      <td>89314060.0</td>\n",
       "      <td>3.202131</td>\n",
       "      <td>398</td>\n",
       "      <td>17.204883</td>\n",
       "      <td>1.733901</td>\n",
       "      <td>8.86</td>\n",
       "      <td>...</td>\n",
       "      <td>0</td>\n",
       "      <td>0</td>\n",
       "      <td>0</td>\n",
       "      <td>0</td>\n",
       "      <td>1</td>\n",
       "      <td>0</td>\n",
       "      <td>0</td>\n",
       "      <td>0</td>\n",
       "      <td>0</td>\n",
       "      <td>0</td>\n",
       "    </tr>\n",
       "    <tr>\n",
       "      <th>2</th>\n",
       "      <td>0.091</td>\n",
       "      <td>11</td>\n",
       "      <td>39.0</td>\n",
       "      <td>48.100346</td>\n",
       "      <td>114362101.0</td>\n",
       "      <td>3.202131</td>\n",
       "      <td>398</td>\n",
       "      <td>17.204883</td>\n",
       "      <td>1.733901</td>\n",
       "      <td>8.86</td>\n",
       "      <td>...</td>\n",
       "      <td>0</td>\n",
       "      <td>0</td>\n",
       "      <td>0</td>\n",
       "      <td>0</td>\n",
       "      <td>1</td>\n",
       "      <td>0</td>\n",
       "      <td>0</td>\n",
       "      <td>0</td>\n",
       "      <td>0</td>\n",
       "      <td>0</td>\n",
       "    </tr>\n",
       "    <tr>\n",
       "      <th>3</th>\n",
       "      <td>0.091</td>\n",
       "      <td>11</td>\n",
       "      <td>191.3</td>\n",
       "      <td>49.309800</td>\n",
       "      <td>616054447.0</td>\n",
       "      <td>3.202131</td>\n",
       "      <td>398</td>\n",
       "      <td>17.204883</td>\n",
       "      <td>1.733901</td>\n",
       "      <td>8.86</td>\n",
       "      <td>...</td>\n",
       "      <td>0</td>\n",
       "      <td>0</td>\n",
       "      <td>0</td>\n",
       "      <td>0</td>\n",
       "      <td>1</td>\n",
       "      <td>0</td>\n",
       "      <td>0</td>\n",
       "      <td>0</td>\n",
       "      <td>0</td>\n",
       "      <td>0</td>\n",
       "    </tr>\n",
       "    <tr>\n",
       "      <th>4</th>\n",
       "      <td>0.091</td>\n",
       "      <td>11</td>\n",
       "      <td>38.5</td>\n",
       "      <td>49.087568</td>\n",
       "      <td>112149186.0</td>\n",
       "      <td>3.202131</td>\n",
       "      <td>398</td>\n",
       "      <td>17.204883</td>\n",
       "      <td>1.733901</td>\n",
       "      <td>8.86</td>\n",
       "      <td>...</td>\n",
       "      <td>0</td>\n",
       "      <td>0</td>\n",
       "      <td>0</td>\n",
       "      <td>0</td>\n",
       "      <td>1</td>\n",
       "      <td>0</td>\n",
       "      <td>0</td>\n",
       "      <td>0</td>\n",
       "      <td>0</td>\n",
       "      <td>0</td>\n",
       "    </tr>\n",
       "  </tbody>\n",
       "</table>\n",
       "<p>5 rows × 27 columns</p>\n",
       "</div>"
      ],
      "text/plain": [
       "    size  number  physical_guarantee  price_US$      inv_US$  gdp_growth  \\\n",
       "0  0.091      11                41.0  46.172913  120104543.0    3.202131   \n",
       "1  0.091      11                30.4  49.489294   89314060.0    3.202131   \n",
       "2  0.091      11                39.0  48.100346  114362101.0    3.202131   \n",
       "3  0.091      11               191.3  49.309800  616054447.0    3.202131   \n",
       "4  0.091      11                38.5  49.087568  112149186.0    3.202131   \n",
       "\n",
       "   risk_embi        gkf       fdi  primary_energy_consumption  ...  \\\n",
       "0        398  17.204883  1.733901                        8.86  ...   \n",
       "1        398  17.204883  1.733901                        8.86  ...   \n",
       "2        398  17.204883  1.733901                        8.86  ...   \n",
       "3        398  17.204883  1.733901                        8.86  ...   \n",
       "4        398  17.204883  1.733901                        8.86  ...   \n",
       "\n",
       "   source_biomass  source_coal source_diesel oil  source_fuel oil  \\\n",
       "0               0            0                 0                0   \n",
       "1               0            0                 0                0   \n",
       "2               0            0                 0                0   \n",
       "3               0            0                 0                0   \n",
       "4               0            0                 0                0   \n",
       "\n",
       "   source_hydro  source_natural gas  source_others  source_solar  \\\n",
       "0             1                   0              0             0   \n",
       "1             1                   0              0             0   \n",
       "2             1                   0              0             0   \n",
       "3             1                   0              0             0   \n",
       "4             1                   0              0             0   \n",
       "\n",
       "   source_sugar cane bagasse  source_wind  \n",
       "0                          0            0  \n",
       "1                          0            0  \n",
       "2                          0            0  \n",
       "3                          0            0  \n",
       "4                          0            0  \n",
       "\n",
       "[5 rows x 27 columns]"
      ]
     },
     "execution_count": 7,
     "metadata": {},
     "output_type": "execute_result"
    }
   ],
   "source": [
    "# Dropping nan values\n",
    "df = df.dropna()\n",
    "df.head()"
   ]
  },
  {
   "cell_type": "markdown",
   "metadata": {},
   "source": [
    "### Evaluating the most suitable models for regression "
   ]
  },
  {
   "cell_type": "code",
   "execution_count": 8,
   "metadata": {},
   "outputs": [
    {
     "data": {
      "image/png": "[encoded data removed]",
      "text/plain": [
       "<Figure size 1152x432 with 2 Axes>"
      ]
     },
     "metadata": {
      "needs_background": "light"
     },
     "output_type": "display_data"
    }
   ],
   "source": [
    "# Once again looking at the heatmap\n",
    "plt.figure(figsize=(16, 6))\n",
    "mask = np.triu(np.ones_like(df.corr(), dtype=np.bool))\n",
    "heatmap = sns.heatmap(df.corr(), mask=mask, vmin=-1, vmax=1, annot=True, cmap='BrBG')"
   ]
  },
  {
   "cell_type": "markdown",
   "metadata": {},
   "source": [
    "#### The main conclusion from the heatmap's evaluation is that physical capacity and investments are highly correlated. To avoid collinearity, it is possible to assign one as the dependent variable and the other as one of the independent variable. But they should not be both independent variables."
   ]
  },
  {
   "cell_type": "code",
   "execution_count": 9,
   "metadata": {
    "scrolled": true
   },
   "outputs": [
    {
     "name": "stdout",
     "output_type": "stream",
     "text": [
      "const                         2.222713e+08\n",
      "g                             7.167623e+02\n",
      "risk_embi                     1.447213e+05\n",
      "primary_energy_consumption   -2.443147e+07\n",
      "physical_guarantee            2.107230e+06\n",
      "exch                         -5.662078e+07\n",
      "dtype: float64\n",
      "                            OLS Regression Results                            \n",
      "==============================================================================\n",
      "Dep. Variable:                inv_US$   R-squared:                       0.929\n",
      "Model:                            OLS   Adj. R-squared:                  0.929\n",
      "Method:                 Least Squares   F-statistic:                     3346.\n",
      "Date:                Thu, 20 May 2021   Prob (F-statistic):               0.00\n",
      "Time:                        06:58:40   Log-Likelihood:                -25400.\n",
      "No. Observations:                1281   AIC:                         5.081e+04\n",
      "Df Residuals:                    1275   BIC:                         5.084e+04\n",
      "Df Model:                           5                                         \n",
      "Covariance Type:            nonrobust                                         \n",
      "==============================================================================================\n",
      "                                 coef    std err          t      P>|t|      [0.025      0.975]\n",
      "----------------------------------------------------------------------------------------------\n",
      "const                       2.223e+08    9.6e+07      2.315      0.021    3.39e+07    4.11e+08\n",
      "g                            716.7623    144.773      4.951      0.000     432.744    1000.781\n",
      "risk_embi                   1.447e+05   7.17e+04      2.018      0.044    4043.193    2.85e+05\n",
      "primary_energy_consumption -2.443e+07    9.8e+06     -2.494      0.013   -4.37e+07   -5.21e+06\n",
      "physical_guarantee          2.107e+06   1.65e+04    127.723      0.000    2.07e+06    2.14e+06\n",
      "exch                       -5.662e+07   7.72e+06     -7.338      0.000   -7.18e+07   -4.15e+07\n",
      "==============================================================================\n",
      "Omnibus:                     1975.495   Durbin-Watson:                   1.695\n",
      "Prob(Omnibus):                  0.000   Jarque-Bera (JB):          2943838.979\n",
      "Skew:                          -8.681   Prob(JB):                         0.00\n",
      "Kurtosis:                     237.206   Cond. No.                     9.71e+06\n",
      "==============================================================================\n",
      "\n",
      "Notes:\n",
      "[1] Standard Errors assume that the covariance matrix of the errors is correctly specified.\n",
      "[2] The condition number is large, 9.71e+06. This might indicate that there are\n",
      "strong multicollinearity or other numerical problems.\n"
     ]
    }
   ],
   "source": [
    "# Evaluate the first model: inv_US$, G, risk_embi, primary_energy_consumption, physical_guarantee, exch\n",
    "Y = df['inv_US$']\n",
    "X = df[['g', 'risk_embi', 'primary_energy_consumption', 'physical_guarantee', 'exch']]\n",
    "X = sm.add_constant(X)\n",
    "model = sm.OLS(Y,X)\n",
    "result = model.fit()\n",
    "print(result.params)\n",
    "print(result.summary())"
   ]
  },
  {
   "cell_type": "code",
   "execution_count": 10,
   "metadata": {
    "scrolled": true
   },
   "outputs": [
    {
     "name": "stdout",
     "output_type": "stream",
     "text": [
      "const                         2.684435e+08\n",
      "g                             2.109925e+02\n",
      "risk_embi                     1.851073e+04\n",
      "primary_energy_consumption   -2.130335e+07\n",
      "physical_guarantee            2.175221e+06\n",
      "exch                         -2.601736e+07\n",
      "source_biomass               -1.984638e+07\n",
      "source_coal                  -1.419720e+08\n",
      "source_diesel oil            -1.038635e+08\n",
      "source_fuel oil              -1.410871e+08\n",
      "source_hydro                  3.004848e+07\n",
      "source_natural gas           -3.365284e+08\n",
      "source_others                -3.935328e+08\n",
      "source_solar                  3.418543e+07\n",
      "source_sugar cane bagasse    -2.042111e+07\n",
      "source_wind                   7.633046e+06\n",
      "dtype: float64\n",
      "                            OLS Regression Results                            \n",
      "==============================================================================\n",
      "Dep. Variable:                inv_US$   R-squared:                       0.949\n",
      "Model:                            OLS   Adj. R-squared:                  0.949\n",
      "Method:                 Least Squares   F-statistic:                     1581.\n",
      "Date:                Thu, 20 May 2021   Prob (F-statistic):               0.00\n",
      "Time:                        06:58:44   Log-Likelihood:                -25185.\n",
      "No. Observations:                1281   AIC:                         5.040e+04\n",
      "Df Residuals:                    1265   BIC:                         5.048e+04\n",
      "Df Model:                          15                                         \n",
      "Covariance Type:            nonrobust                                         \n",
      "==============================================================================================\n",
      "                                 coef    std err          t      P>|t|      [0.025      0.975]\n",
      "----------------------------------------------------------------------------------------------\n",
      "const                       2.684e+08   1.19e+08      2.252      0.024    3.46e+07    5.02e+08\n",
      "g                            210.9925    129.733      1.626      0.104     -43.524     465.509\n",
      "risk_embi                   1.851e+04    6.3e+04      0.294      0.769   -1.05e+05    1.42e+05\n",
      "primary_energy_consumption  -2.13e+07   8.59e+06     -2.479      0.013   -3.82e+07   -4.45e+06\n",
      "physical_guarantee          2.175e+06   1.47e+04    148.158      0.000    2.15e+06     2.2e+06\n",
      "exch                       -2.602e+07   7.18e+06     -3.625      0.000   -4.01e+07   -1.19e+07\n",
      "source_biomass             -1.985e+07   8.69e+07     -0.228      0.819    -1.9e+08    1.51e+08\n",
      "source_coal                 -1.42e+08    9.3e+07     -1.526      0.127   -3.24e+08    4.05e+07\n",
      "source_diesel oil          -1.039e+08   9.35e+07     -1.111      0.267   -2.87e+08    7.96e+07\n",
      "source_fuel oil            -1.411e+08   8.63e+07     -1.634      0.102    -3.1e+08    2.83e+07\n",
      "source_hydro                3.005e+07   8.46e+07      0.355      0.723   -1.36e+08    1.96e+08\n",
      "source_natural gas         -3.365e+08   8.64e+07     -3.896      0.000   -5.06e+08   -1.67e+08\n",
      "source_others              -3.935e+08    1.2e+08     -3.273      0.001   -6.29e+08   -1.58e+08\n",
      "source_solar                3.419e+07   8.47e+07      0.403      0.687   -1.32e+08       2e+08\n",
      "source_sugar cane bagasse  -2.042e+07   8.51e+07     -0.240      0.810   -1.87e+08    1.47e+08\n",
      "source_wind                 7.633e+06   8.46e+07      0.090      0.928   -1.58e+08    1.74e+08\n",
      "==============================================================================\n",
      "Omnibus:                     2102.689   Durbin-Watson:                   1.859\n",
      "Prob(Omnibus):                  0.000   Jarque-Bera (JB):          3863969.139\n",
      "Skew:                          -9.857   Prob(JB):                         0.00\n",
      "Kurtosis:                     271.336   Cond. No.                     3.37e+07\n",
      "==============================================================================\n",
      "\n",
      "Notes:\n",
      "[1] Standard Errors assume that the covariance matrix of the errors is correctly specified.\n",
      "[2] The condition number is large, 3.37e+07. This might indicate that there are\n",
      "strong multicollinearity or other numerical problems.\n"
     ]
    }
   ],
   "source": [
    "# Evaluate the second model: inv_US$, G, risk_embi, primary_energy_consumption, physical_guarantee, exch, and \"source\" dummies\n",
    "Y = df['inv_US$']\n",
    "X = df[['g', 'risk_embi', 'primary_energy_consumption', 'physical_guarantee', 'exch', 'source_biomass', 'source_coal', 'source_diesel oil', 'source_fuel oil', 'source_hydro', 'source_natural gas', 'source_others', 'source_solar', 'source_sugar cane bagasse', 'source_wind']]\n",
    "X = sm.add_constant(X)\n",
    "model = sm.OLS(Y,X)\n",
    "result = model.fit()\n",
    "print(result.params)\n",
    "print(result.summary())"
   ]
  },
  {
   "cell_type": "code",
   "execution_count": 11,
   "metadata": {
    "scrolled": true
   },
   "outputs": [
    {
     "name": "stdout",
     "output_type": "stream",
     "text": [
      "const                        -7.188328e+07\n",
      "g                             6.185174e+02\n",
      "risk_embi                     1.751968e+05\n",
      "primary_energy_consumption   -4.982468e+06\n",
      "physical_guarantee            1.909364e+06\n",
      "exch                         -4.502703e+07\n",
      "dtype: float64\n",
      "                            OLS Regression Results                            \n",
      "==============================================================================\n",
      "Dep. Variable:               inv_size   R-squared:                       0.817\n",
      "Model:                            OLS   Adj. R-squared:                  0.816\n",
      "Method:                 Least Squares   F-statistic:                     1135.\n",
      "Date:                Thu, 20 May 2021   Prob (F-statistic):               0.00\n",
      "Time:                        06:58:46   Log-Likelihood:                -25958.\n",
      "No. Observations:                1281   AIC:                         5.193e+04\n",
      "Df Residuals:                    1275   BIC:                         5.196e+04\n",
      "Df Model:                           5                                         \n",
      "Covariance Type:            nonrobust                                         \n",
      "==============================================================================================\n",
      "                                 coef    std err          t      P>|t|      [0.025      0.975]\n",
      "----------------------------------------------------------------------------------------------\n",
      "const                      -7.188e+07   1.48e+08     -0.484      0.628   -3.63e+08    2.19e+08\n",
      "g                            618.5174    223.789      2.764      0.006     179.483    1057.552\n",
      "risk_embi                   1.752e+05   1.11e+05      1.581      0.114   -4.23e+04    3.93e+05\n",
      "primary_energy_consumption -4.982e+06   1.51e+07     -0.329      0.742   -3.47e+07    2.47e+07\n",
      "physical_guarantee          1.909e+06   2.55e+04     74.868      0.000    1.86e+06    1.96e+06\n",
      "exch                       -4.503e+07   1.19e+07     -3.775      0.000   -6.84e+07   -2.16e+07\n",
      "==============================================================================\n",
      "Omnibus:                     1519.415   Durbin-Watson:                   1.715\n",
      "Prob(Omnibus):                  0.000   Jarque-Bera (JB):          1325915.742\n",
      "Skew:                          -5.183   Prob(JB):                         0.00\n",
      "Kurtosis:                     160.271   Cond. No.                     9.71e+06\n",
      "==============================================================================\n",
      "\n",
      "Notes:\n",
      "[1] Standard Errors assume that the covariance matrix of the errors is correctly specified.\n",
      "[2] The condition number is large, 9.71e+06. This might indicate that there are\n",
      "strong multicollinearity or other numerical problems.\n"
     ]
    }
   ],
   "source": [
    "# Evaluate the third model: inv_size, G, risk_embi, primary_energy_consumption, physical_guarantee, exch\n",
    "Y = df['inv_size']\n",
    "X = df[['g', 'risk_embi', 'primary_energy_consumption', 'physical_guarantee', 'exch']]\n",
    "X = sm.add_constant(X)\n",
    "model = sm.OLS(Y,X)\n",
    "result = model.fit()\n",
    "print(result.params)\n",
    "print(result.summary())"
   ]
  },
  {
   "cell_type": "code",
   "execution_count": 12,
   "metadata": {},
   "outputs": [
    {
     "name": "stdout",
     "output_type": "stream",
     "text": [
      "const                         3.167837e+07\n",
      "g                            -8.092606e+00\n",
      "risk_embi                     5.816034e+04\n",
      "physical_guarantee            2.057332e+06\n",
      "primary_energy_consumption   -6.480677e+06\n",
      "exch                         -1.672746e+05\n",
      "source_biomass               -6.885141e+07\n",
      "source_coal                  -6.421635e+08\n",
      "source_diesel oil            -9.699985e+07\n",
      "source_fuel oil              -2.121295e+08\n",
      "source_hydro                 -1.631995e+06\n",
      "source_natural gas           -5.874453e+08\n",
      "source_others                -7.863810e+08\n",
      "source_solar                  1.820590e+07\n",
      "source_sugar cane bagasse    -1.670355e+07\n",
      "source_wind                   9.394476e+06\n",
      "dtype: float64\n",
      "                            OLS Regression Results                            \n",
      "==============================================================================\n",
      "Dep. Variable:               inv_size   R-squared:                       0.884\n",
      "Model:                            OLS   Adj. R-squared:                  0.883\n",
      "Method:                 Least Squares   F-statistic:                     642.1\n",
      "Date:                Thu, 20 May 2021   Prob (F-statistic):               0.00\n",
      "Time:                        06:58:51   Log-Likelihood:                -25664.\n",
      "No. Observations:                1281   AIC:                         5.136e+04\n",
      "Df Residuals:                    1265   BIC:                         5.144e+04\n",
      "Df Model:                          15                                         \n",
      "Covariance Type:            nonrobust                                         \n",
      "==============================================================================================\n",
      "                                 coef    std err          t      P>|t|      [0.025      0.975]\n",
      "----------------------------------------------------------------------------------------------\n",
      "const                       3.168e+07   1.73e+08      0.183      0.855   -3.08e+08    3.72e+08\n",
      "g                             -8.0926    188.605     -0.043      0.966    -378.106     361.920\n",
      "risk_embi                   5.816e+04   9.16e+04      0.635      0.526   -1.22e+05    2.38e+05\n",
      "physical_guarantee          2.057e+06   2.13e+04     96.388      0.000    2.02e+06     2.1e+06\n",
      "primary_energy_consumption -6.481e+06   1.25e+07     -0.519      0.604    -3.1e+07     1.8e+07\n",
      "exch                       -1.673e+05   1.04e+07     -0.016      0.987   -2.06e+07    2.03e+07\n",
      "source_biomass             -6.885e+07   1.26e+08     -0.545      0.586   -3.17e+08    1.79e+08\n",
      "source_coal                -6.422e+08   1.35e+08     -4.748      0.000   -9.07e+08   -3.77e+08\n",
      "source_diesel oil            -9.7e+07   1.36e+08     -0.714      0.476   -3.64e+08     1.7e+08\n",
      "source_fuel oil            -2.121e+08   1.25e+08     -1.690      0.091   -4.58e+08    3.41e+07\n",
      "source_hydro               -1.632e+06   1.23e+08     -0.013      0.989   -2.43e+08     2.4e+08\n",
      "source_natural gas         -5.874e+08   1.26e+08     -4.678      0.000   -8.34e+08   -3.41e+08\n",
      "source_others              -7.864e+08   1.75e+08     -4.499      0.000   -1.13e+09   -4.43e+08\n",
      "source_solar                1.821e+07   1.23e+08      0.148      0.883   -2.23e+08     2.6e+08\n",
      "source_sugar cane bagasse   -1.67e+07   1.24e+08     -0.135      0.893    -2.6e+08    2.26e+08\n",
      "source_wind                 9.394e+06   1.23e+08      0.076      0.939   -2.32e+08    2.51e+08\n",
      "==============================================================================\n",
      "Omnibus:                     1665.384   Durbin-Watson:                   1.871\n",
      "Prob(Omnibus):                  0.000   Jarque-Bera (JB):          1808893.530\n",
      "Skew:                          -6.158   Prob(JB):                         0.00\n",
      "Kurtosis:                     186.681   Cond. No.                     3.37e+07\n",
      "==============================================================================\n",
      "\n",
      "Notes:\n",
      "[1] Standard Errors assume that the covariance matrix of the errors is correctly specified.\n",
      "[2] The condition number is large, 3.37e+07. This might indicate that there are\n",
      "strong multicollinearity or other numerical problems.\n"
     ]
    }
   ],
   "source": [
    "# Evaluate the fourth model: inv_size, G, risk_embi, primary_energy_consumption, physical_guarantee_size, exch, and \"source\" dummies\n",
    "Y = df['inv_size']\n",
    "X = df[['g', 'risk_embi', 'physical_guarantee', 'primary_energy_consumption', 'exch', 'source_biomass', 'source_coal', 'source_diesel oil', 'source_fuel oil', 'source_hydro', 'source_natural gas', 'source_others', 'source_solar', 'source_sugar cane bagasse', 'source_wind']]\n",
    "X = sm.add_constant(X)\n",
    "model = sm.OLS(Y,X)\n",
    "result = model.fit()\n",
    "print(result.params)\n",
    "print(result.summary())\n",
    "\n",
    "\n"
   ]
  },
  {
   "cell_type": "markdown",
   "metadata": {},
   "source": [
    "### Decisions for the Model:\n",
    "***\n",
    "- Although models 2 has a higher R2, model 1 has the lowest p values for the variables. In short, it appears to be better formulated.\n",
    "- This is confirmed by its relatively high f-statistic, which assesses how all variables fit together. It is the highest of all values.\n",
    "- The dummies in general have very high p-values. \n",
    "- The Model 1 is the chose one for the ML models.\n"
   ]
  },
  {
   "cell_type": "markdown",
   "metadata": {},
   "source": [
    "### Preparing the model with the chosen variables"
   ]
  },
  {
   "cell_type": "code",
   "execution_count": 13,
   "metadata": {},
   "outputs": [
    {
     "data": {
      "text/html": [
       "<div>\n",
       "<style scoped>\n",
       "    .dataframe tbody tr th:only-of-type {\n",
       "        vertical-align: middle;\n",
       "    }\n",
       "\n",
       "    .dataframe tbody tr th {\n",
       "        vertical-align: top;\n",
       "    }\n",
       "\n",
       "    .dataframe thead th {\n",
       "        text-align: right;\n",
       "    }\n",
       "</style>\n",
       "<table border=\"1\" class=\"dataframe\">\n",
       "  <thead>\n",
       "    <tr style=\"text-align: right;\">\n",
       "      <th></th>\n",
       "      <th>number</th>\n",
       "      <th>physical_guarantee</th>\n",
       "      <th>inv_US$</th>\n",
       "      <th>risk_embi</th>\n",
       "      <th>primary_energy_consumption</th>\n",
       "      <th>g</th>\n",
       "      <th>exch</th>\n",
       "    </tr>\n",
       "  </thead>\n",
       "  <tbody>\n",
       "    <tr>\n",
       "      <th>0</th>\n",
       "      <td>11</td>\n",
       "      <td>41.0</td>\n",
       "      <td>120104543.0</td>\n",
       "      <td>398</td>\n",
       "      <td>8.86</td>\n",
       "      <td>84956.3</td>\n",
       "      <td>2.3399</td>\n",
       "    </tr>\n",
       "    <tr>\n",
       "      <th>1</th>\n",
       "      <td>11</td>\n",
       "      <td>30.4</td>\n",
       "      <td>89314060.0</td>\n",
       "      <td>398</td>\n",
       "      <td>8.86</td>\n",
       "      <td>84956.3</td>\n",
       "      <td>2.3399</td>\n",
       "    </tr>\n",
       "    <tr>\n",
       "      <th>2</th>\n",
       "      <td>11</td>\n",
       "      <td>39.0</td>\n",
       "      <td>114362101.0</td>\n",
       "      <td>398</td>\n",
       "      <td>8.86</td>\n",
       "      <td>84956.3</td>\n",
       "      <td>2.3399</td>\n",
       "    </tr>\n",
       "    <tr>\n",
       "      <th>3</th>\n",
       "      <td>11</td>\n",
       "      <td>191.3</td>\n",
       "      <td>616054447.0</td>\n",
       "      <td>398</td>\n",
       "      <td>8.86</td>\n",
       "      <td>84956.3</td>\n",
       "      <td>2.3399</td>\n",
       "    </tr>\n",
       "    <tr>\n",
       "      <th>4</th>\n",
       "      <td>11</td>\n",
       "      <td>38.5</td>\n",
       "      <td>112149186.0</td>\n",
       "      <td>398</td>\n",
       "      <td>8.86</td>\n",
       "      <td>84956.3</td>\n",
       "      <td>2.3399</td>\n",
       "    </tr>\n",
       "  </tbody>\n",
       "</table>\n",
       "</div>"
      ],
      "text/plain": [
       "   number  physical_guarantee      inv_US$  risk_embi  \\\n",
       "0      11                41.0  120104543.0        398   \n",
       "1      11                30.4   89314060.0        398   \n",
       "2      11                39.0  114362101.0        398   \n",
       "3      11               191.3  616054447.0        398   \n",
       "4      11                38.5  112149186.0        398   \n",
       "\n",
       "   primary_energy_consumption        g    exch  \n",
       "0                        8.86  84956.3  2.3399  \n",
       "1                        8.86  84956.3  2.3399  \n",
       "2                        8.86  84956.3  2.3399  \n",
       "3                        8.86  84956.3  2.3399  \n",
       "4                        8.86  84956.3  2.3399  "
      ]
     },
     "execution_count": 13,
     "metadata": {},
     "output_type": "execute_result"
    }
   ],
   "source": [
    "# Dropping variables that have been outsourced\n",
    "df2 = df.drop(columns=['fdi', 'gkf', 'gdp_growth', 'size', 'inv_size', 'physical_guarantee_size', 'source_biogas', 'source_biomass', 'source_coal', 'source_diesel oil', 'source_fuel oil', 'source_hydro', 'source_natural gas', 'state', 'price_US$', 'distance_from_last_auction', 'source_others', 'source_solar', 'source_sugar cane bagasse', 'source_wind'])\n",
    "df2.head()"
   ]
  },
  {
   "cell_type": "code",
   "execution_count": 14,
   "metadata": {},
   "outputs": [],
   "source": [
    "# Changing the \"inv_US$\" variable's position\n",
    "df2=df2[['physical_guarantee', 'risk_embi', 'primary_energy_consumption', 'g', 'exch', 'inv_US$']]\n"
   ]
  },
  {
   "cell_type": "code",
   "execution_count": 15,
   "metadata": {},
   "outputs": [
    {
     "name": "stdout",
     "output_type": "stream",
     "text": [
      "The independent features set: \n",
      "[[4.10000e+01 3.98000e+02 8.86000e+00 8.49563e+04 2.33990e+00]\n",
      " [3.04000e+01 3.98000e+02 8.86000e+00 8.49563e+04 2.33990e+00]\n",
      " [3.90000e+01 3.98000e+02 8.86000e+00 8.49563e+04 2.33990e+00]\n",
      " [1.91300e+02 3.98000e+02 8.86000e+00 8.49563e+04 2.33990e+00]\n",
      " [3.85000e+01 3.98000e+02 8.86000e+00 8.49563e+04 2.33990e+00]]\n",
      "The dependent variable: \n",
      "[1.20104543e+08 8.93140600e+07 1.14362101e+08 6.16054447e+08\n",
      " 1.12149186e+08]\n"
     ]
    }
   ],
   "source": [
    "#Splitting the data into independent and dependent variables\n",
    "X = df2.iloc[:,0:5].values \n",
    "y = df2.iloc[:,5].values\n",
    "print('The independent features set: ')\n",
    "print(X[:5,:])\n",
    "print('The dependent variable: ')\n",
    "print(y[:5])"
   ]
  },
  {
   "cell_type": "markdown",
   "metadata": {},
   "source": [
    "### Split the data into training and testing sets"
   ]
  },
  {
   "cell_type": "code",
   "execution_count": 16,
   "metadata": {},
   "outputs": [],
   "source": [
    "X_train, X_test, y_train, y_test = train_test_split(X, y, test_size = 0.15, random_state = 42)"
   ]
  },
  {
   "cell_type": "markdown",
   "metadata": {},
   "source": [
    "### First take: linear regression"
   ]
  },
  {
   "cell_type": "markdown",
   "metadata": {},
   "source": [
    "#### Step 1: Running the model"
   ]
  },
  {
   "cell_type": "code",
   "execution_count": 17,
   "metadata": {},
   "outputs": [
    {
     "data": {
      "text/plain": [
       "LinearRegression()"
      ]
     },
     "execution_count": 17,
     "metadata": {},
     "output_type": "execute_result"
    }
   ],
   "source": [
    "lin_model = LinearRegression()\n",
    "lin_model.fit(X_train, y_train)"
   ]
  },
  {
   "cell_type": "markdown",
   "metadata": {},
   "source": [
    "#### Step 2: Obtaining the intercept"
   ]
  },
  {
   "cell_type": "code",
   "execution_count": 18,
   "metadata": {},
   "outputs": [
    {
     "data": {
      "text/plain": [
       "251859563.24350765"
      ]
     },
     "execution_count": 18,
     "metadata": {},
     "output_type": "execute_result"
    }
   ],
   "source": [
    "lin_model.intercept_"
   ]
  },
  {
   "cell_type": "markdown",
   "metadata": {},
   "source": [
    "#### Step 3: Obtaining the coefficients"
   ]
  },
  {
   "cell_type": "code",
   "execution_count": 19,
   "metadata": {},
   "outputs": [
    {
     "data": {
      "text/plain": [
       "array([ 2.12011819e+06,  1.10299045e+05, -2.67987652e+07,  7.39739413e+02,\n",
       "       -5.65555171e+07])"
      ]
     },
     "execution_count": 19,
     "metadata": {},
     "output_type": "execute_result"
    }
   ],
   "source": [
    "lin_model.coef_\n"
   ]
  },
  {
   "cell_type": "markdown",
   "metadata": {},
   "source": [
    "#### Step 4: Presenting the predictions array"
   ]
  },
  {
   "cell_type": "code",
   "execution_count": 20,
   "metadata": {},
   "outputs": [
    {
     "data": {
      "text/plain": [
       "array([ 2.21530214e+07,  5.27622027e+07,  2.02449151e+07,  3.89814345e+07,\n",
       "        2.51191888e+07,  1.03726809e+07,  8.00012925e+07,  3.57275453e+07,\n",
       "        1.29824070e+08,  1.53075553e+07,  1.95477917e+07,  7.97892807e+07,\n",
       "       -7.71395713e+06,  3.80604405e+07,  1.41023398e+07, -2.82197087e+06,\n",
       "        5.39043938e+07,  3.97480043e+07,  9.06664333e+08,  4.01959182e+07,\n",
       "        3.99600162e+07,  3.40236852e+07,  4.69564062e+07,  1.50955435e+07,\n",
       "        3.68037291e+07,  2.15227534e+07,  5.67904273e+07,  4.64212331e+05,\n",
       "        2.01536913e+08,  3.91119689e+07,  4.72498954e+07,  4.32216709e+07,\n",
       "        1.06432953e+07,  5.62554376e+07,  1.84877326e+07,  2.44831533e+07,\n",
       "        2.21196250e+08,  2.20662186e+07,  3.17154454e+07,  3.00032262e+07,\n",
       "        6.13442524e+07,  1.10476485e+09,  5.42462855e+07,  2.00226830e+08,\n",
       "        3.51076345e+07,  1.02803596e+07,  7.89940811e+07,  5.77104039e+06,\n",
       "        3.25396025e+07,  5.40342736e+07,  5.96771153e+07,  5.95465809e+07,\n",
       "        3.68085249e+07,  5.48295296e+07,  5.51741773e+07, -5.67129016e+05,\n",
       "        8.61095296e+06,  3.04194843e+07,  6.23848666e+07,  1.97598036e+07,\n",
       "        7.49130088e+07,  7.02487488e+07,  5.83990444e+07, -4.62155567e+06,\n",
       "        4.48362880e+07,  3.27516143e+07,  4.80242309e+07,  2.76633306e+07,\n",
       "        3.82878118e+07,  7.61850798e+07,  7.95772689e+07,  8.21214107e+07,\n",
       "        7.95772689e+07,  1.11374128e+08,  6.06681113e+06,  3.68037291e+07,\n",
       "        4.27043587e+04,  3.12675316e+07,  3.37629082e+06,  4.21040246e+07,\n",
       "        3.70881509e+08,  8.95418244e+07,  3.52957561e+07,  6.55646811e+06,\n",
       "        1.05846927e+07,  9.36067720e+07,  2.90234825e+06,  6.20907228e+07,\n",
       "        4.70696438e+06,  2.68230489e+07,  1.98573543e+08,  4.27161698e+07,\n",
       "        4.22921462e+07,  1.14327400e+07,  9.27220017e+07,  8.87514207e+07,\n",
       "        4.39882407e+07,  1.74945289e+07,  2.55452106e+07,  4.42002525e+07,\n",
       "        1.95477917e+07,  3.29636261e+07,  8.69782376e+07,  3.37629082e+06,\n",
       "        2.18864120e+08,  1.40811386e+07,  2.45774728e+07,  2.91474134e+07,\n",
       "        1.23945383e+08,  7.91532452e+07,  4.19495999e+07,  1.74867633e+07,\n",
       "        3.02313627e+07,  5.27622027e+07,  4.16800009e+07,  3.74158743e+07,\n",
       "        4.18681225e+07,  3.88999571e+07,  5.78879286e+07,  3.68037291e+07,\n",
       "        7.17026993e+07,  3.44477089e+07,  2.54255200e+07,  6.60085124e+07,\n",
       "        2.50014964e+07,  2.72393070e+07,  4.29301797e+07, -1.07595738e+06,\n",
       "        2.11148545e+07,  7.83051980e+07,  1.02861270e+07,  3.23514809e+07,\n",
       "        3.04272499e+07,  8.88227071e+08, -1.21030075e+07,  5.82745100e+07,\n",
       "        7.38529498e+07,  7.04371186e+08,  3.65917173e+07,  6.16666991e+07,\n",
       "        2.64793407e+06,  7.07304160e+07,  1.03726809e+07,  8.42415289e+07,\n",
       "        6.04532716e+07,  3.63558152e+07,  3.27516143e+07,  7.02717063e+07,\n",
       "        2.66032715e+07,  3.68037291e+07,  8.70206400e+07,  2.30736782e+08,\n",
       "        2.03661827e+08,  3.10632853e+07,  2.89592918e+07,  6.28512926e+07,\n",
       "        3.15868870e+08,  2.37231870e+06,  9.29340135e+07, -3.96683469e+06,\n",
       "        2.11082240e+08,  1.91906234e+07, -3.13747293e+06,  3.15868870e+08,\n",
       "        1.21248624e+07,  2.44851515e+07,  6.11611981e+07,  4.57658127e+07,\n",
       "        3.51076345e+07,  4.33212983e+08,  1.74945289e+07,  2.74513188e+07,\n",
       "        3.82639216e+07,  5.07855326e+07,  3.19035670e+07,  1.97012009e+07,\n",
       "        2.10156742e+07,  2.34308598e+07,  2.82993661e+07,  6.07288870e+07,\n",
       "        4.21616118e+07,  3.40892869e+07,  3.97718946e+07,  4.39882407e+07,\n",
       "        2.61690507e+08,  4.13201680e+06,  2.26289448e+08,  7.17328316e+07,\n",
       "        2.56602224e+08,  5.38222618e+07,  8.19093989e+07,  2.17866619e+08,\n",
       "       -1.14059339e+07])"
      ]
     },
     "execution_count": 20,
     "metadata": {},
     "output_type": "execute_result"
    }
   ],
   "source": [
    "predictions  = lin_model.predict(X_test)\n",
    "predictions"
   ]
  },
  {
   "cell_type": "markdown",
   "metadata": {},
   "source": [
    "#### Step 5: Calculating the r2 score"
   ]
  },
  {
   "cell_type": "code",
   "execution_count": 21,
   "metadata": {},
   "outputs": [
    {
     "data": {
      "text/plain": [
       "0.5952042011574099"
      ]
     },
     "execution_count": 21,
     "metadata": {},
     "output_type": "execute_result"
    }
   ],
   "source": [
    "r2 = r2_score(y_test, predictions)\n",
    "r2"
   ]
  },
  {
   "cell_type": "markdown",
   "metadata": {},
   "source": [
    "#### Step 6: Calculating the RMSE"
   ]
  },
  {
   "cell_type": "code",
   "execution_count": 22,
   "metadata": {},
   "outputs": [
    {
     "name": "stdout",
     "output_type": "stream",
     "text": [
      "76372874.19339459\n"
     ]
    }
   ],
   "source": [
    "import math \n",
    "mse = mean_squared_error(y_test, predictions)\n",
    "rmse = math.sqrt(mse)\n",
    "print(rmse)"
   ]
  },
  {
   "cell_type": "markdown",
   "metadata": {},
   "source": [
    "#### Step 7: Plotting actual vs predicted investments"
   ]
  },
  {
   "cell_type": "code",
   "execution_count": 23,
   "metadata": {},
   "outputs": [
    {
     "name": "stderr",
     "output_type": "stream",
     "text": [
      "C:\\Users\\kaypa\\anaconda3\\lib\\site-packages\\seaborn\\_decorators.py:36: FutureWarning: Pass the following variables as keyword args: x, y. From version 0.12, the only valid positional argument will be `data`, and passing other arguments without an explicit keyword will result in an error or misinterpretation.\n",
      "  warnings.warn(\n",
      "C:\\Users\\kaypa\\anaconda3\\lib\\site-packages\\seaborn\\_decorators.py:36: FutureWarning: Pass the following variables as keyword args: x, y. From version 0.12, the only valid positional argument will be `data`, and passing other arguments without an explicit keyword will result in an error or misinterpretation.\n",
      "  warnings.warn(\n"
     ]
    },
    {
     "data": {
      "image/png": "[encoded data removed]",
      "text/plain": [
       "<Figure size 1080x360 with 1 Axes>"
      ]
     },
     "metadata": {
      "needs_background": "light"
     },
     "output_type": "display_data"
    }
   ],
   "source": [
    "plt.figure(figsize=(15, 5))\n",
    "sns.scatterplot(y_test, predictions, alpha=0.4)\n",
    "sns.regplot(y_test, predictions, truncate=True, scatter_kws={'s': 20, 'alpha':0.3}, line_kws={'color':'green', 'linewidth': 2})\n",
    " \n",
    "plt.xlabel(\"Actual investments (US$)\")\n",
    "plt.ylabel(\"Predicted investments (US$)\")\n",
    "plt.title(\"Actual vs predicted investments\")\n",
    " \n",
    "plt.show()"
   ]
  },
  {
   "cell_type": "markdown",
   "metadata": {},
   "source": [
    "### Second take: polynomial regression"
   ]
  },
  {
   "cell_type": "markdown",
   "metadata": {},
   "source": [
    "In this section, the model from the previous section is converted into a Polynomial model of order 2. After this, a regression model is run and predictions are obtained.\n"
   ]
  },
  {
   "cell_type": "markdown",
   "metadata": {},
   "source": [
    "#### Step 1: This function permits to transform the previous model into higher polynomial features and to obtain the test statistics in one take"
   ]
  },
  {
   "cell_type": "code",
   "execution_count": 24,
   "metadata": {},
   "outputs": [
    {
     "name": "stdout",
     "output_type": "stream",
     "text": [
      "The model's performance for the training set\n",
      "-------------------------------------------\n",
      "Training set's RMSE is 47459794.70021668\n",
      "Training set's R_2 score is 0.9859119070281579\n",
      "\n",
      "\n",
      "The model performance for the test set\n",
      "-------------------------------------------\n",
      "Testing set's RMSE is 55310725.52254992\n",
      "Testing set's R_2 score is 0.7876870733256429\n"
     ]
    }
   ],
   "source": [
    "def create_polynomial_regression_model(degree):\n",
    "  \n",
    "  poly_features = PolynomialFeatures(degree=degree)\n",
    "  \n",
    "  # With this line of code, the previous's section model is transformed into higher features\n",
    "  X_train_poly = poly_features.fit_transform(X_train)\n",
    "  \n",
    "  # The transformed features are fitted to a polinomial regression\n",
    "  poly_model = LinearRegression()\n",
    "  poly_model.fit(X_train_poly, y_train)\n",
    "  \n",
    "  # A prediction on the training data set is conducted\n",
    "  y_train_predicted = poly_model.predict(X_train_poly)\n",
    "  \n",
    "  # A prediciton on the test data set is carried out\n",
    "  y_test_predict = poly_model.predict(poly_features.fit_transform(X_test))\n",
    "  \n",
    "  # The training dataset is evaluated\n",
    "  rmse_train = np.sqrt(mean_squared_error(y_train, y_train_predicted))\n",
    "  r2_train = r2_score(y_train, y_train_predicted)\n",
    "  \n",
    "  # Model'S evaluation on the test data set\n",
    "  rmse_test = np.sqrt(mean_squared_error(y_test, y_test_predict))\n",
    "  r2_test = r2_score(y_test, y_test_predict)\n",
    "  \n",
    "  print(\"The model's performance for the training set\")\n",
    "  print(\"-------------------------------------------\")\n",
    "  print(\"Training set's RMSE is {}\".format(rmse_train))\n",
    "  print(\"Training set's R_2 score is {}\".format(r2_train))\n",
    "  \n",
    "  print(\"\\n\")\n",
    "  \n",
    "  print(\"The model performance for the test set\")\n",
    "  print(\"-------------------------------------------\")\n",
    "  print(\"Testing set's RMSE is {}\".format(rmse_test))\n",
    "  print(\"Testing set's R_2 score is {}\".format(r2_test))  \n",
    "    \n",
    "create_polynomial_regression_model(2)"
   ]
  },
  {
   "cell_type": "markdown",
   "metadata": {},
   "source": [
    "#### Step 2: obtaining the predicted value"
   ]
  },
  {
   "cell_type": "code",
   "execution_count": 25,
   "metadata": {},
   "outputs": [
    {
     "data": {
      "text/plain": [
       "array([ 3.21275108e+07,  4.47355124e+07,  3.16400468e+07,  3.59017920e+07,\n",
       "        3.25745948e+07,  3.54203889e+07,  7.67327962e+07,  4.89246051e+07,\n",
       "        1.30505539e+08,  3.30953704e+07,  3.43243704e+07,  7.65040233e+07,\n",
       "       -1.23764590e+07, -3.00182241e+07,  3.93331650e+07,  2.57497187e+07,\n",
       "        2.98313759e+07,  4.29663921e+07,  6.62201531e+08,  5.10396029e+07,\n",
       "        4.31170119e+07,  3.88998093e+07,  4.80876899e+07,  3.30339246e+07,\n",
       "        4.80555846e+07,  4.26238753e+07,  4.73179967e+07,  2.65885840e+07,\n",
       "        1.93085500e+08,  4.25145351e+07,  4.12018210e+07,  3.86196794e+07,\n",
       "        3.17436555e+07,  7.51037148e+07,  3.40171054e+07,  3.21228208e+07,\n",
       "        1.69722342e+08,  3.04061126e+07,  4.35797497e+07,  4.63852885e+07,\n",
       "        5.66023178e+07,  7.24088343e+08,  4.56869371e+07,  1.78052534e+08,\n",
       "        4.65636140e+07,  2.90949295e+07,  8.51766115e+07, -6.52042533e+07,\n",
       "        3.78455578e+07,  4.55510181e+07,  5.71264047e+07,  4.90850431e+07,\n",
       "        2.43793248e+07,  3.92616923e+07,  7.39323091e+07,  3.26420775e+07,\n",
       "        1.09860885e+06,  3.63395182e+07,  3.44391164e+07,  3.43858247e+07,\n",
       "        7.12423578e+07,  6.62096588e+07,  3.22733985e+07,  2.73212182e+07,\n",
       "        4.65813777e+07,  3.79961639e+07,  5.43804214e+07,  3.43817268e+07,\n",
       "        4.93610800e+07,  7.26149458e+07,  7.62752508e+07,  7.90205470e+07,\n",
       "        7.62752508e+07,  4.99068411e+07, -1.00155808e+06,  4.80555846e+07,\n",
       "        2.86722980e+07,  3.69419292e+07,  3.36434388e+07,  5.27181582e+07,\n",
       "        3.90986796e+08,  8.70279906e+07,  3.98034691e+07,  3.44510893e+07,\n",
       "        3.54742427e+07,  7.46163342e+07,  2.72110302e+07,  5.07162229e+07,\n",
       "        3.00235718e+07,  4.49746834e+07,  1.58074159e+08,  4.50751056e+07,\n",
       "        4.47738560e+07,  3.56896619e+07,  9.04599024e+07,  6.72834185e+07,\n",
       "        4.59788641e+07,  4.08374288e+07,  3.29941935e+07,  4.61294919e+07,\n",
       "        3.43243704e+07,  3.81467705e+07,  4.78051911e+07,  3.36434388e+07,\n",
       "        1.67176879e+08,  3.93237636e+07,  3.90294792e+07,  3.54359138e+07,\n",
       "        9.63668074e+07,  7.58177071e+07,  3.78042964e+07,  2.71535452e+07,\n",
       "        4.22743414e+07,  4.47355124e+07,  5.23451431e+07,  4.13096009e+07,\n",
       "        4.44726080e+07,  4.23639169e+07,  7.68723274e+07,  4.80555846e+07,\n",
       "        4.94541884e+07,  3.92010276e+07,  3.92450042e+07,  6.16346463e+07,\n",
       "        3.91372409e+07,  3.40805341e+07,  3.74375534e+07,  3.25128797e+07,\n",
       "        3.42558354e+07,  7.49026244e+07,  3.76409909e+07,  4.41392165e+07,\n",
       "        4.65733760e+07,  4.30357524e+08, -3.80248417e+07,  4.82694748e+07,\n",
       "        7.00985456e+07,  6.98142074e+08,  4.78690869e+07,  5.04443556e+07,\n",
       "        2.71460768e+07,  5.23955985e+07,  3.54203889e+07,  8.13083379e+07,\n",
       "        7.96516238e+07,  4.05565300e+07,  3.79961639e+07,  3.87248907e+07,\n",
       "        3.36287481e+07,  4.80555846e+07,  4.78282407e+07,  1.80136103e+08,\n",
       "        1.62283287e+08,  4.68555103e+07,  4.11554356e+07,  3.46925607e+07,\n",
       "        2.13716510e+08,  2.70757113e+07,  9.06886998e+07,  2.54574915e+07,\n",
       "        1.68422013e+08,  4.15895991e+07,  2.77510862e+07,  2.13716510e+08,\n",
       "        2.95659801e+07,  3.27233441e+07,  5.81810155e+07,  4.02504888e+07,\n",
       "        4.65636140e+07,  4.58425123e+08,  4.08374288e+07,  3.42311302e+07,\n",
       "        4.19120648e+07,  6.91778874e+07,  3.73937417e+07,  3.77903349e+07,\n",
       "        3.81243442e+07,  4.34701374e+07,  3.48335188e+07,  7.99502294e+07,\n",
       "        3.79401926e+07,  3.51776055e+07,  5.06665950e+07,  4.59788641e+07,\n",
       "        2.13928562e+08,  2.75249797e+07,  2.34681657e+08,  6.78109511e+07,\n",
       "        2.08373050e+08,  4.54150995e+07,  7.87917701e+07,  1.74034992e+08,\n",
       "        2.53563576e+07])"
      ]
     },
     "execution_count": 25,
     "metadata": {},
     "output_type": "execute_result"
    }
   ],
   "source": [
    "degree=2\n",
    "poly_features = PolynomialFeatures(degree=degree)\n",
    "X_train_poly = poly_features.fit_transform(X_train)\n",
    "poly_model = LinearRegression()\n",
    "poly_model.fit(X_train_poly, y_train)\n",
    "y_train_predicted = poly_model.predict(X_train_poly)\n",
    "y_test_predict = poly_model.predict(poly_features.fit_transform(X_test))\n",
    "y_test_predict "
   ]
  },
  {
   "cell_type": "markdown",
   "metadata": {},
   "source": [
    "#### Step 3: Obtaining the intercept"
   ]
  },
  {
   "cell_type": "code",
   "execution_count": 26,
   "metadata": {},
   "outputs": [
    {
     "data": {
      "text/plain": [
       "-1104134395.476201"
      ]
     },
     "execution_count": 26,
     "metadata": {},
     "output_type": "execute_result"
    }
   ],
   "source": [
    "poly_model.intercept_"
   ]
  },
  {
   "cell_type": "markdown",
   "metadata": {},
   "source": [
    "#### Step 4: obtaining the coefficients"
   ]
  },
  {
   "cell_type": "code",
   "execution_count": 27,
   "metadata": {},
   "outputs": [
    {
     "data": {
      "text/plain": [
       "array([ 0.00000000e+00,  6.79767337e+06, -1.71987448e+07,  1.37345398e+08,\n",
       "       -1.28072090e+04,  3.93137201e+09,  2.00457702e+01, -3.09063920e+02,\n",
       "       -3.67793578e+05,  3.66680180e+00, -7.41745709e+05, -2.28135434e+03,\n",
       "        2.13423301e+06, -3.78976619e+01,  1.58016620e+06, -1.23107938e+07,\n",
       "        2.30547887e+03, -4.54068415e+08, -4.68931674e-02,  8.50885207e+03,\n",
       "       -2.59527605e+08])"
      ]
     },
     "execution_count": 27,
     "metadata": {},
     "output_type": "execute_result"
    }
   ],
   "source": [
    "poly_model.coef_"
   ]
  },
  {
   "cell_type": "markdown",
   "metadata": {},
   "source": [
    "### Third take: random forest"
   ]
  },
  {
   "cell_type": "markdown",
   "metadata": {},
   "source": [
    "#### Downside of the approach: no way of analyzing coefficients in a meaningful manner. It is only for predictions."
   ]
  },
  {
   "cell_type": "markdown",
   "metadata": {},
   "source": [
    "#### Step 1: create regressor object"
   ]
  },
  {
   "cell_type": "code",
   "execution_count": 36,
   "metadata": {},
   "outputs": [],
   "source": [
    "regressor = RandomForestRegressor(n_estimators = 100, max_depth= 5, random_state = 0) \n"
   ]
  },
  {
   "cell_type": "markdown",
   "metadata": {},
   "source": [
    "#### Step 2: fit the regressor with x and y data"
   ]
  },
  {
   "cell_type": "code",
   "execution_count": 37,
   "metadata": {},
   "outputs": [
    {
     "data": {
      "text/plain": [
       "RandomForestRegressor(max_depth=5, random_state=0)"
      ]
     },
     "execution_count": 37,
     "metadata": {},
     "output_type": "execute_result"
    }
   ],
   "source": [
    "regressor.fit(X_train,y_train)"
   ]
  },
  {
   "cell_type": "markdown",
   "metadata": {},
   "source": [
    "#### Step 3: making predictions on test data set with Random Forest model"
   ]
  },
  {
   "cell_type": "code",
   "execution_count": 38,
   "metadata": {},
   "outputs": [
    {
     "data": {
      "text/plain": [
       "array([4.22310793e+07, 4.18539447e+07, 4.22310793e+07, 2.56936797e+07,\n",
       "       3.56905716e+07, 4.03017599e+07, 7.23088379e+07, 4.23514143e+07,\n",
       "       7.26975108e+07, 4.22310793e+07, 4.22310793e+07, 7.23088379e+07,\n",
       "       4.60152599e+07, 6.02991754e+07, 4.04220949e+07, 2.54750979e+07,\n",
       "       2.58384642e+07, 4.22310793e+07, 5.89742930e+08, 4.42902210e+07,\n",
       "       4.22310793e+07, 4.11643698e+07, 4.22310793e+07, 4.22310793e+07,\n",
       "       4.42902210e+07, 4.21907853e+07, 4.22310793e+07, 2.54750979e+07,\n",
       "       1.56104343e+08, 4.22310793e+07, 4.03017599e+07, 3.62557856e+07,\n",
       "       4.19612686e+07, 7.25338309e+07, 4.22310793e+07, 3.32808731e+07,\n",
       "       1.43292894e+08, 2.56936797e+07, 4.36928766e+07, 4.23514143e+07,\n",
       "       4.85150505e+07, 5.35586208e+08, 4.20704503e+07, 1.42554371e+08,\n",
       "       4.42902210e+07, 3.81587520e+07, 4.45314515e+07, 4.11245948e+07,\n",
       "       4.06580080e+07, 4.20704503e+07, 4.24723098e+07, 4.22310793e+07,\n",
       "       6.13874283e+07, 6.27068094e+07, 7.06641753e+07, 2.54750979e+07,\n",
       "       6.13874283e+07, 4.03017599e+07, 3.82790870e+07, 4.22310793e+07,\n",
       "       6.93516241e+07, 6.14693840e+07, 3.31572126e+07, 2.54750979e+07,\n",
       "       4.22310793e+07, 4.06580080e+07, 4.25926448e+07, 3.81587520e+07,\n",
       "       4.42902210e+07, 7.04391824e+07, 7.23088379e+07, 7.23088379e+07,\n",
       "       7.23088379e+07, 6.96197763e+07, 6.13874283e+07, 4.42902210e+07,\n",
       "       3.56905716e+07, 4.03017599e+07, 3.30368776e+07, 4.42902210e+07,\n",
       "       5.91342249e+08, 7.23088379e+07, 4.18539447e+07, 3.79379991e+07,\n",
       "       4.03017599e+07, 5.20974977e+07, 2.54750979e+07, 4.22310793e+07,\n",
       "       4.03017599e+07, 4.23514143e+07, 1.41876572e+08, 4.22310793e+07,\n",
       "       4.22310793e+07, 4.05532592e+07, 7.25691090e+07, 7.17698892e+07,\n",
       "       4.22310793e+07, 4.19742797e+07, 4.22310793e+07, 4.22310793e+07,\n",
       "       4.22310793e+07, 4.06580080e+07, 4.23514143e+07, 3.30368776e+07,\n",
       "       1.43292894e+08, 4.04220949e+07, 4.22310793e+07, 3.86375137e+07,\n",
       "       1.19871599e+08, 7.23088379e+07, 3.56905716e+07, 2.56936797e+07,\n",
       "       4.27332140e+07, 4.18539447e+07, 4.42902210e+07, 4.20704503e+07,\n",
       "       4.22310793e+07, 4.22310793e+07, 7.25338309e+07, 4.42902210e+07,\n",
       "       4.58311024e+07, 4.18539447e+07, 4.22310793e+07, 5.18041981e+07,\n",
       "       4.22310793e+07, 3.79379991e+07, 4.24723098e+07, 2.54750979e+07,\n",
       "       3.50095982e+07, 7.23088379e+07, 3.78401202e+07, 4.38002006e+07,\n",
       "       4.23514143e+07, 4.23707344e+08, 4.17665136e+07, 4.22310793e+07,\n",
       "       6.59093383e+07, 5.74194497e+08, 4.42902210e+07, 4.22310793e+07,\n",
       "       2.54750979e+07, 6.96590628e+07, 4.03017599e+07, 7.23088379e+07,\n",
       "       7.25338309e+07, 4.19612686e+07, 4.06580080e+07, 4.19742797e+07,\n",
       "       3.74957760e+07, 4.42902210e+07, 4.23514143e+07, 1.43292894e+08,\n",
       "       1.41876572e+08, 4.23514143e+07, 4.22268522e+07, 3.82790870e+07,\n",
       "       2.54834009e+08, 2.54750979e+07, 7.25691090e+07, 2.54750979e+07,\n",
       "       1.41876572e+08, 4.19742797e+07, 2.54750979e+07, 2.54834009e+08,\n",
       "       4.03017599e+07, 4.22310793e+07, 4.24723098e+07, 3.81587520e+07,\n",
       "       4.42902210e+07, 6.25724145e+08, 4.19742797e+07, 3.79379991e+07,\n",
       "       4.20704503e+07, 6.47061347e+07, 4.05532592e+07, 4.22310793e+07,\n",
       "       4.22310793e+07, 4.23514143e+07, 3.81587520e+07, 7.25338309e+07,\n",
       "       3.56905716e+07, 4.22310793e+07, 4.42902210e+07, 4.22310793e+07,\n",
       "       1.62617206e+08, 2.54750979e+07, 3.82435368e+08, 6.47439474e+07,\n",
       "       1.60264418e+08, 4.20704503e+07, 7.23088379e+07, 1.44624087e+08,\n",
       "       2.54750979e+07])"
      ]
     },
     "execution_count": 38,
     "metadata": {},
     "output_type": "execute_result"
    }
   ],
   "source": [
    "predictions_rf_test = regressor.predict(X_test)\n",
    "predictions_rf_test"
   ]
  },
  {
   "cell_type": "markdown",
   "metadata": {},
   "source": [
    "#### Step 4: Calculating the R2 score"
   ]
  },
  {
   "cell_type": "code",
   "execution_count": 39,
   "metadata": {},
   "outputs": [
    {
     "data": {
      "text/plain": [
       "0.7959630654181644"
      ]
     },
     "execution_count": 39,
     "metadata": {},
     "output_type": "execute_result"
    }
   ],
   "source": [
    "r2 = r2_score(y_test, predictions_rf_test)\n",
    "r2"
   ]
  },
  {
   "cell_type": "markdown",
   "metadata": {},
   "source": [
    "#### Step 5: Calculating the RMSE"
   ]
  },
  {
   "cell_type": "code",
   "execution_count": 40,
   "metadata": {},
   "outputs": [
    {
     "name": "stdout",
     "output_type": "stream",
     "text": [
      "54221999.893495895\n"
     ]
    }
   ],
   "source": [
    "mse = mean_squared_error(y_test, predictions_rf_test)\n",
    "rmse = math.sqrt(mse)\n",
    "print(rmse)"
   ]
  },
  {
   "cell_type": "markdown",
   "metadata": {},
   "source": [
    "#### Step 6: Plotting actual vs predicted investments"
   ]
  },
  {
   "cell_type": "code",
   "execution_count": 41,
   "metadata": {},
   "outputs": [
    {
     "name": "stderr",
     "output_type": "stream",
     "text": [
      "C:\\Users\\kaypa\\anaconda3\\lib\\site-packages\\seaborn\\_decorators.py:36: FutureWarning: Pass the following variables as keyword args: x, y. From version 0.12, the only valid positional argument will be `data`, and passing other arguments without an explicit keyword will result in an error or misinterpretation.\n",
      "  warnings.warn(\n",
      "C:\\Users\\kaypa\\anaconda3\\lib\\site-packages\\seaborn\\_decorators.py:36: FutureWarning: Pass the following variables as keyword args: x, y. From version 0.12, the only valid positional argument will be `data`, and passing other arguments without an explicit keyword will result in an error or misinterpretation.\n",
      "  warnings.warn(\n"
     ]
    },
    {
     "data": {
      "image/png": "[encoded data removed]",
      "text/plain": [
       "<Figure size 1080x360 with 1 Axes>"
      ]
     },
     "metadata": {
      "needs_background": "light"
     },
     "output_type": "display_data"
    }
   ],
   "source": [
    "plt.figure(figsize=(15, 5))\n",
    "sns.scatterplot(y_test, predictions_rf_test, alpha=0.4)\n",
    "sns.regplot(y_test, predictions, truncate=True, scatter_kws={'s': 20, 'alpha':0.3}, line_kws={'color':'green', 'linewidth': 2})\n",
    " \n",
    "plt.xlabel(\"Actual investments (US$)\")\n",
    "plt.ylabel(\"Predicted investments (US$)\")\n",
    "plt.title(\"Actual vs predicted investments\")\n",
    " \n",
    "plt.show()"
   ]
  },
  {
   "cell_type": "markdown",
   "metadata": {},
   "source": [
    "### Comparing the predictions' histograms"
   ]
  },
  {
   "cell_type": "code",
   "execution_count": 42,
   "metadata": {},
   "outputs": [
    {
     "data": {
      "text/plain": [
       "Text(0.5, 1.0, 'Linear Regression')"
      ]
     },
     "execution_count": 42,
     "metadata": {},
     "output_type": "execute_result"
    },
    {
     "data": {
      "image/png": "[encoded data removed]",
      "text/plain": [
       "<Figure size 720x432 with 1 Axes>"
      ]
     },
     "metadata": {
      "needs_background": "light"
     },
     "output_type": "display_data"
    }
   ],
   "source": [
    "#Linear regression\n",
    "df3 = pd.DataFrame(predictions, columns = ['predictions'])\n",
    "plt.figure(figsize=(10, 6))\n",
    "sns.histplot(x=df3[\"predictions\"] , color=\"skyblue\", kde=True).set_title(\"Linear Regression\")"
   ]
  },
  {
   "cell_type": "code",
   "execution_count": 43,
   "metadata": {},
   "outputs": [
    {
     "data": {
      "text/plain": [
       "Text(0.5, 1.0, 'Polynomial Regression')"
      ]
     },
     "execution_count": 43,
     "metadata": {},
     "output_type": "execute_result"
    },
    {
     "data": {
      "image/png": "[encoded data removed]",
      "text/plain": [
       "<Figure size 720x432 with 1 Axes>"
      ]
     },
     "metadata": {
      "needs_background": "light"
     },
     "output_type": "display_data"
    }
   ],
   "source": [
    "#Polynomial Regression\n",
    "df4 = pd.DataFrame(y_test_predict , columns = ['predictions'])\n",
    "plt.figure(figsize=(10, 6))\n",
    "sns.histplot(x=df4[\"predictions\"] , color=\"skyblue\", kde=True).set_title(\"Polynomial Regression\")"
   ]
  },
  {
   "cell_type": "code",
   "execution_count": 44,
   "metadata": {},
   "outputs": [
    {
     "data": {
      "text/plain": [
       "Text(0.5, 1.0, 'Random Forest')"
      ]
     },
     "execution_count": 44,
     "metadata": {},
     "output_type": "execute_result"
    },
    {
     "data": {
      "image/png": "[encoded data removed]",
      "text/plain": [
       "<Figure size 720x432 with 1 Axes>"
      ]
     },
     "metadata": {
      "needs_background": "light"
     },
     "output_type": "display_data"
    }
   ],
   "source": [
    "#Random forest regression\n",
    "df5 = pd.DataFrame(predictions_rf_test, columns = ['predictions'])\n",
    "plt.figure(figsize=(10, 6))\n",
    "sns.histplot(x=df5[\"predictions\"] , color=\"skyblue\", kde=True).set_title(\"Random Forest\")"
   ]
  },
  {
   "cell_type": "markdown",
   "metadata": {},
   "source": [
    "### Comparing the mean predicted values with actual values"
   ]
  },
  {
   "cell_type": "markdown",
   "metadata": {},
   "source": [
    "#### Actual values' mean"
   ]
  },
  {
   "cell_type": "code",
   "execution_count": 45,
   "metadata": {},
   "outputs": [
    {
     "data": {
      "text/plain": [
       "80134187.0757221"
      ]
     },
     "execution_count": 45,
     "metadata": {},
     "output_type": "execute_result"
    }
   ],
   "source": [
    "df3=df2[['inv_US$']]\n",
    "df3[\"inv_US$\"].mean()\n"
   ]
  },
  {
   "cell_type": "markdown",
   "metadata": {},
   "source": [
    "#### Y test mean"
   ]
  },
  {
   "cell_type": "code",
   "execution_count": 46,
   "metadata": {},
   "outputs": [
    {
     "data": {
      "text/plain": [
       "74614238.12953368"
      ]
     },
     "execution_count": 46,
     "metadata": {},
     "output_type": "execute_result"
    }
   ],
   "source": [
    "y_test.mean()"
   ]
  },
  {
   "cell_type": "markdown",
   "metadata": {},
   "source": [
    "#### Linear regression results' mean"
   ]
  },
  {
   "cell_type": "code",
   "execution_count": 47,
   "metadata": {},
   "outputs": [
    {
     "data": {
      "text/plain": [
       "74959601.50514868"
      ]
     },
     "execution_count": 47,
     "metadata": {},
     "output_type": "execute_result"
    }
   ],
   "source": [
    "predictions.mean()"
   ]
  },
  {
   "cell_type": "markdown",
   "metadata": {},
   "source": [
    "#### Polynomial regression results' mean"
   ]
  },
  {
   "cell_type": "code",
   "execution_count": 48,
   "metadata": {},
   "outputs": [
    {
     "data": {
      "text/plain": [
       "70446797.30585282"
      ]
     },
     "execution_count": 48,
     "metadata": {},
     "output_type": "execute_result"
    }
   ],
   "source": [
    "y_test_predict.mean()"
   ]
  },
  {
   "cell_type": "markdown",
   "metadata": {},
   "source": [
    "#### Random forest results' mean"
   ]
  },
  {
   "cell_type": "code",
   "execution_count": 49,
   "metadata": {},
   "outputs": [
    {
     "data": {
      "text/plain": [
       "71195097.4240863"
      ]
     },
     "execution_count": 49,
     "metadata": {},
     "output_type": "execute_result"
    }
   ],
   "source": [
    "predictions_rf_test.mean()"
   ]
  },
  {
   "cell_type": "markdown",
   "metadata": {},
   "source": [
    "### Findings\n",
    "***\n",
    "- In terms of R2, the RandomForest (0.796) outperforms the Polynomial of order 2 (0.788) and the Linear Regression models (0.595)\n",
    "- It also does it in terms of RMSE: 54221999 < 55310725 < 76372874\n",
    "- This suggests that the RandomForest model tends to be the most suitable one to make predictions of the variable \"inv_US$\". \n"
   ]
  },
  {
   "cell_type": "markdown",
   "metadata": {},
   "source": [
    "- The downside of the RandomForest regression modeling approach is its treatment of the model coefficients. This is a key variable for policymakers and investors alike in their decisionmaking approach. On the other hand, it should be acknowledged that ML models' focus is set on making predicitions, and not in presenting the coefficients (which Panel Models probably can do even better)\n",
    "- It appears that both the polynomial and the Random forest do a good job (more than the linear regresssion) of estimating what the average investments could be like by extrapolation. What these models' results suggest is that the average investments will tend to fall, in line with the findings obtained in the classification problem.\n",
    "- When the RandomForest' parameter are tuned, predicitions below the US$55 million mark for average investments are reached. However, this comes at the cost of a much lower R2 and RMSE. "
   ]
  }
 ],
 "metadata": {
  "kernelspec": {
   "display_name": "Python 3",
   "language": "python",
   "name": "python3"
  },
  "language_info": {
   "codemirror_mode": {
    "name": "ipython",
    "version": 3
   },
   "file_extension": ".py",
   "mimetype": "text/x-python",
   "name": "python",
   "nbconvert_exporter": "python",
   "pygments_lexer": "ipython3",
   "version": "3.8.5"
  }
 },
 "nbformat": 4,
 "nbformat_minor": 4
}
