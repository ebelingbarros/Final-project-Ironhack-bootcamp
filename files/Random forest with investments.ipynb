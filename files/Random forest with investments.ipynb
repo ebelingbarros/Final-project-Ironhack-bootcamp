{
 "cells": [
  {
   "cell_type": "markdown",
   "metadata": {},
   "source": [
    "# Multi class Random Forest modelling using investment bins as the class to be predicted"
   ]
  },
  {
   "cell_type": "markdown",
   "metadata": {},
   "source": [
    "### Import libraries and load data"
   ]
  },
  {
   "cell_type": "code",
   "execution_count": 1,
   "metadata": {},
   "outputs": [
    {
     "name": "stdout",
     "output_type": "stream",
     "text": [
      "False\n"
     ]
    }
   ],
   "source": [
    "#Importing Libraries\n",
    "import numpy as np\n",
    "import pandas as pd\n",
    "from sklearn.model_selection import train_test_split\n",
    "from sklearn.preprocessing import StandardScaler\n",
    "from sklearn.ensemble import RandomForestClassifier\n",
    "from sklearn.metrics import confusion_matrix\n",
    "from sklearn.ensemble import RandomForestRegressor\n",
    "from sklearn.metrics import log_loss\n",
    "import numpy as np\n",
    "import matplotlib.pyplot as plt\n",
    "%matplotlib inline\n",
    "import seaborn as sns\n",
    "import plotly.express as px\n",
    "from sklearn.metrics import roc_auc_score\n",
    "import plotly.graph_objects as go\n",
    "from sklearn.metrics import accuracy_score, confusion_matrix, classification_report\n",
    "import warnings\n",
    "import numpy as np\n",
    "warnings.simplefilter(action='ignore', category=FutureWarning)\n",
    "print('x' in np.arange(5))   #returns False, without Warning"
   ]
  },
  {
   "cell_type": "code",
   "execution_count": 2,
   "metadata": {},
   "outputs": [
    {
     "data": {
      "text/html": [
       "<div>\n",
       "<style scoped>\n",
       "    .dataframe tbody tr th:only-of-type {\n",
       "        vertical-align: middle;\n",
       "    }\n",
       "\n",
       "    .dataframe tbody tr th {\n",
       "        vertical-align: top;\n",
       "    }\n",
       "\n",
       "    .dataframe thead th {\n",
       "        text-align: right;\n",
       "    }\n",
       "</style>\n",
       "<table border=\"1\" class=\"dataframe\">\n",
       "  <thead>\n",
       "    <tr style=\"text-align: right;\">\n",
       "      <th></th>\n",
       "      <th>Unnamed: 0</th>\n",
       "      <th>id</th>\n",
       "      <th>plant</th>\n",
       "      <th>size</th>\n",
       "      <th>number</th>\n",
       "      <th>auction</th>\n",
       "      <th>capacity</th>\n",
       "      <th>physical_guarantee</th>\n",
       "      <th>sold_lots</th>\n",
       "      <th>source</th>\n",
       "      <th>...</th>\n",
       "      <th>gkf</th>\n",
       "      <th>fdi</th>\n",
       "      <th>primary_energy_consumption</th>\n",
       "      <th>g</th>\n",
       "      <th>exch</th>\n",
       "      <th>inv_US$_billion</th>\n",
       "      <th>state</th>\n",
       "      <th>inv_size</th>\n",
       "      <th>physical_guarantee_size</th>\n",
       "      <th>distance_from_last_auction</th>\n",
       "    </tr>\n",
       "  </thead>\n",
       "  <tbody>\n",
       "    <tr>\n",
       "      <th>0</th>\n",
       "      <td>0</td>\n",
       "      <td>1</td>\n",
       "      <td>UHE Foz do Rio Claro</td>\n",
       "      <td>0.091</td>\n",
       "      <td>11</td>\n",
       "      <td>Leilão 2/2005</td>\n",
       "      <td>68.4</td>\n",
       "      <td>41.0</td>\n",
       "      <td>41.0</td>\n",
       "      <td>hydro</td>\n",
       "      <td>...</td>\n",
       "      <td>17.204883</td>\n",
       "      <td>1.733901</td>\n",
       "      <td>8.86</td>\n",
       "      <td>84956.3</td>\n",
       "      <td>2.3399</td>\n",
       "      <td>0.120104543</td>\n",
       "      <td>GO</td>\n",
       "      <td>10918594.82</td>\n",
       "      <td>3.727273</td>\n",
       "      <td>0.798005</td>\n",
       "    </tr>\n",
       "    <tr>\n",
       "      <th>1</th>\n",
       "      <td>1</td>\n",
       "      <td>2</td>\n",
       "      <td>UHE São José</td>\n",
       "      <td>0.091</td>\n",
       "      <td>11</td>\n",
       "      <td>Leilão 2/2005</td>\n",
       "      <td>51.0</td>\n",
       "      <td>30.4</td>\n",
       "      <td>30.0</td>\n",
       "      <td>hydro</td>\n",
       "      <td>...</td>\n",
       "      <td>17.204883</td>\n",
       "      <td>1.733901</td>\n",
       "      <td>8.86</td>\n",
       "      <td>84956.3</td>\n",
       "      <td>2.3399</td>\n",
       "      <td>0.08931406</td>\n",
       "      <td>RS</td>\n",
       "      <td>8119460.00</td>\n",
       "      <td>2.763636</td>\n",
       "      <td>0.798005</td>\n",
       "    </tr>\n",
       "    <tr>\n",
       "      <th>2</th>\n",
       "      <td>2</td>\n",
       "      <td>3</td>\n",
       "      <td>UHE Passo São João</td>\n",
       "      <td>0.091</td>\n",
       "      <td>11</td>\n",
       "      <td>Leilão 2/2005</td>\n",
       "      <td>77.0</td>\n",
       "      <td>39.0</td>\n",
       "      <td>37.0</td>\n",
       "      <td>hydro</td>\n",
       "      <td>...</td>\n",
       "      <td>17.204883</td>\n",
       "      <td>1.733901</td>\n",
       "      <td>8.86</td>\n",
       "      <td>84956.3</td>\n",
       "      <td>2.3399</td>\n",
       "      <td>0.114362101</td>\n",
       "      <td>RS</td>\n",
       "      <td>10396554.64</td>\n",
       "      <td>3.545455</td>\n",
       "      <td>0.798005</td>\n",
       "    </tr>\n",
       "    <tr>\n",
       "      <th>3</th>\n",
       "      <td>3</td>\n",
       "      <td>4</td>\n",
       "      <td>UHE Simplício</td>\n",
       "      <td>0.091</td>\n",
       "      <td>11</td>\n",
       "      <td>Leilão 2/2005</td>\n",
       "      <td>337.7</td>\n",
       "      <td>191.3</td>\n",
       "      <td>185.0</td>\n",
       "      <td>hydro</td>\n",
       "      <td>...</td>\n",
       "      <td>17.204883</td>\n",
       "      <td>1.733901</td>\n",
       "      <td>8.86</td>\n",
       "      <td>84956.3</td>\n",
       "      <td>2.3399</td>\n",
       "      <td>0.616054447</td>\n",
       "      <td>RJ</td>\n",
       "      <td>56004949.73</td>\n",
       "      <td>17.390909</td>\n",
       "      <td>0.798005</td>\n",
       "    </tr>\n",
       "    <tr>\n",
       "      <th>4</th>\n",
       "      <td>4</td>\n",
       "      <td>5</td>\n",
       "      <td>UHE Retiro Baixo</td>\n",
       "      <td>0.091</td>\n",
       "      <td>11</td>\n",
       "      <td>Leilão 2/2005</td>\n",
       "      <td>82.0</td>\n",
       "      <td>38.5</td>\n",
       "      <td>36.0</td>\n",
       "      <td>hydro</td>\n",
       "      <td>...</td>\n",
       "      <td>17.204883</td>\n",
       "      <td>1.733901</td>\n",
       "      <td>8.86</td>\n",
       "      <td>84956.3</td>\n",
       "      <td>2.3399</td>\n",
       "      <td>0.112149186</td>\n",
       "      <td>MG</td>\n",
       "      <td>10195380.55</td>\n",
       "      <td>3.500000</td>\n",
       "      <td>0.798005</td>\n",
       "    </tr>\n",
       "  </tbody>\n",
       "</table>\n",
       "<p>5 rows × 26 columns</p>\n",
       "</div>"
      ],
      "text/plain": [
       "   Unnamed: 0  id                 plant   size  number        auction  \\\n",
       "0           0   1  UHE Foz do Rio Claro  0.091      11  Leilão 2/2005   \n",
       "1           1   2          UHE São José  0.091      11  Leilão 2/2005   \n",
       "2           2   3    UHE Passo São João  0.091      11  Leilão 2/2005   \n",
       "3           3   4         UHE Simplício  0.091      11  Leilão 2/2005   \n",
       "4           4   5      UHE Retiro Baixo  0.091      11  Leilão 2/2005   \n",
       "\n",
       "   capacity  physical_guarantee  sold_lots source  ...        gkf       fdi  \\\n",
       "0      68.4                41.0       41.0  hydro  ...  17.204883  1.733901   \n",
       "1      51.0                30.4       30.0  hydro  ...  17.204883  1.733901   \n",
       "2      77.0                39.0       37.0  hydro  ...  17.204883  1.733901   \n",
       "3     337.7               191.3      185.0  hydro  ...  17.204883  1.733901   \n",
       "4      82.0                38.5       36.0  hydro  ...  17.204883  1.733901   \n",
       "\n",
       "   primary_energy_consumption        g    exch  inv_US$_billion  state  \\\n",
       "0                        8.86  84956.3  2.3399      0.120104543     GO   \n",
       "1                        8.86  84956.3  2.3399       0.08931406     RS   \n",
       "2                        8.86  84956.3  2.3399      0.114362101     RS   \n",
       "3                        8.86  84956.3  2.3399      0.616054447     RJ   \n",
       "4                        8.86  84956.3  2.3399      0.112149186     MG   \n",
       "\n",
       "      inv_size  physical_guarantee_size  distance_from_last_auction  \n",
       "0  10918594.82                 3.727273                    0.798005  \n",
       "1   8119460.00                 2.763636                    0.798005  \n",
       "2  10396554.64                 3.545455                    0.798005  \n",
       "3  56004949.73                17.390909                    0.798005  \n",
       "4  10195380.55                 3.500000                    0.798005  \n",
       "\n",
       "[5 rows x 26 columns]"
      ]
     },
     "execution_count": 2,
     "metadata": {},
     "output_type": "execute_result"
    }
   ],
   "source": [
    "##Importing data and creating dataframe \n",
    "df = pd.read_csv('firstout.csv')\n",
    "df.head()"
   ]
  },
  {
   "cell_type": "code",
   "execution_count": 3,
   "metadata": {},
   "outputs": [
    {
     "data": {
      "text/plain": [
       "Index(['Unnamed: 0', 'id', 'plant', 'size', 'number', 'auction', 'capacity',\n",
       "       'physical_guarantee', 'sold_lots', 'source', 'company_consortium',\n",
       "       'year', 'price_US$', 'inv_US$', 'gdp_growth', 'risk_embi', 'gkf', 'fdi',\n",
       "       'primary_energy_consumption', 'g', 'exch', 'inv_US$_billion', 'state',\n",
       "       'inv_size', 'physical_guarantee_size', 'distance_from_last_auction'],\n",
       "      dtype='object')"
      ]
     },
     "execution_count": 3,
     "metadata": {},
     "output_type": "execute_result"
    }
   ],
   "source": [
    "#Retrieving keys\n",
    "df.keys()"
   ]
  },
  {
   "cell_type": "code",
   "execution_count": 4,
   "metadata": {},
   "outputs": [
    {
     "data": {
      "text/html": [
       "<div>\n",
       "<style scoped>\n",
       "    .dataframe tbody tr th:only-of-type {\n",
       "        vertical-align: middle;\n",
       "    }\n",
       "\n",
       "    .dataframe tbody tr th {\n",
       "        vertical-align: top;\n",
       "    }\n",
       "\n",
       "    .dataframe thead th {\n",
       "        text-align: right;\n",
       "    }\n",
       "</style>\n",
       "<table border=\"1\" class=\"dataframe\">\n",
       "  <thead>\n",
       "    <tr style=\"text-align: right;\">\n",
       "      <th></th>\n",
       "      <th>size</th>\n",
       "      <th>physical_guarantee</th>\n",
       "      <th>source</th>\n",
       "      <th>company_consortium</th>\n",
       "      <th>inv_US$</th>\n",
       "      <th>g</th>\n",
       "      <th>inv_US$_billion</th>\n",
       "      <th>state</th>\n",
       "      <th>distance_from_last_auction</th>\n",
       "    </tr>\n",
       "  </thead>\n",
       "  <tbody>\n",
       "    <tr>\n",
       "      <th>0</th>\n",
       "      <td>0.091</td>\n",
       "      <td>41.0</td>\n",
       "      <td>hydro</td>\n",
       "      <td>Alusa Engenharia Ltda</td>\n",
       "      <td>120104543.0</td>\n",
       "      <td>84956.3</td>\n",
       "      <td>0.120104543</td>\n",
       "      <td>GO</td>\n",
       "      <td>0.798005</td>\n",
       "    </tr>\n",
       "    <tr>\n",
       "      <th>1</th>\n",
       "      <td>0.091</td>\n",
       "      <td>30.4</td>\n",
       "      <td>hydro</td>\n",
       "      <td>Alusa Engenharia Ltda</td>\n",
       "      <td>89314060.0</td>\n",
       "      <td>84956.3</td>\n",
       "      <td>0.08931406</td>\n",
       "      <td>RS</td>\n",
       "      <td>0.798005</td>\n",
       "    </tr>\n",
       "    <tr>\n",
       "      <th>2</th>\n",
       "      <td>0.091</td>\n",
       "      <td>39.0</td>\n",
       "      <td>hydro</td>\n",
       "      <td>Eletrosul S.A.</td>\n",
       "      <td>114362101.0</td>\n",
       "      <td>84956.3</td>\n",
       "      <td>0.114362101</td>\n",
       "      <td>RS</td>\n",
       "      <td>0.798005</td>\n",
       "    </tr>\n",
       "    <tr>\n",
       "      <th>3</th>\n",
       "      <td>0.091</td>\n",
       "      <td>191.3</td>\n",
       "      <td>hydro</td>\n",
       "      <td>Furnas\\nCentrais Elétricas S.A.</td>\n",
       "      <td>616054447.0</td>\n",
       "      <td>84956.3</td>\n",
       "      <td>0.616054447</td>\n",
       "      <td>RJ</td>\n",
       "      <td>0.798005</td>\n",
       "    </tr>\n",
       "    <tr>\n",
       "      <th>4</th>\n",
       "      <td>0.091</td>\n",
       "      <td>38.5</td>\n",
       "      <td>hydro</td>\n",
       "      <td>Orteng Equipamentos e Sistemas Ltda.</td>\n",
       "      <td>112149186.0</td>\n",
       "      <td>84956.3</td>\n",
       "      <td>0.112149186</td>\n",
       "      <td>MG</td>\n",
       "      <td>0.798005</td>\n",
       "    </tr>\n",
       "  </tbody>\n",
       "</table>\n",
       "</div>"
      ],
      "text/plain": [
       "    size  physical_guarantee source                    company_consortium  \\\n",
       "0  0.091                41.0  hydro                 Alusa Engenharia Ltda   \n",
       "1  0.091                30.4  hydro                 Alusa Engenharia Ltda   \n",
       "2  0.091                39.0  hydro                        Eletrosul S.A.   \n",
       "3  0.091               191.3  hydro       Furnas\\nCentrais Elétricas S.A.   \n",
       "4  0.091                38.5  hydro  Orteng Equipamentos e Sistemas Ltda.   \n",
       "\n",
       "       inv_US$        g inv_US$_billion state  distance_from_last_auction  \n",
       "0  120104543.0  84956.3     0.120104543    GO                    0.798005  \n",
       "1   89314060.0  84956.3      0.08931406    RS                    0.798005  \n",
       "2  114362101.0  84956.3     0.114362101    RS                    0.798005  \n",
       "3  616054447.0  84956.3     0.616054447    RJ                    0.798005  \n",
       "4  112149186.0  84956.3     0.112149186    MG                    0.798005  "
      ]
     },
     "execution_count": 4,
     "metadata": {},
     "output_type": "execute_result"
    }
   ],
   "source": [
    "df = df.drop(columns=['Unnamed: 0', 'id', 'plant', 'number', 'auction', 'capacity',\n",
    "       'sold_lots', \n",
    "       'year', 'price_US$', 'gdp_growth', 'risk_embi', 'gkf', 'fdi',\n",
    "       'primary_energy_consumption', 'exch',  \n",
    "       'inv_size', 'physical_guarantee_size', ])\n",
    "df.head()"
   ]
  },
  {
   "cell_type": "markdown",
   "metadata": {},
   "source": [
    "### Factorizing the non-numeric variables"
   ]
  },
  {
   "cell_type": "code",
   "execution_count": 5,
   "metadata": {},
   "outputs": [
    {
     "name": "stdout",
     "output_type": "stream",
     "text": [
      "0    0\n",
      "1    0\n",
      "2    0\n",
      "3    0\n",
      "4    0\n",
      "Name: source, dtype: int64\n",
      "Index(['hydro', 'coal', 'sugar cane bagasse', 'diesel oil', 'others',\n",
      "       'fuel oil', 'biomass', 'natural gas', 'wind', 'solar', 'biogas'],\n",
      "      dtype='object')\n"
     ]
    }
   ],
   "source": [
    "#Factorize source\n",
    "factor = pd.factorize(df['source'])\n",
    "df.source = factor[0]\n",
    "definitions = factor[1]\n",
    "print(df.source.head())\n",
    "print(definitions)"
   ]
  },
  {
   "cell_type": "code",
   "execution_count": 6,
   "metadata": {},
   "outputs": [
    {
     "name": "stdout",
     "output_type": "stream",
     "text": [
      "0    0\n",
      "1    1\n",
      "2    1\n",
      "3    2\n",
      "4    3\n",
      "Name: state, dtype: int64\n",
      "Index(['GO', 'RS', 'RJ', 'MG', 'SP', 'MT', 'PR', 'RN', 'BA', 'PE', 'SC', 'CE',\n",
      "       'MA', 'MS', 'RO', 'PB', 'TO', 'ES', 'PI', 'AP', 'AL', 'SE', 'PA', 'AM',\n",
      "       'RR', 'AC'],\n",
      "      dtype='object')\n"
     ]
    }
   ],
   "source": [
    "#Factorize state\n",
    "factor2 = pd.factorize(df['state'])\n",
    "df.state = factor2[0]\n",
    "definitions2 = factor2[1]\n",
    "print(df.state.head())\n",
    "print(definitions2)"
   ]
  },
  {
   "cell_type": "code",
   "execution_count": 7,
   "metadata": {},
   "outputs": [
    {
     "data": {
      "text/html": [
       "<div>\n",
       "<style scoped>\n",
       "    .dataframe tbody tr th:only-of-type {\n",
       "        vertical-align: middle;\n",
       "    }\n",
       "\n",
       "    .dataframe tbody tr th {\n",
       "        vertical-align: top;\n",
       "    }\n",
       "\n",
       "    .dataframe thead th {\n",
       "        text-align: right;\n",
       "    }\n",
       "</style>\n",
       "<table border=\"1\" class=\"dataframe\">\n",
       "  <thead>\n",
       "    <tr style=\"text-align: right;\">\n",
       "      <th></th>\n",
       "      <th>size</th>\n",
       "      <th>physical_guarantee</th>\n",
       "      <th>source</th>\n",
       "      <th>company_consortium</th>\n",
       "      <th>inv_US$</th>\n",
       "      <th>g</th>\n",
       "      <th>inv_US$_billion</th>\n",
       "      <th>state</th>\n",
       "      <th>distance_from_last_auction</th>\n",
       "    </tr>\n",
       "  </thead>\n",
       "  <tbody>\n",
       "    <tr>\n",
       "      <th>0</th>\n",
       "      <td>0.091</td>\n",
       "      <td>41.0</td>\n",
       "      <td>0</td>\n",
       "      <td>Alusa Engenharia Ltda</td>\n",
       "      <td>120104543.0</td>\n",
       "      <td>84956.3</td>\n",
       "      <td>0.120104543</td>\n",
       "      <td>0</td>\n",
       "      <td>0.798005</td>\n",
       "    </tr>\n",
       "    <tr>\n",
       "      <th>1</th>\n",
       "      <td>0.091</td>\n",
       "      <td>30.4</td>\n",
       "      <td>0</td>\n",
       "      <td>Alusa Engenharia Ltda</td>\n",
       "      <td>89314060.0</td>\n",
       "      <td>84956.3</td>\n",
       "      <td>0.08931406</td>\n",
       "      <td>1</td>\n",
       "      <td>0.798005</td>\n",
       "    </tr>\n",
       "    <tr>\n",
       "      <th>2</th>\n",
       "      <td>0.091</td>\n",
       "      <td>39.0</td>\n",
       "      <td>0</td>\n",
       "      <td>Eletrosul S.A.</td>\n",
       "      <td>114362101.0</td>\n",
       "      <td>84956.3</td>\n",
       "      <td>0.114362101</td>\n",
       "      <td>1</td>\n",
       "      <td>0.798005</td>\n",
       "    </tr>\n",
       "    <tr>\n",
       "      <th>3</th>\n",
       "      <td>0.091</td>\n",
       "      <td>191.3</td>\n",
       "      <td>0</td>\n",
       "      <td>Furnas\\nCentrais Elétricas S.A.</td>\n",
       "      <td>616054447.0</td>\n",
       "      <td>84956.3</td>\n",
       "      <td>0.616054447</td>\n",
       "      <td>2</td>\n",
       "      <td>0.798005</td>\n",
       "    </tr>\n",
       "    <tr>\n",
       "      <th>4</th>\n",
       "      <td>0.091</td>\n",
       "      <td>38.5</td>\n",
       "      <td>0</td>\n",
       "      <td>Orteng Equipamentos e Sistemas Ltda.</td>\n",
       "      <td>112149186.0</td>\n",
       "      <td>84956.3</td>\n",
       "      <td>0.112149186</td>\n",
       "      <td>3</td>\n",
       "      <td>0.798005</td>\n",
       "    </tr>\n",
       "  </tbody>\n",
       "</table>\n",
       "</div>"
      ],
      "text/plain": [
       "    size  physical_guarantee  source                    company_consortium  \\\n",
       "0  0.091                41.0       0                 Alusa Engenharia Ltda   \n",
       "1  0.091                30.4       0                 Alusa Engenharia Ltda   \n",
       "2  0.091                39.0       0                        Eletrosul S.A.   \n",
       "3  0.091               191.3       0       Furnas\\nCentrais Elétricas S.A.   \n",
       "4  0.091                38.5       0  Orteng Equipamentos e Sistemas Ltda.   \n",
       "\n",
       "       inv_US$        g inv_US$_billion  state  distance_from_last_auction  \n",
       "0  120104543.0  84956.3     0.120104543      0                    0.798005  \n",
       "1   89314060.0  84956.3      0.08931406      1                    0.798005  \n",
       "2  114362101.0  84956.3     0.114362101      1                    0.798005  \n",
       "3  616054447.0  84956.3     0.616054447      2                    0.798005  \n",
       "4  112149186.0  84956.3     0.112149186      3                    0.798005  "
      ]
     },
     "execution_count": 7,
     "metadata": {},
     "output_type": "execute_result"
    }
   ],
   "source": [
    "#Control that it has worked in the data frame \n",
    "df = df.dropna()\n",
    "df.head()"
   ]
  },
  {
   "cell_type": "markdown",
   "metadata": {},
   "source": [
    "### Creating 5 bins for investments"
   ]
  },
  {
   "cell_type": "code",
   "execution_count": 8,
   "metadata": {},
   "outputs": [],
   "source": [
    "df['inv_US$_billion'] = pd.to_numeric(df['inv_US$_billion'], errors ='coerce')\n",
    "inv_bin = ['A', 'B', 'C', 'D', 'E']\n",
    "df['inv_bin'] = pd.cut(df['inv_US$_billion'],\n",
    "                              bins=[0.01, 0.05, 0.1, 0.5, 1, 11], labels=inv_bin, ordered=True)"
   ]
  },
  {
   "cell_type": "code",
   "execution_count": 9,
   "metadata": {},
   "outputs": [
    {
     "data": {
      "text/plain": [
       "A    744\n",
       "B    353\n",
       "C     91\n",
       "D     13\n",
       "E      8\n",
       "Name: inv_bin, dtype: int64"
      ]
     },
     "execution_count": 9,
     "metadata": {},
     "output_type": "execute_result"
    }
   ],
   "source": [
    "# Checked if that worked by counting values\n",
    "df['inv_bin'].value_counts()"
   ]
  },
  {
   "cell_type": "code",
   "execution_count": 10,
   "metadata": {},
   "outputs": [
    {
     "data": {
      "text/html": [
       "<div>\n",
       "<style scoped>\n",
       "    .dataframe tbody tr th:only-of-type {\n",
       "        vertical-align: middle;\n",
       "    }\n",
       "\n",
       "    .dataframe tbody tr th {\n",
       "        vertical-align: top;\n",
       "    }\n",
       "\n",
       "    .dataframe thead th {\n",
       "        text-align: right;\n",
       "    }\n",
       "</style>\n",
       "<table border=\"1\" class=\"dataframe\">\n",
       "  <thead>\n",
       "    <tr style=\"text-align: right;\">\n",
       "      <th></th>\n",
       "      <th>size</th>\n",
       "      <th>physical_guarantee</th>\n",
       "      <th>source</th>\n",
       "      <th>company_consortium</th>\n",
       "      <th>inv_US$</th>\n",
       "      <th>g</th>\n",
       "      <th>inv_US$_billion</th>\n",
       "      <th>state</th>\n",
       "      <th>distance_from_last_auction</th>\n",
       "      <th>inv_bin</th>\n",
       "    </tr>\n",
       "  </thead>\n",
       "  <tbody>\n",
       "    <tr>\n",
       "      <th>0</th>\n",
       "      <td>0.091</td>\n",
       "      <td>41.0</td>\n",
       "      <td>0</td>\n",
       "      <td>Alusa Engenharia Ltda</td>\n",
       "      <td>120104543.0</td>\n",
       "      <td>84956.3</td>\n",
       "      <td>0.120105</td>\n",
       "      <td>0</td>\n",
       "      <td>0.798005</td>\n",
       "      <td>C</td>\n",
       "    </tr>\n",
       "    <tr>\n",
       "      <th>1</th>\n",
       "      <td>0.091</td>\n",
       "      <td>30.4</td>\n",
       "      <td>0</td>\n",
       "      <td>Alusa Engenharia Ltda</td>\n",
       "      <td>89314060.0</td>\n",
       "      <td>84956.3</td>\n",
       "      <td>0.089314</td>\n",
       "      <td>1</td>\n",
       "      <td>0.798005</td>\n",
       "      <td>B</td>\n",
       "    </tr>\n",
       "    <tr>\n",
       "      <th>2</th>\n",
       "      <td>0.091</td>\n",
       "      <td>39.0</td>\n",
       "      <td>0</td>\n",
       "      <td>Eletrosul S.A.</td>\n",
       "      <td>114362101.0</td>\n",
       "      <td>84956.3</td>\n",
       "      <td>0.114362</td>\n",
       "      <td>1</td>\n",
       "      <td>0.798005</td>\n",
       "      <td>C</td>\n",
       "    </tr>\n",
       "    <tr>\n",
       "      <th>3</th>\n",
       "      <td>0.091</td>\n",
       "      <td>191.3</td>\n",
       "      <td>0</td>\n",
       "      <td>Furnas\\nCentrais Elétricas S.A.</td>\n",
       "      <td>616054447.0</td>\n",
       "      <td>84956.3</td>\n",
       "      <td>0.616054</td>\n",
       "      <td>2</td>\n",
       "      <td>0.798005</td>\n",
       "      <td>D</td>\n",
       "    </tr>\n",
       "    <tr>\n",
       "      <th>4</th>\n",
       "      <td>0.091</td>\n",
       "      <td>38.5</td>\n",
       "      <td>0</td>\n",
       "      <td>Orteng Equipamentos e Sistemas Ltda.</td>\n",
       "      <td>112149186.0</td>\n",
       "      <td>84956.3</td>\n",
       "      <td>0.112149</td>\n",
       "      <td>3</td>\n",
       "      <td>0.798005</td>\n",
       "      <td>C</td>\n",
       "    </tr>\n",
       "  </tbody>\n",
       "</table>\n",
       "</div>"
      ],
      "text/plain": [
       "    size  physical_guarantee  source                    company_consortium  \\\n",
       "0  0.091                41.0       0                 Alusa Engenharia Ltda   \n",
       "1  0.091                30.4       0                 Alusa Engenharia Ltda   \n",
       "2  0.091                39.0       0                        Eletrosul S.A.   \n",
       "3  0.091               191.3       0       Furnas\\nCentrais Elétricas S.A.   \n",
       "4  0.091                38.5       0  Orteng Equipamentos e Sistemas Ltda.   \n",
       "\n",
       "       inv_US$        g  inv_US$_billion  state  distance_from_last_auction  \\\n",
       "0  120104543.0  84956.3         0.120105      0                    0.798005   \n",
       "1   89314060.0  84956.3         0.089314      1                    0.798005   \n",
       "2  114362101.0  84956.3         0.114362      1                    0.798005   \n",
       "3  616054447.0  84956.3         0.616054      2                    0.798005   \n",
       "4  112149186.0  84956.3         0.112149      3                    0.798005   \n",
       "\n",
       "  inv_bin  \n",
       "0       C  \n",
       "1       B  \n",
       "2       C  \n",
       "3       D  \n",
       "4       C  "
      ]
     },
     "execution_count": 10,
     "metadata": {},
     "output_type": "execute_result"
    }
   ],
   "source": [
    "#Control that it has worked in the data frame \n",
    "df = df.dropna()\n",
    "df.head()"
   ]
  },
  {
   "cell_type": "markdown",
   "metadata": {},
   "source": [
    "### Defining the model"
   ]
  },
  {
   "cell_type": "code",
   "execution_count": 11,
   "metadata": {},
   "outputs": [],
   "source": [
    "df=df[['source', 'physical_guarantee', 'state', 'inv_bin']]"
   ]
  },
  {
   "cell_type": "code",
   "execution_count": 12,
   "metadata": {},
   "outputs": [
    {
     "name": "stdout",
     "output_type": "stream",
     "text": [
      "The independent features set: \n",
      "[[ 0.  41.   0. ]\n",
      " [ 0.  30.4  1. ]\n",
      " [ 0.  39.   1. ]]\n",
      "The dependent variable: \n",
      "['C', 'B', 'C']\n",
      "Categories (5, object): ['A' < 'B' < 'C' < 'D' < 'E']\n"
     ]
    }
   ],
   "source": [
    "#Splitting the data into independent and dependent variables\n",
    "X = df.iloc[:,0:3].values\n",
    "y = df.iloc[:,3].values\n",
    "print('The independent features set: ')\n",
    "print(X[:3,:])\n",
    "print('The dependent variable: ')\n",
    "print(y[:3])"
   ]
  },
  {
   "cell_type": "markdown",
   "metadata": {},
   "source": [
    "### Split the data into training and testing sets and feature scaling"
   ]
  },
  {
   "cell_type": "code",
   "execution_count": 13,
   "metadata": {},
   "outputs": [],
   "source": [
    "X_train, X_test, y_train, y_test = train_test_split(X, y, test_size = 0.1)\n"
   ]
  },
  {
   "cell_type": "code",
   "execution_count": 14,
   "metadata": {},
   "outputs": [],
   "source": [
    "# Feature Scaling\n",
    "scaler = StandardScaler()\n",
    "X_train = scaler.fit_transform(X_train)\n",
    "X_test = scaler.transform(X_test)"
   ]
  },
  {
   "cell_type": "markdown",
   "metadata": {},
   "source": [
    "### Running the model using the \"entrophy\" criterion but with only one variable tuned"
   ]
  },
  {
   "cell_type": "code",
   "execution_count": 15,
   "metadata": {},
   "outputs": [
    {
     "data": {
      "text/plain": [
       "array([[0.  , 0.02, 0.22, 0.11, 0.65],\n",
       "       [0.  , 0.  , 0.21, 0.25, 0.54],\n",
       "       [0.  , 0.  , 0.21, 0.25, 0.54],\n",
       "       ...,\n",
       "       [0.04, 0.35, 0.06, 0.27, 0.28],\n",
       "       [0.04, 0.35, 0.06, 0.27, 0.28],\n",
       "       [0.04, 0.35, 0.09, 0.29, 0.23]])"
      ]
     },
     "execution_count": 15,
     "metadata": {},
     "output_type": "execute_result"
    }
   ],
   "source": [
    "from sklearn.calibration import CalibratedClassifierCV\n",
    "classifier = RandomForestClassifier(criterion = 'entropy', random_state=42, class_weight='balanced') ## with class balanced for imbalanced classification\n",
    "classifier.fit(X_train, y_train)\n",
    "cal_clf = CalibratedClassifierCV(classifier, method=\"sigmoid\", cv=\"prefit\")\n",
    "cal_clf.fit(X_test, y_test)\n",
    "y_score = classifier.fit(X_train, y_train)\n",
    "y_pred = classifier.predict(X_test)\n",
    "classifier.predict_proba(X)"
   ]
  },
  {
   "cell_type": "markdown",
   "metadata": {},
   "source": [
    "### Obtaining predictions\n",
    "***\n",
    "#### With a much less judicious use of the algorithm's tuning possibities, the results are more mixed"
   ]
  },
  {
   "cell_type": "code",
   "execution_count": 16,
   "metadata": {},
   "outputs": [
    {
     "data": {
      "text/plain": [
       "array(['B', 'A', 'A', 'B', 'A', 'B', 'A', 'A', 'A', 'B', 'A', 'A', 'A',\n",
       "       'A', 'B', 'A', 'B', 'A', 'A', 'B', 'A', 'B', 'C', 'A', 'B', 'A',\n",
       "       'B', 'A', 'B', 'A', 'A', 'B', 'A', 'A', 'A', 'A', 'C', 'B', 'B',\n",
       "       'A', 'A', 'B', 'A', 'B', 'B', 'B', 'B', 'A', 'B', 'A', 'A', 'A',\n",
       "       'B', 'A', 'A', 'D', 'A', 'A', 'A', 'B', 'A', 'A', 'B', 'A', 'A',\n",
       "       'A', 'A', 'B', 'A', 'B', 'B', 'A', 'A', 'B', 'C', 'B', 'B', 'A',\n",
       "       'B', 'A', 'A', 'A', 'A', 'B', 'A', 'A', 'A', 'A', 'A', 'D', 'B',\n",
       "       'A', 'A', 'C', 'B', 'C', 'A', 'A', 'B', 'A', 'B', 'C', 'A', 'A',\n",
       "       'A', 'A', 'A', 'A', 'A', 'A', 'A', 'A', 'A', 'A', 'A', 'A', 'B',\n",
       "       'A', 'A', 'D', 'B'], dtype=object)"
      ]
     },
     "execution_count": 16,
     "metadata": {},
     "output_type": "execute_result"
    }
   ],
   "source": [
    "y_pred"
   ]
  },
  {
   "cell_type": "markdown",
   "metadata": {},
   "source": [
    "### Some steps towards analysing the result"
   ]
  },
  {
   "cell_type": "code",
   "execution_count": 17,
   "metadata": {},
   "outputs": [
    {
     "data": {
      "text/html": [
       "<div>\n",
       "<style scoped>\n",
       "    .dataframe tbody tr th:only-of-type {\n",
       "        vertical-align: middle;\n",
       "    }\n",
       "\n",
       "    .dataframe tbody tr th {\n",
       "        vertical-align: top;\n",
       "    }\n",
       "\n",
       "    .dataframe thead th {\n",
       "        text-align: right;\n",
       "    }\n",
       "</style>\n",
       "<table border=\"1\" class=\"dataframe\">\n",
       "  <thead>\n",
       "    <tr style=\"text-align: right;\">\n",
       "      <th></th>\n",
       "      <th>inv_bin</th>\n",
       "    </tr>\n",
       "  </thead>\n",
       "  <tbody>\n",
       "    <tr>\n",
       "      <th>0</th>\n",
       "      <td>B</td>\n",
       "    </tr>\n",
       "    <tr>\n",
       "      <th>1</th>\n",
       "      <td>A</td>\n",
       "    </tr>\n",
       "    <tr>\n",
       "      <th>2</th>\n",
       "      <td>A</td>\n",
       "    </tr>\n",
       "    <tr>\n",
       "      <th>3</th>\n",
       "      <td>B</td>\n",
       "    </tr>\n",
       "    <tr>\n",
       "      <th>4</th>\n",
       "      <td>A</td>\n",
       "    </tr>\n",
       "    <tr>\n",
       "      <th>...</th>\n",
       "      <td>...</td>\n",
       "    </tr>\n",
       "    <tr>\n",
       "      <th>116</th>\n",
       "      <td>B</td>\n",
       "    </tr>\n",
       "    <tr>\n",
       "      <th>117</th>\n",
       "      <td>A</td>\n",
       "    </tr>\n",
       "    <tr>\n",
       "      <th>118</th>\n",
       "      <td>A</td>\n",
       "    </tr>\n",
       "    <tr>\n",
       "      <th>119</th>\n",
       "      <td>D</td>\n",
       "    </tr>\n",
       "    <tr>\n",
       "      <th>120</th>\n",
       "      <td>B</td>\n",
       "    </tr>\n",
       "  </tbody>\n",
       "</table>\n",
       "<p>121 rows × 1 columns</p>\n",
       "</div>"
      ],
      "text/plain": [
       "    inv_bin\n",
       "0         B\n",
       "1         A\n",
       "2         A\n",
       "3         B\n",
       "4         A\n",
       "..      ...\n",
       "116       B\n",
       "117       A\n",
       "118       A\n",
       "119       D\n",
       "120       B\n",
       "\n",
       "[121 rows x 1 columns]"
      ]
     },
     "execution_count": 17,
     "metadata": {},
     "output_type": "execute_result"
    }
   ],
   "source": [
    "#Creating a dataframe with the predicition array\n",
    "df2 = pd.DataFrame(y_pred, columns = ['inv_bin'])\n",
    "df2"
   ]
  },
  {
   "cell_type": "code",
   "execution_count": 18,
   "metadata": {},
   "outputs": [
    {
     "data": {
      "text/plain": [
       "A    75\n",
       "B    37\n",
       "C     6\n",
       "D     3\n",
       "Name: inv_bin, dtype: int64"
      ]
     },
     "execution_count": 18,
     "metadata": {},
     "output_type": "execute_result"
    }
   ],
   "source": [
    "#Count predicted values\n",
    "df2['inv_bin'].value_counts()"
   ]
  },
  {
   "cell_type": "code",
   "execution_count": 19,
   "metadata": {},
   "outputs": [
    {
     "data": {
      "text/plain": [
       "A    0.619835\n",
       "B    0.305785\n",
       "C    0.049587\n",
       "D    0.024793\n",
       "Name: inv_bin, dtype: float64"
      ]
     },
     "execution_count": 19,
     "metadata": {},
     "output_type": "execute_result"
    }
   ],
   "source": [
    "#Normalize counted values\n",
    "df2.inv_bin.value_counts(normalize=True)"
   ]
  },
  {
   "cell_type": "markdown",
   "metadata": {},
   "source": [
    "### An analysis of the metrics"
   ]
  },
  {
   "cell_type": "markdown",
   "metadata": {},
   "source": [
    "#### Accuracy score"
   ]
  },
  {
   "cell_type": "code",
   "execution_count": 20,
   "metadata": {},
   "outputs": [
    {
     "data": {
      "text/plain": [
       "0.7272727272727273"
      ]
     },
     "execution_count": 20,
     "metadata": {},
     "output_type": "execute_result"
    }
   ],
   "source": [
    "# The accuracy score substantially larger as when many parameters are tuned\n",
    "accuracy_score(y_test, y_pred)\n"
   ]
  },
  {
   "cell_type": "markdown",
   "metadata": {},
   "source": [
    "#### The confusion matrix "
   ]
  },
  {
   "cell_type": "code",
   "execution_count": 21,
   "metadata": {},
   "outputs": [
    {
     "data": {
      "image/png": "[encoded data removed]",
      "text/plain": [
       "<Figure size 432x288 with 2 Axes>"
      ]
     },
     "metadata": {
      "needs_background": "light"
     },
     "output_type": "display_data"
    }
   ],
   "source": [
    "from sklearn.metrics import confusion_matrix\n",
    "from sklearn.metrics import plot_confusion_matrix\n",
    "confusion_matrix(y_test,y_pred)\n",
    "plot_confusion_matrix(classifier, X_test, y_test)\n",
    "plt.show()"
   ]
  },
  {
   "cell_type": "markdown",
   "metadata": {},
   "source": [
    "#### The statistics obtained from the confusion matrix for the multiclass problem are calculated as follows:\n",
    "- Precision = TP/(TP+FP)\n",
    "- Recall = TP(TP+FN)\n",
    "\n",
    "<img width=\"50%\" height=\"50%\" align=\"left\" src=\"confusionmatrix2.png\"> "
   ]
  },
  {
   "cell_type": "code",
   "execution_count": 22,
   "metadata": {},
   "outputs": [
    {
     "name": "stdout",
     "output_type": "stream",
     "text": [
      "              precision    recall  f1-score   support\n",
      "\n",
      "           A       0.85      0.78      0.82        82\n",
      "           B       0.57      0.68      0.62        31\n",
      "           C       0.50      0.43      0.46         7\n",
      "           D       0.00      0.00      0.00         1\n",
      "\n",
      "    accuracy                           0.73       121\n",
      "   macro avg       0.48      0.47      0.47       121\n",
      "weighted avg       0.75      0.73      0.74       121\n",
      "\n"
     ]
    }
   ],
   "source": [
    "# View the classification report for test data and predictions\n",
    "print(classification_report(y_test, y_pred, zero_division=0))"
   ]
  },
  {
   "cell_type": "code",
   "execution_count": 23,
   "metadata": {},
   "outputs": [
    {
     "data": {
      "image/png": "[encoded data removed]",
      "text/plain": [
       "<Figure size 936x504 with 2 Axes>"
      ]
     },
     "metadata": {
      "needs_background": "light"
     },
     "output_type": "display_data"
    }
   ],
   "source": [
    "# Visualizing the confusion matrix with percentages\n",
    "matrix = confusion_matrix(y_test, y_pred)\n",
    "matrix = matrix.astype('float') / matrix.sum(axis=1)[:, np.newaxis]\n",
    "\n",
    "# Build the plot\n",
    "plt.figure(figsize=(13,7))\n",
    "sns.set(font_scale=1.4)\n",
    "sns.heatmap(matrix, annot=True, annot_kws={'size':10},\n",
    "            cmap=plt.cm.Oranges, linewidths=0.2)\n",
    "\n",
    "# Add labels to the plot\n",
    "class_names = ['A','B', 'C', 'D', 'E']\n",
    "tick_marks = np.arange(len(class_names))\n",
    "tick_marks2 = tick_marks + 0.5\n",
    "plt.xticks(tick_marks, class_names, rotation=25)\n",
    "plt.yticks(tick_marks2, class_names, rotation=0)\n",
    "plt.xlabel('Predicted label')\n",
    "plt.ylabel('True label')\n",
    "plt.title('Confusion Matrix for Random Forest Model')\n",
    "plt.show()"
   ]
  },
  {
   "cell_type": "markdown",
   "metadata": {},
   "source": [
    "#### Log Loss "
   ]
  },
  {
   "cell_type": "code",
   "execution_count": 24,
   "metadata": {},
   "outputs": [
    {
     "name": "stdout",
     "output_type": "stream",
     "text": [
      "Log-loss of\n",
      " * uncalibrated classifier: 1.183\n",
      " * calibrated classifier: 0.616\n"
     ]
    }
   ],
   "source": [
    "from sklearn.metrics import log_loss\n",
    "\n",
    "clf_probs = classifier.predict_proba(X_test)\n",
    "cal_clf_probs = cal_clf.predict_proba(X_test)\n",
    "\n",
    "score = log_loss(y_test, clf_probs, labels=['A','B','C','D', 'E'])\n",
    "cal_score = log_loss(y_test, cal_clf_probs, labels=['A','B','C','D', 'E'])\n",
    "\n",
    "print(\"Log-loss of\")\n",
    "print(f\" * uncalibrated classifier: {score:.3f}\")\n",
    "print(f\" * calibrated classifier: {cal_score:.3f}\")"
   ]
  },
  {
   "cell_type": "markdown",
   "metadata": {},
   "source": [
    "According to this [resource](https://medium.com/@fzammito/whats-considered-a-good-log-loss-in-machine-learning-a529d400632d), a relatively high log-loss (significantly larger than 0) is acceptable for the case of a multiclass problem."
   ]
  },
  {
   "cell_type": "markdown",
   "metadata": {},
   "source": [
    "#### Roc/Auc Score"
   ]
  },
  {
   "cell_type": "code",
   "execution_count": 25,
   "metadata": {},
   "outputs": [
    {
     "data": {
      "text/plain": [
       "0.5076400277404425"
      ]
     },
     "execution_count": 25,
     "metadata": {},
     "output_type": "execute_result"
    }
   ],
   "source": [
    "roc_auc_score(y, cal_clf.predict_proba(X), multi_class='ovr')"
   ]
  },
  {
   "cell_type": "markdown",
   "metadata": {},
   "source": [
    "According to the available resources, an Roc/Auc score of 1 would be the best score. The present one is average at best."
   ]
  },
  {
   "cell_type": "markdown",
   "metadata": {},
   "source": [
    "#### Key conclusions\n",
    "\n",
    "##### The results are reasonably satisfactory, in line with the proposed analysis. Not only is the \"A\" (the lowest tier) the most predicted category, but also it is the one with the highest accuracy. In addition, by including the \"class_weight='balanced'\" tuning option, room was opened for predicting the unexpected, namely more higher bins of larger expected investments. In comparison to other cases, however, the accuracy score and the log-loss were not that high."
   ]
  },
  {
   "cell_type": "code",
   "execution_count": null,
   "metadata": {},
   "outputs": [],
   "source": []
  }
 ],
 "metadata": {
  "kernelspec": {
   "display_name": "Python 3",
   "language": "python",
   "name": "python3"
  },
  "language_info": {
   "codemirror_mode": {
    "name": "ipython",
    "version": 3
   },
   "file_extension": ".py",
   "mimetype": "text/x-python",
   "name": "python",
   "nbconvert_exporter": "python",
   "pygments_lexer": "ipython3",
   "version": "3.8.5"
  }
 },
 "nbformat": 4,
 "nbformat_minor": 4
}
